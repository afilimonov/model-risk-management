{
 "cells": [
  {
   "cell_type": "code",
   "execution_count": 147,
   "id": "65ccd812-59e9-43fd-8e4e-e1c38af4bf31",
   "metadata": {
    "tags": []
   },
   "outputs": [
    {
     "name": "stdout",
     "output_type": "stream",
     "text": [
      "Requirement already satisfied: instructor in /opt/conda/lib/python3.11/site-packages (1.7.0)\n",
      "Collecting json_repair\n",
      "  Downloading json_repair-0.31.0-py3-none-any.whl.metadata (11 kB)\n",
      "Requirement already satisfied: anthropic[bedrock] in /opt/conda/lib/python3.11/site-packages (0.40.0)\n",
      "Requirement already satisfied: aiohttp<4.0.0,>=3.9.1 in /opt/conda/lib/python3.11/site-packages (from instructor) (3.11.9)\n",
      "Requirement already satisfied: docstring-parser<0.17,>=0.16 in /opt/conda/lib/python3.11/site-packages (from instructor) (0.16)\n",
      "Requirement already satisfied: jinja2<4.0.0,>=3.1.4 in /opt/conda/lib/python3.11/site-packages (from instructor) (3.1.4)\n",
      "Requirement already satisfied: jiter<0.7,>=0.6.1 in /opt/conda/lib/python3.11/site-packages (from instructor) (0.6.1)\n",
      "Requirement already satisfied: openai<2.0.0,>=1.52.0 in /opt/conda/lib/python3.11/site-packages (from instructor) (1.57.0)\n",
      "Requirement already satisfied: pydantic<3.0.0,>=2.8.0 in /opt/conda/lib/python3.11/site-packages (from instructor) (2.9.2)\n",
      "Requirement already satisfied: pydantic-core<3.0.0,>=2.18.0 in /opt/conda/lib/python3.11/site-packages (from instructor) (2.23.4)\n",
      "Requirement already satisfied: requests<3.0.0,>=2.32.3 in /opt/conda/lib/python3.11/site-packages (from instructor) (2.32.3)\n",
      "Requirement already satisfied: rich<14.0.0,>=13.7.0 in /opt/conda/lib/python3.11/site-packages (from instructor) (13.9.4)\n",
      "Requirement already satisfied: tenacity<10.0.0,>=9.0.0 in /opt/conda/lib/python3.11/site-packages (from instructor) (9.0.0)\n",
      "Requirement already satisfied: typer<1.0.0,>=0.9.0 in /opt/conda/lib/python3.11/site-packages (from instructor) (0.15.1)\n",
      "Requirement already satisfied: anyio<5,>=3.5.0 in /opt/conda/lib/python3.11/site-packages (from anthropic[bedrock]) (4.4.0)\n",
      "Requirement already satisfied: distro<2,>=1.7.0 in /opt/conda/lib/python3.11/site-packages (from anthropic[bedrock]) (1.8.0)\n",
      "Requirement already satisfied: httpx<1,>=0.23.0 in /opt/conda/lib/python3.11/site-packages (from anthropic[bedrock]) (0.27.0)\n",
      "Requirement already satisfied: sniffio in /opt/conda/lib/python3.11/site-packages (from anthropic[bedrock]) (1.3.1)\n",
      "Requirement already satisfied: typing-extensions<5,>=4.7 in /opt/conda/lib/python3.11/site-packages (from anthropic[bedrock]) (4.12.2)\n",
      "Requirement already satisfied: boto3>=1.28.57 in /opt/conda/lib/python3.11/site-packages (from anthropic[bedrock]) (1.34.131)\n",
      "Requirement already satisfied: botocore>=1.31.57 in /opt/conda/lib/python3.11/site-packages (from anthropic[bedrock]) (1.34.131)\n",
      "Requirement already satisfied: aiohappyeyeballs>=2.3.0 in /opt/conda/lib/python3.11/site-packages (from aiohttp<4.0.0,>=3.9.1->instructor) (2.4.4)\n",
      "Requirement already satisfied: aiosignal>=1.1.2 in /opt/conda/lib/python3.11/site-packages (from aiohttp<4.0.0,>=3.9.1->instructor) (1.3.1)\n",
      "Requirement already satisfied: attrs>=17.3.0 in /opt/conda/lib/python3.11/site-packages (from aiohttp<4.0.0,>=3.9.1->instructor) (23.2.0)\n",
      "Requirement already satisfied: frozenlist>=1.1.1 in /opt/conda/lib/python3.11/site-packages (from aiohttp<4.0.0,>=3.9.1->instructor) (1.5.0)\n",
      "Requirement already satisfied: multidict<7.0,>=4.5 in /opt/conda/lib/python3.11/site-packages (from aiohttp<4.0.0,>=3.9.1->instructor) (6.1.0)\n",
      "Requirement already satisfied: propcache>=0.2.0 in /opt/conda/lib/python3.11/site-packages (from aiohttp<4.0.0,>=3.9.1->instructor) (0.2.1)\n",
      "Requirement already satisfied: yarl<2.0,>=1.17.0 in /opt/conda/lib/python3.11/site-packages (from aiohttp<4.0.0,>=3.9.1->instructor) (1.18.3)\n",
      "Requirement already satisfied: idna>=2.8 in /opt/conda/lib/python3.11/site-packages (from anyio<5,>=3.5.0->anthropic[bedrock]) (3.7)\n",
      "Requirement already satisfied: jmespath<2.0.0,>=0.7.1 in /opt/conda/lib/python3.11/site-packages (from boto3>=1.28.57->anthropic[bedrock]) (1.0.1)\n",
      "Requirement already satisfied: s3transfer<0.11.0,>=0.10.0 in /opt/conda/lib/python3.11/site-packages (from boto3>=1.28.57->anthropic[bedrock]) (0.10.1)\n",
      "Requirement already satisfied: python-dateutil<3.0.0,>=2.1 in /opt/conda/lib/python3.11/site-packages (from botocore>=1.31.57->anthropic[bedrock]) (2.9.0)\n",
      "Requirement already satisfied: urllib3!=2.2.0,<3,>=1.25.4 in /opt/conda/lib/python3.11/site-packages (from botocore>=1.31.57->anthropic[bedrock]) (2.1.0)\n",
      "Requirement already satisfied: certifi in /opt/conda/lib/python3.11/site-packages (from httpx<1,>=0.23.0->anthropic[bedrock]) (2024.6.2)\n",
      "Requirement already satisfied: httpcore==1.* in /opt/conda/lib/python3.11/site-packages (from httpx<1,>=0.23.0->anthropic[bedrock]) (1.0.5)\n",
      "Requirement already satisfied: h11<0.15,>=0.13 in /opt/conda/lib/python3.11/site-packages (from httpcore==1.*->httpx<1,>=0.23.0->anthropic[bedrock]) (0.14.0)\n",
      "Requirement already satisfied: MarkupSafe>=2.0 in /opt/conda/lib/python3.11/site-packages (from jinja2<4.0.0,>=3.1.4->instructor) (2.1.5)\n",
      "Requirement already satisfied: tqdm>4 in /opt/conda/lib/python3.11/site-packages (from openai<2.0.0,>=1.52.0->instructor) (4.66.1)\n",
      "Requirement already satisfied: annotated-types>=0.6.0 in /opt/conda/lib/python3.11/site-packages (from pydantic<3.0.0,>=2.8.0->instructor) (0.7.0)\n",
      "Requirement already satisfied: charset-normalizer<4,>=2 in /opt/conda/lib/python3.11/site-packages (from requests<3.0.0,>=2.32.3->instructor) (3.3.2)\n",
      "Requirement already satisfied: markdown-it-py>=2.2.0 in /opt/conda/lib/python3.11/site-packages (from rich<14.0.0,>=13.7.0->instructor) (3.0.0)\n",
      "Requirement already satisfied: pygments<3.0.0,>=2.13.0 in /opt/conda/lib/python3.11/site-packages (from rich<14.0.0,>=13.7.0->instructor) (2.18.0)\n",
      "Requirement already satisfied: click>=8.0.0 in /opt/conda/lib/python3.11/site-packages (from typer<1.0.0,>=0.9.0->instructor) (8.1.7)\n",
      "Requirement already satisfied: shellingham>=1.3.0 in /opt/conda/lib/python3.11/site-packages (from typer<1.0.0,>=0.9.0->instructor) (1.5.4)\n",
      "Requirement already satisfied: mdurl~=0.1 in /opt/conda/lib/python3.11/site-packages (from markdown-it-py>=2.2.0->rich<14.0.0,>=13.7.0->instructor) (0.1.2)\n",
      "Requirement already satisfied: six>=1.5 in /opt/conda/lib/python3.11/site-packages (from python-dateutil<3.0.0,>=2.1->botocore>=1.31.57->anthropic[bedrock]) (1.16.0)\n",
      "Downloading json_repair-0.31.0-py3-none-any.whl (19 kB)\n",
      "Installing collected packages: json_repair\n",
      "Successfully installed json_repair-0.31.0\n",
      "\u001b[33mWARNING: Running pip as the 'root' user can result in broken permissions and conflicting behaviour with the system package manager. It is recommended to use a virtual environment instead: https://pip.pypa.io/warnings/venv\u001b[0m\u001b[33m\n",
      "\u001b[0m"
     ]
    }
   ],
   "source": [
    "!pip install instructor anthropic[bedrock] json_repair"
   ]
  },
  {
   "cell_type": "code",
   "execution_count": 148,
   "id": "01516bc4-d95d-437a-9cb0-57cc0704910c",
   "metadata": {
    "tags": []
   },
   "outputs": [],
   "source": [
    "import instructor\n",
    "from anthropic import AnthropicBedrock\n",
    "from pydantic import BaseModel\n",
    "from typing import List\n",
    "from IPython.display import Markdown, display\n",
    "from tabulate import tabulate\n",
    "import textwrap\n",
    "import json\n",
    "import json_repair\n",
    "from utils import read_file, save_file"
   ]
  },
  {
   "cell_type": "code",
   "execution_count": 53,
   "id": "6870c9e2-58f0-49c1-bd0b-1654c37bc16f",
   "metadata": {
    "tags": []
   },
   "outputs": [],
   "source": [
    "i_client = instructor.from_anthropic(AnthropicBedrock())\n",
    "a_client = AnthropicBedrock()"
   ]
  },
  {
   "cell_type": "code",
   "execution_count": 44,
   "id": "0724335f-8bcc-4ae7-b9ef-ed3b089304d6",
   "metadata": {
    "tags": []
   },
   "outputs": [],
   "source": [
    "class User(BaseModel):\n",
    "    name: str\n",
    "    age: int"
   ]
  },
  {
   "cell_type": "code",
   "execution_count": 45,
   "id": "5a6d507e-b323-4735-bf3d-1dbc7e0261d3",
   "metadata": {
    "tags": []
   },
   "outputs": [],
   "source": [
    "# note that client.chat.completions.create will also work\n",
    "resp = i_client.messages.create(\n",
    "    model=\"anthropic.claude-3-haiku-20240307-v1:0\",\n",
    "    max_tokens=1024,\n",
    "    messages=[\n",
    "        {\n",
    "            \"role\": \"user\",\n",
    "            \"content\": \"Extract Jason is 25 years old.\",\n",
    "        }\n",
    "    ],\n",
    "    response_model=User,\n",
    ")"
   ]
  },
  {
   "cell_type": "code",
   "execution_count": 46,
   "id": "a5324516-8c3e-4e78-8c24-e7525718406d",
   "metadata": {
    "tags": []
   },
   "outputs": [
    {
     "data": {
      "text/plain": [
       "User(name='Jason', age=25)"
      ]
     },
     "execution_count": 46,
     "metadata": {},
     "output_type": "execute_result"
    }
   ],
   "source": [
    "assert isinstance(resp, User)\n",
    "assert resp.name == \"Jason\"\n",
    "assert resp.age == 25\n",
    "resp"
   ]
  },
  {
   "cell_type": "code",
   "execution_count": 106,
   "id": "78fc9da5-a9e7-41c4-b4c4-5dd7c5d9ea09",
   "metadata": {},
   "outputs": [],
   "source": [
    "ab_guidance = read_file('data/whitepaper/AB_2013-07_Model_Risk_Management_Guidance.md')\n",
    "moody_paper = read_file('data/whitepaper/riskcalc-3.1-whitepaper.md')"
   ]
  },
  {
   "cell_type": "code",
   "execution_count": 48,
   "id": "8c876565-1175-4679-8b10-9067124e1a92",
   "metadata": {
    "tags": []
   },
   "outputs": [],
   "source": [
    "class Task(BaseModel):\n",
    "    description: str\n",
    "    instructons: str\n",
    "    exmaples: str"
   ]
  },
  {
   "cell_type": "code",
   "execution_count": 102,
   "id": "eacd03ff-84bc-4bf9-b1d4-87002ee3d95a",
   "metadata": {
    "tags": []
   },
   "outputs": [],
   "source": [
    "def generate_tasks(question, document, model=\"anthropic.claude-3-haiku-20240307-v1:0\"):\n",
    "    message = f\"\"\"\n",
    "    Generate a comprehensive list of model analysis tasks based on provided model whitepaper. Each task includes short description, detailed instructions and list of examples to answer this question: {question}.\n",
    "    Be as detailed as possible. Number of identified tasks should ensure comprehensive analysis.\n",
    "    Your response should be a valid json object and nothing else.\n",
    "    \"\"\"\n",
    "    example = \"\"\"\n",
    "      Example:\n",
    "    {'tasks': [\n",
    "        {\n",
    "         'descripiton': 'task desciption',\n",
    "         'insturctions': 'task instructions',\n",
    "         'examples': ['example', 'example',...]\n",
    "        },\n",
    "      ...\n",
    "     ]}\n",
    "    \"\"\"\n",
    "    whitepaper = f\"\"\"\n",
    "    <whitepaper>\n",
    "    {document}\n",
    "    </whitepaper>\n",
    "    \"\"\"\n",
    "\n",
    "    return a_client.messages.create(\n",
    "        model=model,\n",
    "        system= whitepaper,\n",
    "        max_tokens=3000,\n",
    "        messages=[\n",
    "            {\n",
    "                \"role\": \"user\",\n",
    "                \"content\": message + example,\n",
    "            }\n",
    "        ]#,\n",
    "        #response_model=Task,\n",
    "        )"
   ]
  },
  {
   "cell_type": "code",
   "execution_count": 103,
   "id": "7c79892c-f49a-4a34-bce9-c1cfe898dd69",
   "metadata": {
    "tags": []
   },
   "outputs": [
    {
     "data": {
      "text/markdown": [
       "```json\n",
       "{\n",
       "    \"tasks\": [\n",
       "        {\n",
       "            \"description\": \"Assess the model's performance during periods of economic stress and volatility\",\n",
       "            \"instructions\": \"Review the model validation results in Section 4 of the whitepaper, specifically the analysis of model performance over the credit cycle. Identify how the model's predictive power and calibration changes during periods of high default rates and economic volatility, such as the 1998-2002 period. Assess whether the model's performance is stable across different economic conditions, or if it exhibits sensitivity to the credit environment.\",\n",
       "            \"examples\": [\n",
       "                \"Evaluate the model's accuracy ratio and likelihood gains during the 1998-2002 period of high default rates compared to other time periods\",\n",
       "                \"Analyze how well the model's default probability estimates align with realized default rates during periods of economic stress\",\n",
       "                \"Assess whether the model's ranking of credits from high to low risk remains consistent across different credit environments\"\n",
       "            ]\n",
       "        },\n",
       "        {\n",
       "            \"description\": \"Examine the model's ability to capture industry-specific effects during stagflation\",\n",
       "            \"instructions\": \"Review the discussion in Section 3.3 on the importance of controlling for industry variation in the RiskCalc v3.1 model. Assess whether the model's industry-specific adjustments would adequately capture the differential impact of stagflation on various sectors. Identify any potential limitations in the industry modeling approach that could affect the model's performance during a stagflation scenario.\",\n",
       "            \"examples\": [\n",
       "                \"Evaluate how well the model's industry-level adjustments would account for the varying impact of rising prices and stagnant economic growth on different industries\",\n",
       "                \"Assess whether the model's industry classifications are granular enough to capture heterogeneous effects within broader sectors during a stagflation environment\",\n",
       "                \"Analyze the stability of the industry-level parameters in the model and whether they would remain representative during a stagflation scenario\"\n",
       "            ]\n",
       "        },\n",
       "        {\n",
       "            \"description\": \"Examine the model's ability to incorporate forward-looking market information during stagflation\",\n",
       "            \"instructions\": \"Review the discussion in Section 3.2 on the use of the distance-to-default measure to incorporate forward-looking market information into the RiskCalc v3.1 model. Assess whether this market-based input would continue to provide reliable leading indicators of default risk during a stagflation scenario, where equity market performance may diverge from underlying credit conditions.\",\n",
       "            \"examples\": [\n",
       "                \"Evaluate how well the distance-to-default measure would capture the market's assessment of default risk during a stagflation environment, where equity prices may not fully reflect the deterioration in credit quality\",\n",
       "                \"Analyze the timeliness and responsiveness of the distance-to-default measure in signaling changes in default risk compared to firm-specific financial statement information during stagflation\",\n",
       "                \"Assess the model's ability to differentiate the impact of systematic market factors versus idiosyncratic firm-specific factors on default risk during a stagflation scenario\"\n",
       "            ]\n",
       "        },\n",
       "        {\n",
       "            \"description\": \"Assess the model's sensitivity to changes in key financial ratios during stagflation\",\n",
       "            \"instructions\": \"Review the list of financial ratios used in the RiskCalc v3.1 model's Financial Statement Only (FSO) mode in the Appendix. Identify which ratios are likely to be most affected by the unique characteristics of a stagflation environment, such as rising prices, stagnant economic growth, and potential accounting distortions. Assess the model's robustness to changes in these key ratios during a stagflation scenario.\",\n",
       "            \"examples\": [\n",
       "                \"Evaluate the impact of changes in profitability ratios (e.g., ROA) on the model's default probability estimates during a stagflation environment\",\n",
       "                \"Analyze the sensitivity of the model's leverage and debt coverage ratios to the potential distortions in financial statements caused by stagflation\",\n",
       "                \"Assess how changes in growth and activity ratios (e.g., sales growth, inventory turnover) would affect the model's performance in a stagflation scenario\"\n",
       "            ]\n",
       "        },\n",
       "        {\n",
       "            \"description\": \"Examine the model's ability to provide accurate default probability estimates during stagflation\",\n",
       "            \"instructions\": \"Review the discussion in Section 4 on the model's calibration, or its ability to accurately predict default rates. Assess whether the model's calibration would remain stable during a stagflation environment, where default rates may deviate from historical patterns. Identify any potential limitations in the model's ability to provide reliable default probability estimates under stagflation conditions.\",\n",
       "            \"examples\": [\n",
       "                \"Analyze how well the model's default probability estimates would align with realized default rates during a stagflation scenario, where the relationship between firm characteristics and default risk may change\",\n",
       "                \"Evaluate the model's performance in accurately predicting default rates for different industry sectors that may be impacted differently by stagflation\",\n",
       "                \"Assess the model's ability to provide accurate default probability estimates at different risk levels (e.g., high-risk, low-risk credits) during a stagflation environment\"\n",
       "            ]\n",
       "        },\n",
       "        {\n",
       "            \"description\": \"Evaluate the model's stress testing capabilities in a stagflation scenario\",\n",
       "            \"instructions\": \"Review the discussion in Section 2.3 on the model's stress testing features, which allow users to assess a firm's sensitivity to default risk under different economic conditions. Assess the model's ability to provide meaningful stress test results for a stagflation environment, where both systematic market factors and firm-specific factors may be significantly impacted.\",\n",
       "            \"examples\": [\n",
       "                \"Analyze the model's capability to simulate a firm's default probability under different stagflation scenarios, such as varying degrees of economic growth, inflation, and industry-specific effects\",\n",
       "                \"Evaluate the model's ability to differentiate the impact of systematic market risks versus firm-specific risks on default probability during a stagflation stress test\",\n",
       "                \"Assess the model's stress testing results for firms in industries that may be particularly vulnerable to the unique challenges of a stagflation environment\"\n",
       "            ]\n",
       "        },\n",
       "        {\n",
       "            \"description\": \"Review the model's data quality management processes in the context of a stagflation environment\",\n",
       "            \"instructions\": \"Examine the model's data quality management techniques discussed in Section 3.4.1, such as the use of Benford's Law and the detection of misclassification errors. Assess whether these techniques would be effective in identifying and addressing potential data quality issues that may arise during a stagflation scenario, where accounting practices and data reporting may be distorted.\",\n",
       "            \"examples\": [\n",
       "                \"Evaluate the model's ability to detect potential rounding errors or other accounting anomalies in financial statements that may become more prevalent during a stagflation environment\",\n",
       "                \"Analyze the model's effectiveness in identifying and correcting misclassification errors in the identification of default events, which may be more challenging to capture during periods of economic stress\",\n",
       "                \"Assess the model's robustness to changes in data quality and reporting practices that may occur during a stagflation scenario\"\n",
       "            ]\n",
       "        },\n",
       "        {\n",
       "            \"description\": \"Assess the model's validation and performance testing in the context of a stagflation environment\",\n",
       "            \"instructions\": \"Review the comprehensive validation approach described in Section 4, including out-of-sample testing, walk-forward analysis, and the use of a pure holdout sample. Evaluate whether these validation techniques would adequately test the model's performance and stability in a stagflation scenario, where the relationship between firm characteristics and default risk may be different from historical patterns.\",\n",
       "            \"examples\": [\n",
       "                \"Analyze the model's performance on the holdout sample in Section 4.3, and assess whether the results would be representative of the model's behavior during a stagflation environment\",\n",
       "                \"Evaluate the model's stability and consistency across the various out-of-sample and out-of-time testing approaches described, and identify any potential vulnerabilities to the unique characteristics of a stagflation scenario\",\n",
       "                \"Assess the comprehensiveness of the model's validation in capturing the potential impact of systematic and idiosyncratic factors on default risk during a stagflation environment\"\n",
       "            ]\n",
       "        }\n",
       "    ]\n",
       "}\n",
       "```"
      ],
      "text/plain": [
       "<IPython.core.display.Markdown object>"
      ]
     },
     "metadata": {},
     "output_type": "display_data"
    }
   ],
   "source": [
    "qq = ['Identify any specific limitations and model usage risk in stagflation environment']#,\n",
    "      #'Indentify any specific limitations and model usage risks in hyper-inflation scenario']\n",
    "\n",
    "for i, q in enumerate(qq):\n",
    "    tasks = generate_tasks(q, moody_paper)#, model= 'anthropic.claude-3-sonnet-20240229-v1:0')\n",
    "    #display(Markdown(f\"```json\\n{tasks.content[0].text}```\"))\n",
    "    display(Markdown(f\"```json\\n{tasks.content[0].text}\\n```\"))\n"
   ]
  },
  {
   "cell_type": "code",
   "execution_count": 149,
   "id": "79ca7c64-291e-4bcf-b0a6-df7789a117a9",
   "metadata": {},
   "outputs": [],
   "source": [
    "def generate_compliance_tasks(question, document, model=\"anthropic.claude-3-haiku-20240307-v1:0\"):\n",
    "    message = f\"\"\"\n",
    "    Generate a comprehensive list of tasks to be used to analyze model whitepare compiance with provided AB guidance. Each task includes short description, detailed instructions and list of examples to answer this compliance question: {question}.\n",
    "    Be as detailed as possible. Number of identified tasks should ensure comprehensive analysis.\n",
    "    Your response should be a valid json object and nothing else. It should pass json validation when creating loading response into json object using joson.loads python funciton.\n",
    "    \"\"\"\n",
    "    example = \"\"\"\n",
    "      Example:\n",
    "    {[\n",
    "        {\n",
    "         'description': 'task desciption',\n",
    "         'insturctions': 'task instructions',\n",
    "         'examples': ['example', 'example',...]\n",
    "        },\n",
    "      ...\n",
    "     ]}\n",
    "    \"\"\"\n",
    "    guidance = f\"\"\"\n",
    "    <guidnace>\n",
    "    {document}\n",
    "    </guidnace>\n",
    "    \"\"\"\n",
    "\n",
    "    tasks = a_client.messages.create(\n",
    "        model=model,\n",
    "        system= guidance,\n",
    "        max_tokens=3000,\n",
    "        temperature=0,\n",
    "        messages=[\n",
    "            {\n",
    "                \"role\": \"user\",\n",
    "                \"content\": message + example,\n",
    "            }\n",
    "        ])\n",
    "    #print(tasks.content[0].text)\n",
    "    return json_repair.loads(tasks.content[0].text)"
   ]
  },
  {
   "cell_type": "code",
   "execution_count": 151,
   "id": "f72e3456-9727-4157-9e40-3b836d7d3993",
   "metadata": {
    "tags": []
   },
   "outputs": [
    {
     "data": {
      "text/markdown": [
       "## Assess model whitepaper for compliance with AB guidance"
      ],
      "text/plain": [
       "<IPython.core.display.Markdown object>"
      ]
     },
     "metadata": {},
     "output_type": "display_data"
    },
    {
     "data": {
      "text/markdown": [
       "| Task                                               | Instructions                                                                                                                                                                                        | Examples                                                                                                                                                                                                                                                                                                                                                                                                                       |\n",
       "|:---------------------------------------------------|:----------------------------------------------------------------------------------------------------------------------------------------------------------------------------------------------------|:-------------------------------------------------------------------------------------------------------------------------------------------------------------------------------------------------------------------------------------------------------------------------------------------------------------------------------------------------------------------------------------------------------------------------------|\n",
       "| Assess model inventory management                  | Review the model whitepaper to ensure the following:                                                                                                                                                | ['Verify the model inventory includes all models that affect risk management, business decisions, and financial statements and disclosures.', 'Ensure the inventory captures the version number of vendor models in use as well as the latest version available in the marketplace.', 'Confirm the inventory includes a model use inventory that lists all upstream and downstream applications of core or component models.'] |\n",
       "|                                                    | - The entity maintains a comprehensive inventory of all models, including internally developed models, vendor models, and models shared with other regulated entities.                              |                                                                                                                                                                                                                                                                                                                                                                                                                                |\n",
       "|                                                    | - The inventory includes key attributes of each model such as its use, purpose, classification, owner, governance committee, last update, and validation schedule.                                  |                                                                                                                                                                                                                                                                                                                                                                                                                                |\n",
       "|                                                    | - For large, complex enterprises, the inventory also includes major assumptions, key sensitivities, performance thresholds, and significant adjustments for each model.                             |                                                                                                                                                                                                                                                                                                                                                                                                                                |\n",
       "|                                                    | - The inventory is updated at least quarterly.                                                                                                                                                      |                                                                                                                                                                                                                                                                                                                                                                                                                                |\n",
       "| Assess model change and version control management | Review the model whitepaper to ensure the following:                                                                                                                                                | ['Verify the entity has defined thresholds to determine what constitutes a significant model change that requires validation and approval.', 'Ensure the change control log provides a clear audit trail of model changes.', 'Confirm the entity has a process to validate and approve significant model changes before implementation.']                                                                                      |\n",
       "|                                                    | - The entity has robust model change controls in place with clearly defined roles and responsibilities.                                                                                             |                                                                                                                                                                                                                                                                                                                                                                                                                                |\n",
       "|                                                    | - Only approved parties are allowed to alter a model's code.                                                                                                                                        |                                                                                                                                                                                                                                                                                                                                                                                                                                |\n",
       "|                                                    | - Each model has a change control log that documents when the model was changed, the nature of the change, who was responsible, and who approved the change.                                        |                                                                                                                                                                                                                                                                                                                                                                                                                                |\n",
       "|                                                    | - All significant model changes are validated and approved prior to deployment into production.                                                                                                     |                                                                                                                                                                                                                                                                                                                                                                                                                                |\n",
       "| Assess model performance tracking                  | Review the model whitepaper to ensure the following:                                                                                                                                                | ['Verify the entity has defined performance thresholds for its models and reviews them at least annually.', 'Ensure the entity compares model projections to actual results through backtesting and benchmarks model performance against alternative sources.', 'Confirm the entity has a process to address model performance issues that exceed thresholds, including making adjustments or pursuing longer-term remedies.'] |\n",
       "|                                                    | - The entity monitors the performance of its mission-critical or high-risk models at least quarterly.                                                                                               |                                                                                                                                                                                                                                                                                                                                                                                                                                |\n",
       "|                                                    | - Performance monitoring includes routine model backtesting, benchmarking, and stress testing.                                                                                                      |                                                                                                                                                                                                                                                                                                                                                                                                                                |\n",
       "|                                                    | - The entity has approved thresholds for acceptable model performance, and the model risk management group reports results to the relevant oversight committees.                                    |                                                                                                                                                                                                                                                                                                                                                                                                                                |\n",
       "|                                                    | - If performance issues exceed thresholds, the entity has a process to consider the implications and decide on appropriate adjustments or remedies.                                                 |                                                                                                                                                                                                                                                                                                                                                                                                                                |\n",
       "| Assess model assumptions and adjustments           | Review the model whitepaper to ensure the following:                                                                                                                                                | ['Verify the entity documents the source, owner, update frequency, and justification for major model assumptions.', 'Ensure the entity evaluates the reasonableness of assumptions compared to industry practice and documents any departures.', 'Confirm senior management reviews the appropriateness of model assumptions on a regular basis.']                                                                             |\n",
       "|                                                    | - The entity maintains a consolidated list of the major assumptions and adjustments applied to highly risk-ranked or classified models.                                                             |                                                                                                                                                                                                                                                                                                                                                                                                                                |\n",
       "|                                                    | - The entity has a formalized process to document, validate, and update assumptions, historical inputs, or business scenarios used as model inputs.                                                 |                                                                                                                                                                                                                                                                                                                                                                                                                                |\n",
       "|                                                    | - Assumptions are evaluated for appropriateness and reasonableness in light of current business and market conditions, and the entity justifies any departures from industry practice.              |                                                                                                                                                                                                                                                                                                                                                                                                                                |\n",
       "|                                                    | - Senior management reviews assumptions on a regular basis.                                                                                                                                         |                                                                                                                                                                                                                                                                                                                                                                                                                                |\n",
       "| Assess data management                             | Review the model whitepaper to ensure the following:                                                                                                                                                | [\"Verify the entity's data management policy covers both internal and external data sources used in models.\", 'Ensure the policy requires technical documentation of data sources, quality, and sampling methodology to enable independent replication.', 'Confirm the entity reviews the appropriateness and reasonableness of data inputs, including comparing to alternative sources where available.']                     |\n",
       "|                                                    | - The entity has a data management policy, standards, or procedures to establish proper controls and oversight over the extraction, transformation, and output of model data.                       |                                                                                                                                                                                                                                                                                                                                                                                                                                |\n",
       "|                                                    | - The policy requires technical documentation of data sources, quality, sampling methodology, and programming code quality to allow for independent replication.                                    |                                                                                                                                                                                                                                                                                                                                                                                                                                |\n",
       "|                                                    | - The entity reviews both internal and external data sources used as model inputs, including checking against alternative sources where possible.                                                   |                                                                                                                                                                                                                                                                                                                                                                                                                                |\n",
       "| Assess independent model validation                | Review the model whitepaper to ensure the following:                                                                                                                                                | ['Verify the entity has a process to independently validate models before deployment, with limited exceptions approved by governance.', \"Ensure the validation scope covers the model's data, assumptions, theory, mathematics, and output reports.\", 'Confirm the entity has qualified personnel performing the validations and reporting results to senior management and the board.']                                       |\n",
       "|                                                    | - All models are subject to independent validation according to a schedule based on the model's classification or risk ranking.                                                                     |                                                                                                                                                                                                                                                                                                                                                                                                                                |\n",
       "|                                                    | - Newly developed models and those with significant changes undergo validation prior to deployment, with limited exceptions approved by the appropriate governance authorities.                     |                                                                                                                                                                                                                                                                                                                                                                                                                                |\n",
       "|                                                    | - Validation includes assessments of the model's data, assumptions, theory, mathematics, and output reports.                                                                                        |                                                                                                                                                                                                                                                                                                                                                                                                                                |\n",
       "|                                                    | - Validation is performed by qualified personnel with the necessary knowledge, skills, and experience.                                                                                              |                                                                                                                                                                                                                                                                                                                                                                                                                                |\n",
       "|                                                    | - Validation reports are provided to senior management and the board, and all reports are made available to FHFA.                                                                                   |                                                                                                                                                                                                                                                                                                                                                                                                                                |\n",
       "| Assess model assessments and periodic reviews      | Review the model whitepaper to ensure the following:                                                                                                                                                | ['Verify the entity has a process for the model risk management group to annually review model performance and risk levels.', 'Ensure model owners provide an annual attestation of compliance with model policies and procedures.', 'Confirm the entity validates and tests any elevated model risks or findings identified through the annual review process.']                                                              |\n",
       "|                                                    | - The model risk management group conducts an annual review of each model to assess performance and identify new or emerging risks.                                                                 |                                                                                                                                                                                                                                                                                                                                                                                                                                |\n",
       "|                                                    | - Model owners provide an annual attestation of compliance with model policies and procedures.                                                                                                      |                                                                                                                                                                                                                                                                                                                                                                                                                                |\n",
       "|                                                    | - The annual review process updates the risk ratings of models and related findings based on current market conditions, regulations, application changes, and performance history.                  |                                                                                                                                                                                                                                                                                                                                                                                                                                |\n",
       "|                                                    | - The entity validates and tests any elevated risk issues or findings resulting from the annual review.                                                                                             |                                                                                                                                                                                                                                                                                                                                                                                                                                |\n",
       "| Assess model monitoring and findings management    | Review the model whitepaper to ensure the following:                                                                                                                                                | ['Verify the entity collects model risk information from various sources and the CRO reports on aggregate model risk to the board.', 'Ensure the entity has a process to track and remediate model validation findings and other identified issues, with clear escalation procedures.', 'Confirm the entity has a dispute resolution process for challenges to model validation findings or other identified discrepancies.']  |\n",
       "|                                                    | - The entity has effective processes to identify, measure, and monitor model risk from various sources, including audits, testing, and performance tracking.                                        |                                                                                                                                                                                                                                                                                                                                                                                                                                |\n",
       "|                                                    | - The CRO provides regular reports on the aggregate level and direction of model risk to the board.                                                                                                 |                                                                                                                                                                                                                                                                                                                                                                                                                                |\n",
       "|                                                    | - The entity has a clear process to track and remediate model validation findings and other identified model risk issues, with appropriate escalation and oversight.                                |                                                                                                                                                                                                                                                                                                                                                                                                                                |\n",
       "|                                                    | - Higher-risk issues are escalated to management committees for effective oversight and challenge, and the entity has a dispute resolution process for disagreements on findings.                   |                                                                                                                                                                                                                                                                                                                                                                                                                                |\n",
       "| Assess model lifecycle management                  | Review the model whitepaper to ensure the following:                                                                                                                                                | [\"Verify the entity's policies and procedures address the full model lifecycle, from development through retirement.\", 'Ensure internally developed models have a documented development plan aligned with business objectives.', 'Confirm the entity has controls to validate and approve models before production deployment, and maintains comprehensive documentation.']                                                   |\n",
       "|                                                    | - The entity has policies and procedures covering the full model lifecycle, including development, testing, deployment, validation, maintenance, performance tracking, monitoring, and replacement. |                                                                                                                                                                                                                                                                                                                                                                                                                                |\n",
       "|                                                    | - For internally developed models, the development process is aligned with the entity's strategic goals and business objectives, and includes a model development plan.                             |                                                                                                                                                                                                                                                                                                                                                                                                                                |\n",
       "|                                                    | - The entity has appropriate controls in place to monitor and ensure proper model implementation, including validation and approval practices prior to production deployment.                       |                                                                                                                                                                                                                                                                                                                                                                                                                                |\n",
       "|                                                    | - The entity maintains adequate documentation throughout the model lifecycle to enable independent review and facilitate model changes.                                                             |                                                                                                                                                                                                                                                                                                                                                                                                                                |"
      ],
      "text/plain": [
       "<IPython.core.display.Markdown object>"
      ]
     },
     "metadata": {},
     "output_type": "display_data"
    },
    {
     "data": {
      "text/markdown": [
       "## Assess model whitepaper for compliance with AB guidance requirements for model documentation"
      ],
      "text/plain": [
       "<IPython.core.display.Markdown object>"
      ]
     },
     "metadata": {},
     "output_type": "display_data"
    },
    {
     "data": {
      "text/markdown": [
       "| Task                                                                                                     | Instructions                                                                                                                                                                                                                         | Examples                                                                                                                                                                                                                                                                                                                                                                                                                                                                         |\n",
       "|:---------------------------------------------------------------------------------------------------------|:-------------------------------------------------------------------------------------------------------------------------------------------------------------------------------------------------------------------------------------|:---------------------------------------------------------------------------------------------------------------------------------------------------------------------------------------------------------------------------------------------------------------------------------------------------------------------------------------------------------------------------------------------------------------------------------------------------------------------------------|\n",
       "| Assess model whitepaper for compliance with model development documentation requirements                 | Review the model whitepaper to ensure it includes the following documentation related to model development:                                                                                                                          | ['The whitepaper includes detailed documentation of the research, business requirements, and technical requirements used to develop the model.', 'The whitepaper provides a thorough explanation of the theoretical foundation and methodology used to develop the model.', 'The whitepaper clearly documents the business objectives and technical specifications that guided the model development process.']                                                                  |\n",
       "|                                                                                                          | 1. Materials and evidence related to model development, including research, business and technical requirements, and implementation.                                                                                                 |                                                                                                                                                                                                                                                                                                                                                                                                                                                                                  |\n",
       "|                                                                                                          | 2. Documentation of model theory and the model development process to build institutional knowledge.                                                                                                                                 |                                                                                                                                                                                                                                                                                                                                                                                                                                                                                  |\n",
       "|                                                                                                          | 3. Documented business and technical requirements to ensure the model is developed consistent with its intended use and implemented on the appropriate software platform.                                                            |                                                                                                                                                                                                                                                                                                                                                                                                                                                                                  |\n",
       "| Assess model whitepaper for compliance with documentation requirements for vendor-provided models        | Review the model whitepaper to ensure it includes the following documentation related to vendor-provided models:                                                                                                                     | ['The whitepaper includes detailed documentation provided by the vendor on the methodology and components of the model.', 'The whitepaper provides information on the data sources and datasets used by the vendor to develop the model.', \"The whitepaper contains the results of testing performed by the vendor to validate the model's performance.\"]                                                                                                                        |\n",
       "|                                                                                                          | 1. Documentation from the research and development of the vendor model, including information on the modeling approach, model components, and intended use.                                                                          |                                                                                                                                                                                                                                                                                                                                                                                                                                                                                  |\n",
       "|                                                                                                          | 2. Information regarding the data used to develop the vendor model.                                                                                                                                                                  |                                                                                                                                                                                                                                                                                                                                                                                                                                                                                  |\n",
       "|                                                                                                          | 3. Testing results that demonstrate the vendor model works as expected.                                                                                                                                                              |                                                                                                                                                                                                                                                                                                                                                                                                                                                                                  |\n",
       "| Assess model whitepaper for compliance with model operating manual documentation requirements            | Review the model whitepaper to ensure it includes the following documentation in the form of a model operating manual or user's guide:                                                                                               | [\"The whitepaper includes a comprehensive model operating manual that describes the model's objectives, key assumptions, and known limitations.\", 'The whitepaper provides detailed procedures for model maintenance, including steps for updating the model in response to changes in market conditions or business requirements.', 'The whitepaper outlines a training program to ensure model users understand how to properly operate the model and interpret its outputs.'] |\n",
       "|                                                                                                          | 1. A clear description of the model's purpose, assumptions, and limitations.                                                                                                                                                         |                                                                                                                                                                                                                                                                                                                                                                                                                                                                                  |\n",
       "|                                                                                                          | 2. Procedures for operating, maintaining, and updating the model.                                                                                                                                                                    |                                                                                                                                                                                                                                                                                                                                                                                                                                                                                  |\n",
       "|                                                                                                          | 3. Guidance on staff training for proper model usage.                                                                                                                                                                                |                                                                                                                                                                                                                                                                                                                                                                                                                                                                                  |\n",
       "| Assess model whitepaper for compliance with documentation requirements for model maintenance and updates | Review the model whitepaper to ensure it includes the following documentation related to model maintenance and updates:                                                                                                              | ['The whitepaper includes detailed records of model performance monitoring, testing, and any updates or modifications made to the model over time.', 'The whitepaper documents the procedures used to maintain the model, including steps for addressing validation findings or other identified issues.', 'The whitepaper clearly outlines the governance and approval process for making changes or updates to the model.']                                                    |\n",
       "|                                                                                                          | 1. Materials and evidence that the model is being properly maintained, including model-specific procedures, performance tracking results, and testing conducted in response to validation findings or other identified model issues. |                                                                                                                                                                                                                                                                                                                                                                                                                                                                                  |\n",
       "|                                                                                                          | 2. Documentation of any changes or updates made to the model, including the rationale and approval process for such changes.                                                                                                         |                                                                                                                                                                                                                                                                                                                                                                                                                                                                                  |\n",
       "| Assess model whitepaper for compliance with documentation storage and backup requirements                | Review the model whitepaper to ensure it includes information on the storage and backup of model documentation:                                                                                                                      | ['The whitepaper states that copies of the model documentation are maintained in a secure, off-site storage facility to ensure the information can be retrieved in the event of a disaster.', \"The whitepaper describes the backup and storage procedures in place to protect the model's documentation and ensure its availability in the event of an emergency.\"]                                                                                                              |\n",
       "|                                                                                                          | 1. Confirmation that copies of the model documentation are stored in a safe, off-site location to facilitate disaster recovery.                                                                                                      |                                                                                                                                                                                                                                                                                                                                                                                                                                                                                  |"
      ],
      "text/plain": [
       "<IPython.core.display.Markdown object>"
      ]
     },
     "metadata": {},
     "output_type": "display_data"
    }
   ],
   "source": [
    "qq = ['Assess model whitepaper for compliance with AB guidance',\n",
    "      'Assess model whitepaper for compliance with AB guidance requirements for model documentation']\n",
    "\n",
    "for i, q in enumerate(qq):\n",
    "    tasks = generate_compliance_tasks(q, ab_guidance)#, model= 'anthropic.claude-3-sonnet-20240229-v1:0')\n",
    "    title = (f\"## {q}\")\n",
    "    display(Markdown(title))\n",
    "    headers = ['Task', 'Instructions', 'Examples']\n",
    "    data = []\n",
    "    for task in tasks['tasks']:\n",
    "        data.append([task['description'], task['instructions'], task['examples']])\n",
    "    #display(Markdown(f\"```json\\n{json.dumps(tasks)}\\n```\"))\n",
    "    display(Markdown(tabulate(data, headers=headers, tablefmt='pipe')))\n"
   ]
  },
  {
   "cell_type": "code",
   "execution_count": null,
   "id": "e2413be4-707a-41a0-9334-16e57041c11c",
   "metadata": {},
   "outputs": [],
   "source": []
  }
 ],
 "metadata": {
  "availableInstances": [
   {
    "_defaultOrder": 0,
    "_isFastLaunch": true,
    "category": "General purpose",
    "gpuNum": 0,
    "hideHardwareSpecs": false,
    "memoryGiB": 4,
    "name": "ml.t3.medium",
    "vcpuNum": 2
   },
   {
    "_defaultOrder": 1,
    "_isFastLaunch": false,
    "category": "General purpose",
    "gpuNum": 0,
    "hideHardwareSpecs": false,
    "memoryGiB": 8,
    "name": "ml.t3.large",
    "vcpuNum": 2
   },
   {
    "_defaultOrder": 2,
    "_isFastLaunch": false,
    "category": "General purpose",
    "gpuNum": 0,
    "hideHardwareSpecs": false,
    "memoryGiB": 16,
    "name": "ml.t3.xlarge",
    "vcpuNum": 4
   },
   {
    "_defaultOrder": 3,
    "_isFastLaunch": false,
    "category": "General purpose",
    "gpuNum": 0,
    "hideHardwareSpecs": false,
    "memoryGiB": 32,
    "name": "ml.t3.2xlarge",
    "vcpuNum": 8
   },
   {
    "_defaultOrder": 4,
    "_isFastLaunch": true,
    "category": "General purpose",
    "gpuNum": 0,
    "hideHardwareSpecs": false,
    "memoryGiB": 8,
    "name": "ml.m5.large",
    "vcpuNum": 2
   },
   {
    "_defaultOrder": 5,
    "_isFastLaunch": false,
    "category": "General purpose",
    "gpuNum": 0,
    "hideHardwareSpecs": false,
    "memoryGiB": 16,
    "name": "ml.m5.xlarge",
    "vcpuNum": 4
   },
   {
    "_defaultOrder": 6,
    "_isFastLaunch": false,
    "category": "General purpose",
    "gpuNum": 0,
    "hideHardwareSpecs": false,
    "memoryGiB": 32,
    "name": "ml.m5.2xlarge",
    "vcpuNum": 8
   },
   {
    "_defaultOrder": 7,
    "_isFastLaunch": false,
    "category": "General purpose",
    "gpuNum": 0,
    "hideHardwareSpecs": false,
    "memoryGiB": 64,
    "name": "ml.m5.4xlarge",
    "vcpuNum": 16
   },
   {
    "_defaultOrder": 8,
    "_isFastLaunch": false,
    "category": "General purpose",
    "gpuNum": 0,
    "hideHardwareSpecs": false,
    "memoryGiB": 128,
    "name": "ml.m5.8xlarge",
    "vcpuNum": 32
   },
   {
    "_defaultOrder": 9,
    "_isFastLaunch": false,
    "category": "General purpose",
    "gpuNum": 0,
    "hideHardwareSpecs": false,
    "memoryGiB": 192,
    "name": "ml.m5.12xlarge",
    "vcpuNum": 48
   },
   {
    "_defaultOrder": 10,
    "_isFastLaunch": false,
    "category": "General purpose",
    "gpuNum": 0,
    "hideHardwareSpecs": false,
    "memoryGiB": 256,
    "name": "ml.m5.16xlarge",
    "vcpuNum": 64
   },
   {
    "_defaultOrder": 11,
    "_isFastLaunch": false,
    "category": "General purpose",
    "gpuNum": 0,
    "hideHardwareSpecs": false,
    "memoryGiB": 384,
    "name": "ml.m5.24xlarge",
    "vcpuNum": 96
   },
   {
    "_defaultOrder": 12,
    "_isFastLaunch": false,
    "category": "General purpose",
    "gpuNum": 0,
    "hideHardwareSpecs": false,
    "memoryGiB": 8,
    "name": "ml.m5d.large",
    "vcpuNum": 2
   },
   {
    "_defaultOrder": 13,
    "_isFastLaunch": false,
    "category": "General purpose",
    "gpuNum": 0,
    "hideHardwareSpecs": false,
    "memoryGiB": 16,
    "name": "ml.m5d.xlarge",
    "vcpuNum": 4
   },
   {
    "_defaultOrder": 14,
    "_isFastLaunch": false,
    "category": "General purpose",
    "gpuNum": 0,
    "hideHardwareSpecs": false,
    "memoryGiB": 32,
    "name": "ml.m5d.2xlarge",
    "vcpuNum": 8
   },
   {
    "_defaultOrder": 15,
    "_isFastLaunch": false,
    "category": "General purpose",
    "gpuNum": 0,
    "hideHardwareSpecs": false,
    "memoryGiB": 64,
    "name": "ml.m5d.4xlarge",
    "vcpuNum": 16
   },
   {
    "_defaultOrder": 16,
    "_isFastLaunch": false,
    "category": "General purpose",
    "gpuNum": 0,
    "hideHardwareSpecs": false,
    "memoryGiB": 128,
    "name": "ml.m5d.8xlarge",
    "vcpuNum": 32
   },
   {
    "_defaultOrder": 17,
    "_isFastLaunch": false,
    "category": "General purpose",
    "gpuNum": 0,
    "hideHardwareSpecs": false,
    "memoryGiB": 192,
    "name": "ml.m5d.12xlarge",
    "vcpuNum": 48
   },
   {
    "_defaultOrder": 18,
    "_isFastLaunch": false,
    "category": "General purpose",
    "gpuNum": 0,
    "hideHardwareSpecs": false,
    "memoryGiB": 256,
    "name": "ml.m5d.16xlarge",
    "vcpuNum": 64
   },
   {
    "_defaultOrder": 19,
    "_isFastLaunch": false,
    "category": "General purpose",
    "gpuNum": 0,
    "hideHardwareSpecs": false,
    "memoryGiB": 384,
    "name": "ml.m5d.24xlarge",
    "vcpuNum": 96
   },
   {
    "_defaultOrder": 20,
    "_isFastLaunch": false,
    "category": "General purpose",
    "gpuNum": 0,
    "hideHardwareSpecs": true,
    "memoryGiB": 0,
    "name": "ml.geospatial.interactive",
    "supportedImageNames": [
     "sagemaker-geospatial-v1-0"
    ],
    "vcpuNum": 0
   },
   {
    "_defaultOrder": 21,
    "_isFastLaunch": true,
    "category": "Compute optimized",
    "gpuNum": 0,
    "hideHardwareSpecs": false,
    "memoryGiB": 4,
    "name": "ml.c5.large",
    "vcpuNum": 2
   },
   {
    "_defaultOrder": 22,
    "_isFastLaunch": false,
    "category": "Compute optimized",
    "gpuNum": 0,
    "hideHardwareSpecs": false,
    "memoryGiB": 8,
    "name": "ml.c5.xlarge",
    "vcpuNum": 4
   },
   {
    "_defaultOrder": 23,
    "_isFastLaunch": false,
    "category": "Compute optimized",
    "gpuNum": 0,
    "hideHardwareSpecs": false,
    "memoryGiB": 16,
    "name": "ml.c5.2xlarge",
    "vcpuNum": 8
   },
   {
    "_defaultOrder": 24,
    "_isFastLaunch": false,
    "category": "Compute optimized",
    "gpuNum": 0,
    "hideHardwareSpecs": false,
    "memoryGiB": 32,
    "name": "ml.c5.4xlarge",
    "vcpuNum": 16
   },
   {
    "_defaultOrder": 25,
    "_isFastLaunch": false,
    "category": "Compute optimized",
    "gpuNum": 0,
    "hideHardwareSpecs": false,
    "memoryGiB": 72,
    "name": "ml.c5.9xlarge",
    "vcpuNum": 36
   },
   {
    "_defaultOrder": 26,
    "_isFastLaunch": false,
    "category": "Compute optimized",
    "gpuNum": 0,
    "hideHardwareSpecs": false,
    "memoryGiB": 96,
    "name": "ml.c5.12xlarge",
    "vcpuNum": 48
   },
   {
    "_defaultOrder": 27,
    "_isFastLaunch": false,
    "category": "Compute optimized",
    "gpuNum": 0,
    "hideHardwareSpecs": false,
    "memoryGiB": 144,
    "name": "ml.c5.18xlarge",
    "vcpuNum": 72
   },
   {
    "_defaultOrder": 28,
    "_isFastLaunch": false,
    "category": "Compute optimized",
    "gpuNum": 0,
    "hideHardwareSpecs": false,
    "memoryGiB": 192,
    "name": "ml.c5.24xlarge",
    "vcpuNum": 96
   },
   {
    "_defaultOrder": 29,
    "_isFastLaunch": true,
    "category": "Accelerated computing",
    "gpuNum": 1,
    "hideHardwareSpecs": false,
    "memoryGiB": 16,
    "name": "ml.g4dn.xlarge",
    "vcpuNum": 4
   },
   {
    "_defaultOrder": 30,
    "_isFastLaunch": false,
    "category": "Accelerated computing",
    "gpuNum": 1,
    "hideHardwareSpecs": false,
    "memoryGiB": 32,
    "name": "ml.g4dn.2xlarge",
    "vcpuNum": 8
   },
   {
    "_defaultOrder": 31,
    "_isFastLaunch": false,
    "category": "Accelerated computing",
    "gpuNum": 1,
    "hideHardwareSpecs": false,
    "memoryGiB": 64,
    "name": "ml.g4dn.4xlarge",
    "vcpuNum": 16
   },
   {
    "_defaultOrder": 32,
    "_isFastLaunch": false,
    "category": "Accelerated computing",
    "gpuNum": 1,
    "hideHardwareSpecs": false,
    "memoryGiB": 128,
    "name": "ml.g4dn.8xlarge",
    "vcpuNum": 32
   },
   {
    "_defaultOrder": 33,
    "_isFastLaunch": false,
    "category": "Accelerated computing",
    "gpuNum": 4,
    "hideHardwareSpecs": false,
    "memoryGiB": 192,
    "name": "ml.g4dn.12xlarge",
    "vcpuNum": 48
   },
   {
    "_defaultOrder": 34,
    "_isFastLaunch": false,
    "category": "Accelerated computing",
    "gpuNum": 1,
    "hideHardwareSpecs": false,
    "memoryGiB": 256,
    "name": "ml.g4dn.16xlarge",
    "vcpuNum": 64
   },
   {
    "_defaultOrder": 35,
    "_isFastLaunch": false,
    "category": "Accelerated computing",
    "gpuNum": 1,
    "hideHardwareSpecs": false,
    "memoryGiB": 61,
    "name": "ml.p3.2xlarge",
    "vcpuNum": 8
   },
   {
    "_defaultOrder": 36,
    "_isFastLaunch": false,
    "category": "Accelerated computing",
    "gpuNum": 4,
    "hideHardwareSpecs": false,
    "memoryGiB": 244,
    "name": "ml.p3.8xlarge",
    "vcpuNum": 32
   },
   {
    "_defaultOrder": 37,
    "_isFastLaunch": false,
    "category": "Accelerated computing",
    "gpuNum": 8,
    "hideHardwareSpecs": false,
    "memoryGiB": 488,
    "name": "ml.p3.16xlarge",
    "vcpuNum": 64
   },
   {
    "_defaultOrder": 38,
    "_isFastLaunch": false,
    "category": "Accelerated computing",
    "gpuNum": 8,
    "hideHardwareSpecs": false,
    "memoryGiB": 768,
    "name": "ml.p3dn.24xlarge",
    "vcpuNum": 96
   },
   {
    "_defaultOrder": 39,
    "_isFastLaunch": false,
    "category": "Memory Optimized",
    "gpuNum": 0,
    "hideHardwareSpecs": false,
    "memoryGiB": 16,
    "name": "ml.r5.large",
    "vcpuNum": 2
   },
   {
    "_defaultOrder": 40,
    "_isFastLaunch": false,
    "category": "Memory Optimized",
    "gpuNum": 0,
    "hideHardwareSpecs": false,
    "memoryGiB": 32,
    "name": "ml.r5.xlarge",
    "vcpuNum": 4
   },
   {
    "_defaultOrder": 41,
    "_isFastLaunch": false,
    "category": "Memory Optimized",
    "gpuNum": 0,
    "hideHardwareSpecs": false,
    "memoryGiB": 64,
    "name": "ml.r5.2xlarge",
    "vcpuNum": 8
   },
   {
    "_defaultOrder": 42,
    "_isFastLaunch": false,
    "category": "Memory Optimized",
    "gpuNum": 0,
    "hideHardwareSpecs": false,
    "memoryGiB": 128,
    "name": "ml.r5.4xlarge",
    "vcpuNum": 16
   },
   {
    "_defaultOrder": 43,
    "_isFastLaunch": false,
    "category": "Memory Optimized",
    "gpuNum": 0,
    "hideHardwareSpecs": false,
    "memoryGiB": 256,
    "name": "ml.r5.8xlarge",
    "vcpuNum": 32
   },
   {
    "_defaultOrder": 44,
    "_isFastLaunch": false,
    "category": "Memory Optimized",
    "gpuNum": 0,
    "hideHardwareSpecs": false,
    "memoryGiB": 384,
    "name": "ml.r5.12xlarge",
    "vcpuNum": 48
   },
   {
    "_defaultOrder": 45,
    "_isFastLaunch": false,
    "category": "Memory Optimized",
    "gpuNum": 0,
    "hideHardwareSpecs": false,
    "memoryGiB": 512,
    "name": "ml.r5.16xlarge",
    "vcpuNum": 64
   },
   {
    "_defaultOrder": 46,
    "_isFastLaunch": false,
    "category": "Memory Optimized",
    "gpuNum": 0,
    "hideHardwareSpecs": false,
    "memoryGiB": 768,
    "name": "ml.r5.24xlarge",
    "vcpuNum": 96
   },
   {
    "_defaultOrder": 47,
    "_isFastLaunch": false,
    "category": "Accelerated computing",
    "gpuNum": 1,
    "hideHardwareSpecs": false,
    "memoryGiB": 16,
    "name": "ml.g5.xlarge",
    "vcpuNum": 4
   },
   {
    "_defaultOrder": 48,
    "_isFastLaunch": false,
    "category": "Accelerated computing",
    "gpuNum": 1,
    "hideHardwareSpecs": false,
    "memoryGiB": 32,
    "name": "ml.g5.2xlarge",
    "vcpuNum": 8
   },
   {
    "_defaultOrder": 49,
    "_isFastLaunch": false,
    "category": "Accelerated computing",
    "gpuNum": 1,
    "hideHardwareSpecs": false,
    "memoryGiB": 64,
    "name": "ml.g5.4xlarge",
    "vcpuNum": 16
   },
   {
    "_defaultOrder": 50,
    "_isFastLaunch": false,
    "category": "Accelerated computing",
    "gpuNum": 1,
    "hideHardwareSpecs": false,
    "memoryGiB": 128,
    "name": "ml.g5.8xlarge",
    "vcpuNum": 32
   },
   {
    "_defaultOrder": 51,
    "_isFastLaunch": false,
    "category": "Accelerated computing",
    "gpuNum": 1,
    "hideHardwareSpecs": false,
    "memoryGiB": 256,
    "name": "ml.g5.16xlarge",
    "vcpuNum": 64
   },
   {
    "_defaultOrder": 52,
    "_isFastLaunch": false,
    "category": "Accelerated computing",
    "gpuNum": 4,
    "hideHardwareSpecs": false,
    "memoryGiB": 192,
    "name": "ml.g5.12xlarge",
    "vcpuNum": 48
   },
   {
    "_defaultOrder": 53,
    "_isFastLaunch": false,
    "category": "Accelerated computing",
    "gpuNum": 4,
    "hideHardwareSpecs": false,
    "memoryGiB": 384,
    "name": "ml.g5.24xlarge",
    "vcpuNum": 96
   },
   {
    "_defaultOrder": 54,
    "_isFastLaunch": false,
    "category": "Accelerated computing",
    "gpuNum": 8,
    "hideHardwareSpecs": false,
    "memoryGiB": 768,
    "name": "ml.g5.48xlarge",
    "vcpuNum": 192
   },
   {
    "_defaultOrder": 55,
    "_isFastLaunch": false,
    "category": "Accelerated computing",
    "gpuNum": 8,
    "hideHardwareSpecs": false,
    "memoryGiB": 1152,
    "name": "ml.p4d.24xlarge",
    "vcpuNum": 96
   },
   {
    "_defaultOrder": 56,
    "_isFastLaunch": false,
    "category": "Accelerated computing",
    "gpuNum": 8,
    "hideHardwareSpecs": false,
    "memoryGiB": 1152,
    "name": "ml.p4de.24xlarge",
    "vcpuNum": 96
   },
   {
    "_defaultOrder": 57,
    "_isFastLaunch": false,
    "category": "Accelerated computing",
    "gpuNum": 0,
    "hideHardwareSpecs": false,
    "memoryGiB": 32,
    "name": "ml.trn1.2xlarge",
    "vcpuNum": 8
   },
   {
    "_defaultOrder": 58,
    "_isFastLaunch": false,
    "category": "Accelerated computing",
    "gpuNum": 0,
    "hideHardwareSpecs": false,
    "memoryGiB": 512,
    "name": "ml.trn1.32xlarge",
    "vcpuNum": 128
   },
   {
    "_defaultOrder": 59,
    "_isFastLaunch": false,
    "category": "Accelerated computing",
    "gpuNum": 0,
    "hideHardwareSpecs": false,
    "memoryGiB": 512,
    "name": "ml.trn1n.32xlarge",
    "vcpuNum": 128
   }
  ],
  "instance_type": "ml.t3.medium",
  "kernelspec": {
   "display_name": "Python 3 (Data Science 4.0)",
   "language": "python",
   "name": "python3__SAGEMAKER_INTERNAL__arn:aws:sagemaker:us-east-1:081325390199:image/sagemaker-data-science-311-v1"
  },
  "language_info": {
   "codemirror_mode": {
    "name": "ipython",
    "version": 3
   },
   "file_extension": ".py",
   "mimetype": "text/x-python",
   "name": "python",
   "nbconvert_exporter": "python",
   "pygments_lexer": "ipython3",
   "version": "3.11.9"
  }
 },
 "nbformat": 4,
 "nbformat_minor": 5
}
