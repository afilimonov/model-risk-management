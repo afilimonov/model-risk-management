{
 "cells": [
  {
   "cell_type": "code",
   "execution_count": 4,
   "id": "f1bfd14f",
   "metadata": {
    "tags": []
   },
   "outputs": [],
   "source": [
    "import os\n",
    "import json\n",
    "import time\n",
    "from IPython.display import Markdown, display\n",
    "import requests\n",
    "import textwrap\n",
    "import boto3\n",
    "from utils import read_file, save_file\n",
    "from dotenv import load_dotenv"
   ]
  },
  {
   "cell_type": "code",
   "execution_count": 5,
   "id": "6e511f10",
   "metadata": {
    "tags": []
   },
   "outputs": [],
   "source": [
    "load_dotenv()\n",
    "ab_paper = read_file('data/whitepaper/AB_2013-07_Model_Risk_Management_Guidance.md')\n",
    "moody_paper = read_file('data/whitepaper/riskcalc-3.1-whitepaper.md')"
   ]
  },
  {
   "cell_type": "code",
   "execution_count": 6,
   "id": "63398be5-78c6-4ab4-ae6e-96c1ce19faaa",
   "metadata": {
    "tags": []
   },
   "outputs": [],
   "source": [
    "br = boto3.client(service_name='bedrock')\n",
    "model_summaries = br.list_foundation_models()['modelSummaries']\n",
    "#print(json.dumps(model_summaries, indent=4))"
   ]
  },
  {
   "cell_type": "code",
   "execution_count": 10,
   "id": "dcaddc69-c7fb-4e9e-9612-09295859c4cb",
   "metadata": {
    "tags": []
   },
   "outputs": [
    {
     "name": "stdout",
     "output_type": "stream",
     "text": [
      "{\n",
      "    \"modelArn\": \"arn:aws:bedrock:us-east-1::foundation-model/anthropic.claude-3-haiku-20240307-v1:0\",\n",
      "    \"modelId\": \"anthropic.claude-3-haiku-20240307-v1:0\",\n",
      "    \"modelName\": \"Claude 3 Haiku\",\n",
      "    \"providerName\": \"Anthropic\",\n",
      "    \"inputModalities\": [\n",
      "        \"TEXT\",\n",
      "        \"IMAGE\"\n",
      "    ],\n",
      "    \"outputModalities\": [\n",
      "        \"TEXT\"\n",
      "    ],\n",
      "    \"responseStreamingSupported\": true,\n",
      "    \"customizationsSupported\": [],\n",
      "    \"inferenceTypesSupported\": [\n",
      "        \"ON_DEMAND\"\n",
      "    ],\n",
      "    \"modelLifecycle\": {\n",
      "        \"status\": \"ACTIVE\"\n",
      "    }\n",
      "}\n"
     ]
    }
   ],
   "source": [
    "cloude = br.get_foundation_model(modelIdentifier='anthropic.claude-3-haiku-20240307-v1:0')['modelDetails']\n",
    "print(json.dumps(cloude, indent=4))"
   ]
  },
  {
   "cell_type": "code",
   "execution_count": 74,
   "id": "bb9a2b32-7b69-49e8-aa24-7141d25ae13d",
   "metadata": {
    "tags": []
   },
   "outputs": [],
   "source": [
    "def get_document_analysis_claude(document, question, model='anthropic.claude-3-haiku-20240307-v1:0', temperature=0, tokens=3000, top_p=0.9, top_k=250):\n",
    "    instructions = f\"\"\"As a model risk manager, please conduct a detailed model analysis. Think step by step.\n",
    "You are provided with model whitepaper to perform the analysis.\n",
    "You are provided with analysis objective in the user input.\n",
    "Your response should use well formatted Markdown forman and must include:\n",
    "1. Numbered list of all relevant sections in the whitepaper\n",
    "2. Section with specific findings. The finding must include supporting references to the specific sections in the whitepaer. \n",
    "3. Section with a clear, evidence-based recommendations on whether the model should be adopted for usage, given the findings.\n",
    "<whitepaper>\n",
    "{document}\n",
    "</whitepaper>\n",
    "<example>\n",
    "### Thought Process\n",
    "1. Find relevant sections in the paper\n",
    "2. Identity analysis tasks\n",
    "3. ...\n",
    "### Findings\n",
    "1. The RiskCalc v3.1 model incorporates forward-looking market information through the distance-to-default factor (Secton 2.1), which captures systematic risk and industry trends not fully reflected in the financial statements alone.\n",
    "</example>\n",
    "\"\"\"\n",
    "    \n",
    "    brt = boto3.client(service_name='bedrock-runtime')\n",
    "    \n",
    "    body = json.dumps({\n",
    "    \"anthropic_version\": \"bedrock-2023-05-31\",\n",
    "    \"system\": instructions,\n",
    "    \"messages\": [\n",
    "        {\n",
    "            \"role\": \"user\",\n",
    "            \"content\": [\n",
    "                {\n",
    "                    \"type\": \"text\",\n",
    "                    \"text\": question\n",
    "                }\n",
    "            ]\n",
    "        }\n",
    "    ],\n",
    "    \"max_tokens\": tokens,\n",
    "    \"temperature\": temperature,\n",
    "    \"top_p\": top_p,\n",
    "    \"top_k\": top_k\n",
    "    })\n",
    "\n",
    "    accept = 'application/json'\n",
    "    contentType = 'application/json'\n",
    "\n",
    "    response = brt.invoke_model(body=body, modelId=model, accept=accept, contentType=contentType)\n",
    "\n",
    "    response_body = json.loads(response.get('body').read())\n",
    "\n",
    "    return response_body.get('content')[0]['text']"
   ]
  },
  {
   "cell_type": "code",
   "execution_count": 75,
   "id": "5d5a8630-3c59-4b28-9b83-252278cc7f7b",
   "metadata": {
    "tags": []
   },
   "outputs": [
    {
     "data": {
      "text/markdown": [
       "## Identify any specific limitations and model usage risk in stagflation environment"
      ],
      "text/plain": [
       "<IPython.core.display.Markdown object>"
      ]
     },
     "metadata": {},
     "output_type": "display_data"
    },
    {
     "data": {
      "text/markdown": [
       "Based on my review of the whitepaper, I did not find any explicit discussion of the model's limitations or risks in a stagflationary environment specifically. However, there are a few relevant points that can be inferred:\n",
       "\n",
       "1. The model incorporates forward-looking market information through the distance-to-default factor, which captures systematic risk and industry trends (Section 3.2). This suggests that in an environment of stagflation, where economic growth stagnates while inflation rises, the model may be able to capture the increased systematic risk through changes in this market-based factor.\n",
       "\n",
       "2. The model allows for stress testing of firms under different economic scenarios by holding the firm's financial statements constant while varying the systematic risk factors (Section 2.3, Figure 1). This capability could potentially be used to assess a firm's risk under a stagflationary scenario.\n",
       "\n",
       "3. However, the paper notes that the relationship between default rates and some macroeconomic variables like interest rates and unemployment is inconsistent over time (Section 3.2). This suggests that in an abnormal economic environment like stagflation, the model's predictive power may be impacted if the relationships between firm financials/market data and defaults change significantly.\n",
       "\n",
       "4. The model is re-estimated and calibrated periodically using an expanding data set that covers different economic cycles (Section 2.2). This process of continual re-estimation may help account for changing environments, but is not explicitly discussed for stagflationary periods.\n",
       "\n",
       "So in summary, while not directly addressed, the combination of forward-looking market factors and stress testing capabilities could allow the model to account for stagflationary impacts to some degree. However, the potential for parameter instability in such abnormal environments, and the need for re-estimation using data from those periods, represents a risk limitation that is not explicitly analyzed in the whitepaper."
      ],
      "text/plain": [
       "<IPython.core.display.Markdown object>"
      ]
     },
     "metadata": {},
     "output_type": "display_data"
    },
    {
     "data": {
      "text/markdown": [
       "## Indentify any specific limitations and model usage risks in hyper-inflation scenario"
      ],
      "text/plain": [
       "<IPython.core.display.Markdown object>"
      ]
     },
     "metadata": {},
     "output_type": "display_data"
    },
    {
     "data": {
      "text/markdown": [
       "The whitepaper does not explicitly discuss limitations or risks of using the RiskCalc v3.1 model in a hyper-inflation scenario. However, some potential limitations and risks can be inferred from the model details provided:\n",
       "\n",
       "1. Financial ratios based on historical financial statements may not accurately reflect a firm's current risk profile during periods of high inflation, as the accounting data lags behind rapidly changing economic conditions.\n",
       "\n",
       "2. The distance-to-default factor, which captures forward-looking market information, may not fully incorporate expectations about hyper-inflationary conditions if such scenarios are not priced into equity markets.\n",
       "\n",
       "3. The model parameters and transformations are estimated based on historical data that may not cover periods of extreme inflation. This could lead to poor model calibration and inaccurate default probability estimates during hyper-inflation.\n",
       "\n",
       "4. Rapidly changing inflation rates can impact the stability and interpretation of financial ratios used as model inputs, potentially reducing the model's predictive power.\n",
       "\n",
       "5. The model may need to be re-estimated and recalibrated using data from periods of high inflation to maintain accuracy under such economic conditions.\n",
       "\n",
       "While not explicitly stated, the whitepaper emphasizes the importance of continuously validating and updating the model as new data becomes available to account for changing economic conditions. This suggests that in a hyper-inflationary scenario, the model may need to be closely monitored, updated, and potentially re-estimated to maintain its predictive performance."
      ],
      "text/plain": [
       "<IPython.core.display.Markdown object>"
      ]
     },
     "metadata": {},
     "output_type": "display_data"
    }
   ],
   "source": [
    "qq = ['Identify any specific limitations and model usage risk in stagflation environment',\n",
    "      'Indentify any specific limitations and model usage risks in hyper-inflation scenario']\n",
    "\n",
    "model = 'anthropic.claude-3-haiku-20240307-v1:0'\n",
    "#model = 'anthropic.claude-3-sonnet-20240229-v1:0'\n",
    "for i, q in enumerate(qq):\n",
    "    content = get_document_analysis_claude(moody_paper, q, model=model, tokens=4096)\n",
    "    title = (f\"## {q.capitalize()}\")\n",
    "    display(Markdown(title))\n",
    "    display(Markdown(content))\n",
    "    #save_file(f\"reports/moody-risk-calc-analysis-cloude-21-{i+1}.md\", f\"{title}\\n{content}\")\n"
   ]
  },
  {
   "cell_type": "code",
   "execution_count": 35,
   "id": "87f1803e-8b6f-4dcc-aad1-cca8823f20f2",
   "metadata": {
    "tags": []
   },
   "outputs": [
    {
     "data": {
      "text/markdown": [
       "## Generate a list of the model analysis objectives using provided model whitepaper"
      ],
      "text/plain": [
       "<IPython.core.display.Markdown object>"
      ]
     },
     "metadata": {},
     "output_type": "display_data"
    },
    {
     "data": {
      "text/markdown": [
       "Here is a detailed model analysis focusing on the objectives using the provided model whitepaper:\n",
       "\n",
       "## Model Analysis Objectives\n",
       "\n",
       "Based on the whitepaper, the key objectives of the RiskCalc v3.1 model analysis are:\n",
       "\n",
       "**1. Assess the strategic assets and innovations of the RiskCalc v3.1 model:**\n",
       "- Evaluate the benefits of the expanded data pool for predictions, including the size and quality improvements to the Credit Research Database.\n",
       "- Examine how the model supports regulatory requirements under the New Basel Capital Accord, such as providing consistent risk estimates, forward-looking risk ratings, stress testing default probabilities, and robust model validation.\n",
       "\n",
       "**2. Understand the model framework and key features:**\n",
       "- Examine the Financial Statement Only (FSO) mode and how it selects a limited set of financial ratios to avoid overfitting.\n",
       "- Analyze the complete RiskCalc v3.1 model, including how it blends firm-specific financial data with forward-looking market information through the distance-to-default measure.\n",
       "- Evaluate the importance of controlling for industry variation in the model.\n",
       "\n",
       "**3. Assess the model validation and performance:**\n",
       "- Review the out-of-sample and out-of-time testing approaches, including K-fold analysis and walk-forward testing, to evaluate model power and calibration.\n",
       "- Examine the model's performance over the credit cycle and compare it to alternative models like the Private Firm Model and Z-score.\n",
       "\n",
       "**4. Evaluate the economic value of the RiskCalc v3.1 model:**\n",
       "- Analyze the potential profit and loss benefits for lenders using the RiskCalc v3.1 model compared to alternative models.\n",
       "\n",
       "## Key Findings from the Model Analysis\n",
       "\n",
       "1. **Strategic Assets and Innovations:**\n",
       "   - The RiskCalc v3.1 model is built on the world's largest and cleanest private company default database, the Moody's KMV Credit Research Database, which has over 6.5 million financial statements and 97,000 default events globally.\n",
       "   - The model is designed to meet the requirements of the New Basel Capital Accord, including providing consistent risk estimates, forward-looking risk ratings, the ability to stress test default probabilities, and robust model validation.\n",
       "\n",
       "2. **Model Framework and Key Features:**\n",
       "   - The Financial Statement Only (FSO) mode selects a limited set of financial ratios to capture profitability, leverage, debt coverage, growth, liquidity, activity, and size, avoiding overfitting by using non-parametric transformations.\n",
       "   - The complete RiskCalc v3.1 model blends firm-specific financial data with forward-looking market information through the distance-to-default measure, which captures systematic industry and economic trends.\n",
       "   - Controlling for industry variation is crucial, as it allows the model to account for differences in default rates and the interpretation of financial ratios across sectors.\n",
       "\n",
       "3. **Model Validation and Performance:**\n",
       "   - Rigorous out-of-sample and out-of-time testing, including K-fold analysis and walk-forward testing, demonstrates the model's strong predictive power and calibration, outperforming alternatives like the Private Firm Model and Z-score.\n",
       "   - The model maintains its performance over the credit cycle, with the complete RiskCalc v3.1 model showing significantly higher accuracy ratios compared to previous versions and other models.\n",
       "\n",
       "4. **Economic Value:**\n",
       "   - Analyses suggest the RiskCalc v3.1 model can provide substantial economic benefits for lenders, potentially increasing the profitability of a loan portfolio by up to 25 basis points compared to alternatives.\n",
       "   - In a competitive environment, a medium-sized bank using the RiskCalc v3.1 model could see profits increase by more than $10 million on average compared to a competitor using a weaker model like Z-score.\n",
       "\n",
       "## Recommendation\n",
       "\n",
       "Based on the comprehensive analysis of the RiskCalc v3.1 model, I would recommend adopting this model for usage. The model demonstrates significant improvements in predictive power, calibration, and economic value compared to previous versions and alternative models. The rigorous validation testing, adherence to regulatory requirements, and the model's ability to capture both firm-specific and systematic risk factors make it a compelling choice for lenders seeking to improve their credit risk assessment and portfolio management. The potential profit and loss benefits of using the RiskCalc v3.1 model are substantial and could provide a meaningful competitive advantage in the market."
      ],
      "text/plain": [
       "<IPython.core.display.Markdown object>"
      ]
     },
     "metadata": {},
     "output_type": "display_data"
    },
    {
     "data": {
      "text/markdown": [
       "## Generate a list of objecttives for assessing the model peformance in different economic environments usingf providedl model whitepaper"
      ],
      "text/plain": [
       "<IPython.core.display.Markdown object>"
      ]
     },
     "metadata": {},
     "output_type": "display_data"
    },
    {
     "data": {
      "text/markdown": [
       "Here is a detailed model analysis focusing on assessing the model performance in different economic environments using the provided model whitepaper:\n",
       "\n",
       "**Bullet points highlighting specific analysis topics:**\n",
       "\n",
       "- The RiskCalc v3.1 model is designed to meet the requirements of the New Basel Capital Accords, including extensive documentation, validation, and testing. This allows the model to provide consistent risk estimates, forward-looking risk ratings, and the ability to stress test default probabilities under different economic conditions (Section 2.3).\n",
       "- The model's performance is validated using rigorous out-of-sample and out-of-time testing, including K-fold analysis and walk-forward analysis. These tests demonstrate the model's stability and superior predictive power compared to previous versions and other models like the Private Firm Model and Z-score (Section 4).\n",
       "- The model's performance is shown to be robust across the credit cycle, maintaining high accuracy ratios even during periods of high default activity (Section 4.4).\n",
       "- The expanded data pool used to develop the RiskCalc v3.1 model, including data from the 2000-2002 period of high default rates, allows the model to be calibrated to a wide range of general credit cycle conditions and to stress test the impact of a changing economy on default likelihoods (Section 2.2).\n",
       "- The incorporation of industry-specific information and market-based factors (distance-to-default) into the model allows it to better capture systematic, sector-based risks that may not be fully reflected in financial statements alone. This improves the model's performance, particularly over shorter horizons when market information leads the accounting data (Sections 3.2 and 3.3).\n",
       "\n",
       "**Recommendation:**\n",
       "\n",
       "Based on the detailed analysis provided in the whitepaper, the RiskCalc v3.1 model appears to be a robust and high-performing model for assessing the credit risk of private, middle-market companies. The model's design to meet regulatory requirements, its superior predictive power demonstrated through rigorous validation, and its ability to capture systematic and idiosyncratic risks across different economic environments make it a strong candidate for adoption.\n",
       "\n",
       "The whitepaper provides compelling evidence that the RiskCalc v3.1 model outperforms previous versions as well as other widely used models like the Private Firm Model and Z-score. The model's stress testing capabilities and responsiveness to changing market conditions are also valuable features that allow users to assess credit risk under a variety of economic scenarios.\n",
       "\n",
       "Overall, the detailed analysis presented in the whitepaper suggests that the RiskCalc v3.1 model should be strongly considered for adoption, as it appears to be a significant improvement over previous models and well-suited for assessing private firm credit risk in different economic environments."
      ],
      "text/plain": [
       "<IPython.core.display.Markdown object>"
      ]
     },
     "metadata": {},
     "output_type": "display_data"
    }
   ],
   "source": [
    "qq = [\"Generate a list of the model analysis objectives using provided model whitepaper\",\n",
    "      \"Generate a list of objecttives for assessing the model peformance in different economic environments usingf providedl model whitepaper\"]\n",
    "\n",
    "for i, q in enumerate(qq):\n",
    "    content = get_document_analysis_claude(moody_paper, q, model=model, tokens=4096)\n",
    "    title = (f\"## {q.capitalize()}\")\n",
    "    display(Markdown(title))\n",
    "    display(Markdown(content))\n",
    "    save_file(f\"reports/moody-riskcalc-objectives-claude-{i+1}.md\", f\"{title}\\n{content}\")"
   ]
  }
 ],
 "metadata": {
  "availableInstances": [
   {
    "_defaultOrder": 0,
    "_isFastLaunch": true,
    "category": "General purpose",
    "gpuNum": 0,
    "hideHardwareSpecs": false,
    "memoryGiB": 4,
    "name": "ml.t3.medium",
    "vcpuNum": 2
   },
   {
    "_defaultOrder": 1,
    "_isFastLaunch": false,
    "category": "General purpose",
    "gpuNum": 0,
    "hideHardwareSpecs": false,
    "memoryGiB": 8,
    "name": "ml.t3.large",
    "vcpuNum": 2
   },
   {
    "_defaultOrder": 2,
    "_isFastLaunch": false,
    "category": "General purpose",
    "gpuNum": 0,
    "hideHardwareSpecs": false,
    "memoryGiB": 16,
    "name": "ml.t3.xlarge",
    "vcpuNum": 4
   },
   {
    "_defaultOrder": 3,
    "_isFastLaunch": false,
    "category": "General purpose",
    "gpuNum": 0,
    "hideHardwareSpecs": false,
    "memoryGiB": 32,
    "name": "ml.t3.2xlarge",
    "vcpuNum": 8
   },
   {
    "_defaultOrder": 4,
    "_isFastLaunch": true,
    "category": "General purpose",
    "gpuNum": 0,
    "hideHardwareSpecs": false,
    "memoryGiB": 8,
    "name": "ml.m5.large",
    "vcpuNum": 2
   },
   {
    "_defaultOrder": 5,
    "_isFastLaunch": false,
    "category": "General purpose",
    "gpuNum": 0,
    "hideHardwareSpecs": false,
    "memoryGiB": 16,
    "name": "ml.m5.xlarge",
    "vcpuNum": 4
   },
   {
    "_defaultOrder": 6,
    "_isFastLaunch": false,
    "category": "General purpose",
    "gpuNum": 0,
    "hideHardwareSpecs": false,
    "memoryGiB": 32,
    "name": "ml.m5.2xlarge",
    "vcpuNum": 8
   },
   {
    "_defaultOrder": 7,
    "_isFastLaunch": false,
    "category": "General purpose",
    "gpuNum": 0,
    "hideHardwareSpecs": false,
    "memoryGiB": 64,
    "name": "ml.m5.4xlarge",
    "vcpuNum": 16
   },
   {
    "_defaultOrder": 8,
    "_isFastLaunch": false,
    "category": "General purpose",
    "gpuNum": 0,
    "hideHardwareSpecs": false,
    "memoryGiB": 128,
    "name": "ml.m5.8xlarge",
    "vcpuNum": 32
   },
   {
    "_defaultOrder": 9,
    "_isFastLaunch": false,
    "category": "General purpose",
    "gpuNum": 0,
    "hideHardwareSpecs": false,
    "memoryGiB": 192,
    "name": "ml.m5.12xlarge",
    "vcpuNum": 48
   },
   {
    "_defaultOrder": 10,
    "_isFastLaunch": false,
    "category": "General purpose",
    "gpuNum": 0,
    "hideHardwareSpecs": false,
    "memoryGiB": 256,
    "name": "ml.m5.16xlarge",
    "vcpuNum": 64
   },
   {
    "_defaultOrder": 11,
    "_isFastLaunch": false,
    "category": "General purpose",
    "gpuNum": 0,
    "hideHardwareSpecs": false,
    "memoryGiB": 384,
    "name": "ml.m5.24xlarge",
    "vcpuNum": 96
   },
   {
    "_defaultOrder": 12,
    "_isFastLaunch": false,
    "category": "General purpose",
    "gpuNum": 0,
    "hideHardwareSpecs": false,
    "memoryGiB": 8,
    "name": "ml.m5d.large",
    "vcpuNum": 2
   },
   {
    "_defaultOrder": 13,
    "_isFastLaunch": false,
    "category": "General purpose",
    "gpuNum": 0,
    "hideHardwareSpecs": false,
    "memoryGiB": 16,
    "name": "ml.m5d.xlarge",
    "vcpuNum": 4
   },
   {
    "_defaultOrder": 14,
    "_isFastLaunch": false,
    "category": "General purpose",
    "gpuNum": 0,
    "hideHardwareSpecs": false,
    "memoryGiB": 32,
    "name": "ml.m5d.2xlarge",
    "vcpuNum": 8
   },
   {
    "_defaultOrder": 15,
    "_isFastLaunch": false,
    "category": "General purpose",
    "gpuNum": 0,
    "hideHardwareSpecs": false,
    "memoryGiB": 64,
    "name": "ml.m5d.4xlarge",
    "vcpuNum": 16
   },
   {
    "_defaultOrder": 16,
    "_isFastLaunch": false,
    "category": "General purpose",
    "gpuNum": 0,
    "hideHardwareSpecs": false,
    "memoryGiB": 128,
    "name": "ml.m5d.8xlarge",
    "vcpuNum": 32
   },
   {
    "_defaultOrder": 17,
    "_isFastLaunch": false,
    "category": "General purpose",
    "gpuNum": 0,
    "hideHardwareSpecs": false,
    "memoryGiB": 192,
    "name": "ml.m5d.12xlarge",
    "vcpuNum": 48
   },
   {
    "_defaultOrder": 18,
    "_isFastLaunch": false,
    "category": "General purpose",
    "gpuNum": 0,
    "hideHardwareSpecs": false,
    "memoryGiB": 256,
    "name": "ml.m5d.16xlarge",
    "vcpuNum": 64
   },
   {
    "_defaultOrder": 19,
    "_isFastLaunch": false,
    "category": "General purpose",
    "gpuNum": 0,
    "hideHardwareSpecs": false,
    "memoryGiB": 384,
    "name": "ml.m5d.24xlarge",
    "vcpuNum": 96
   },
   {
    "_defaultOrder": 20,
    "_isFastLaunch": false,
    "category": "General purpose",
    "gpuNum": 0,
    "hideHardwareSpecs": true,
    "memoryGiB": 0,
    "name": "ml.geospatial.interactive",
    "supportedImageNames": [
     "sagemaker-geospatial-v1-0"
    ],
    "vcpuNum": 0
   },
   {
    "_defaultOrder": 21,
    "_isFastLaunch": true,
    "category": "Compute optimized",
    "gpuNum": 0,
    "hideHardwareSpecs": false,
    "memoryGiB": 4,
    "name": "ml.c5.large",
    "vcpuNum": 2
   },
   {
    "_defaultOrder": 22,
    "_isFastLaunch": false,
    "category": "Compute optimized",
    "gpuNum": 0,
    "hideHardwareSpecs": false,
    "memoryGiB": 8,
    "name": "ml.c5.xlarge",
    "vcpuNum": 4
   },
   {
    "_defaultOrder": 23,
    "_isFastLaunch": false,
    "category": "Compute optimized",
    "gpuNum": 0,
    "hideHardwareSpecs": false,
    "memoryGiB": 16,
    "name": "ml.c5.2xlarge",
    "vcpuNum": 8
   },
   {
    "_defaultOrder": 24,
    "_isFastLaunch": false,
    "category": "Compute optimized",
    "gpuNum": 0,
    "hideHardwareSpecs": false,
    "memoryGiB": 32,
    "name": "ml.c5.4xlarge",
    "vcpuNum": 16
   },
   {
    "_defaultOrder": 25,
    "_isFastLaunch": false,
    "category": "Compute optimized",
    "gpuNum": 0,
    "hideHardwareSpecs": false,
    "memoryGiB": 72,
    "name": "ml.c5.9xlarge",
    "vcpuNum": 36
   },
   {
    "_defaultOrder": 26,
    "_isFastLaunch": false,
    "category": "Compute optimized",
    "gpuNum": 0,
    "hideHardwareSpecs": false,
    "memoryGiB": 96,
    "name": "ml.c5.12xlarge",
    "vcpuNum": 48
   },
   {
    "_defaultOrder": 27,
    "_isFastLaunch": false,
    "category": "Compute optimized",
    "gpuNum": 0,
    "hideHardwareSpecs": false,
    "memoryGiB": 144,
    "name": "ml.c5.18xlarge",
    "vcpuNum": 72
   },
   {
    "_defaultOrder": 28,
    "_isFastLaunch": false,
    "category": "Compute optimized",
    "gpuNum": 0,
    "hideHardwareSpecs": false,
    "memoryGiB": 192,
    "name": "ml.c5.24xlarge",
    "vcpuNum": 96
   },
   {
    "_defaultOrder": 29,
    "_isFastLaunch": true,
    "category": "Accelerated computing",
    "gpuNum": 1,
    "hideHardwareSpecs": false,
    "memoryGiB": 16,
    "name": "ml.g4dn.xlarge",
    "vcpuNum": 4
   },
   {
    "_defaultOrder": 30,
    "_isFastLaunch": false,
    "category": "Accelerated computing",
    "gpuNum": 1,
    "hideHardwareSpecs": false,
    "memoryGiB": 32,
    "name": "ml.g4dn.2xlarge",
    "vcpuNum": 8
   },
   {
    "_defaultOrder": 31,
    "_isFastLaunch": false,
    "category": "Accelerated computing",
    "gpuNum": 1,
    "hideHardwareSpecs": false,
    "memoryGiB": 64,
    "name": "ml.g4dn.4xlarge",
    "vcpuNum": 16
   },
   {
    "_defaultOrder": 32,
    "_isFastLaunch": false,
    "category": "Accelerated computing",
    "gpuNum": 1,
    "hideHardwareSpecs": false,
    "memoryGiB": 128,
    "name": "ml.g4dn.8xlarge",
    "vcpuNum": 32
   },
   {
    "_defaultOrder": 33,
    "_isFastLaunch": false,
    "category": "Accelerated computing",
    "gpuNum": 4,
    "hideHardwareSpecs": false,
    "memoryGiB": 192,
    "name": "ml.g4dn.12xlarge",
    "vcpuNum": 48
   },
   {
    "_defaultOrder": 34,
    "_isFastLaunch": false,
    "category": "Accelerated computing",
    "gpuNum": 1,
    "hideHardwareSpecs": false,
    "memoryGiB": 256,
    "name": "ml.g4dn.16xlarge",
    "vcpuNum": 64
   },
   {
    "_defaultOrder": 35,
    "_isFastLaunch": false,
    "category": "Accelerated computing",
    "gpuNum": 1,
    "hideHardwareSpecs": false,
    "memoryGiB": 61,
    "name": "ml.p3.2xlarge",
    "vcpuNum": 8
   },
   {
    "_defaultOrder": 36,
    "_isFastLaunch": false,
    "category": "Accelerated computing",
    "gpuNum": 4,
    "hideHardwareSpecs": false,
    "memoryGiB": 244,
    "name": "ml.p3.8xlarge",
    "vcpuNum": 32
   },
   {
    "_defaultOrder": 37,
    "_isFastLaunch": false,
    "category": "Accelerated computing",
    "gpuNum": 8,
    "hideHardwareSpecs": false,
    "memoryGiB": 488,
    "name": "ml.p3.16xlarge",
    "vcpuNum": 64
   },
   {
    "_defaultOrder": 38,
    "_isFastLaunch": false,
    "category": "Accelerated computing",
    "gpuNum": 8,
    "hideHardwareSpecs": false,
    "memoryGiB": 768,
    "name": "ml.p3dn.24xlarge",
    "vcpuNum": 96
   },
   {
    "_defaultOrder": 39,
    "_isFastLaunch": false,
    "category": "Memory Optimized",
    "gpuNum": 0,
    "hideHardwareSpecs": false,
    "memoryGiB": 16,
    "name": "ml.r5.large",
    "vcpuNum": 2
   },
   {
    "_defaultOrder": 40,
    "_isFastLaunch": false,
    "category": "Memory Optimized",
    "gpuNum": 0,
    "hideHardwareSpecs": false,
    "memoryGiB": 32,
    "name": "ml.r5.xlarge",
    "vcpuNum": 4
   },
   {
    "_defaultOrder": 41,
    "_isFastLaunch": false,
    "category": "Memory Optimized",
    "gpuNum": 0,
    "hideHardwareSpecs": false,
    "memoryGiB": 64,
    "name": "ml.r5.2xlarge",
    "vcpuNum": 8
   },
   {
    "_defaultOrder": 42,
    "_isFastLaunch": false,
    "category": "Memory Optimized",
    "gpuNum": 0,
    "hideHardwareSpecs": false,
    "memoryGiB": 128,
    "name": "ml.r5.4xlarge",
    "vcpuNum": 16
   },
   {
    "_defaultOrder": 43,
    "_isFastLaunch": false,
    "category": "Memory Optimized",
    "gpuNum": 0,
    "hideHardwareSpecs": false,
    "memoryGiB": 256,
    "name": "ml.r5.8xlarge",
    "vcpuNum": 32
   },
   {
    "_defaultOrder": 44,
    "_isFastLaunch": false,
    "category": "Memory Optimized",
    "gpuNum": 0,
    "hideHardwareSpecs": false,
    "memoryGiB": 384,
    "name": "ml.r5.12xlarge",
    "vcpuNum": 48
   },
   {
    "_defaultOrder": 45,
    "_isFastLaunch": false,
    "category": "Memory Optimized",
    "gpuNum": 0,
    "hideHardwareSpecs": false,
    "memoryGiB": 512,
    "name": "ml.r5.16xlarge",
    "vcpuNum": 64
   },
   {
    "_defaultOrder": 46,
    "_isFastLaunch": false,
    "category": "Memory Optimized",
    "gpuNum": 0,
    "hideHardwareSpecs": false,
    "memoryGiB": 768,
    "name": "ml.r5.24xlarge",
    "vcpuNum": 96
   },
   {
    "_defaultOrder": 47,
    "_isFastLaunch": false,
    "category": "Accelerated computing",
    "gpuNum": 1,
    "hideHardwareSpecs": false,
    "memoryGiB": 16,
    "name": "ml.g5.xlarge",
    "vcpuNum": 4
   },
   {
    "_defaultOrder": 48,
    "_isFastLaunch": false,
    "category": "Accelerated computing",
    "gpuNum": 1,
    "hideHardwareSpecs": false,
    "memoryGiB": 32,
    "name": "ml.g5.2xlarge",
    "vcpuNum": 8
   },
   {
    "_defaultOrder": 49,
    "_isFastLaunch": false,
    "category": "Accelerated computing",
    "gpuNum": 1,
    "hideHardwareSpecs": false,
    "memoryGiB": 64,
    "name": "ml.g5.4xlarge",
    "vcpuNum": 16
   },
   {
    "_defaultOrder": 50,
    "_isFastLaunch": false,
    "category": "Accelerated computing",
    "gpuNum": 1,
    "hideHardwareSpecs": false,
    "memoryGiB": 128,
    "name": "ml.g5.8xlarge",
    "vcpuNum": 32
   },
   {
    "_defaultOrder": 51,
    "_isFastLaunch": false,
    "category": "Accelerated computing",
    "gpuNum": 1,
    "hideHardwareSpecs": false,
    "memoryGiB": 256,
    "name": "ml.g5.16xlarge",
    "vcpuNum": 64
   },
   {
    "_defaultOrder": 52,
    "_isFastLaunch": false,
    "category": "Accelerated computing",
    "gpuNum": 4,
    "hideHardwareSpecs": false,
    "memoryGiB": 192,
    "name": "ml.g5.12xlarge",
    "vcpuNum": 48
   },
   {
    "_defaultOrder": 53,
    "_isFastLaunch": false,
    "category": "Accelerated computing",
    "gpuNum": 4,
    "hideHardwareSpecs": false,
    "memoryGiB": 384,
    "name": "ml.g5.24xlarge",
    "vcpuNum": 96
   },
   {
    "_defaultOrder": 54,
    "_isFastLaunch": false,
    "category": "Accelerated computing",
    "gpuNum": 8,
    "hideHardwareSpecs": false,
    "memoryGiB": 768,
    "name": "ml.g5.48xlarge",
    "vcpuNum": 192
   },
   {
    "_defaultOrder": 55,
    "_isFastLaunch": false,
    "category": "Accelerated computing",
    "gpuNum": 8,
    "hideHardwareSpecs": false,
    "memoryGiB": 1152,
    "name": "ml.p4d.24xlarge",
    "vcpuNum": 96
   },
   {
    "_defaultOrder": 56,
    "_isFastLaunch": false,
    "category": "Accelerated computing",
    "gpuNum": 8,
    "hideHardwareSpecs": false,
    "memoryGiB": 1152,
    "name": "ml.p4de.24xlarge",
    "vcpuNum": 96
   },
   {
    "_defaultOrder": 57,
    "_isFastLaunch": false,
    "category": "Accelerated computing",
    "gpuNum": 0,
    "hideHardwareSpecs": false,
    "memoryGiB": 32,
    "name": "ml.trn1.2xlarge",
    "vcpuNum": 8
   },
   {
    "_defaultOrder": 58,
    "_isFastLaunch": false,
    "category": "Accelerated computing",
    "gpuNum": 0,
    "hideHardwareSpecs": false,
    "memoryGiB": 512,
    "name": "ml.trn1.32xlarge",
    "vcpuNum": 128
   },
   {
    "_defaultOrder": 59,
    "_isFastLaunch": false,
    "category": "Accelerated computing",
    "gpuNum": 0,
    "hideHardwareSpecs": false,
    "memoryGiB": 512,
    "name": "ml.trn1n.32xlarge",
    "vcpuNum": 128
   }
  ],
  "instance_type": "ml.t3.medium",
  "kernelspec": {
   "display_name": "Python [conda env:ai-mrm] (arn:aws:sagemaker:us-east-1:081325390199:image/sagemaker-data-science-310-v1)",
   "language": "python",
   "name": "conda-env-ai-mrm-py__SAGEMAKER_INTERNAL__arn:aws:sagemaker:us-east-1:081325390199:image/sagemaker-data-science-310-v1"
  },
  "language_info": {
   "codemirror_mode": {
    "name": "ipython",
    "version": 3
   },
   "file_extension": ".py",
   "mimetype": "text/x-python",
   "name": "python",
   "nbconvert_exporter": "python",
   "pygments_lexer": "ipython3",
   "version": "3.9.19"
  }
 },
 "nbformat": 4,
 "nbformat_minor": 5
}
