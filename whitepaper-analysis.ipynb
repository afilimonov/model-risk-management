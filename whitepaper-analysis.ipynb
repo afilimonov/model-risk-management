{
 "cells": [
  {
   "cell_type": "code",
   "execution_count": 4,
   "id": "f1bfd14f",
   "metadata": {
    "tags": []
   },
   "outputs": [],
   "source": [
    "import os\n",
    "import json\n",
    "import time\n",
    "from IPython.display import Markdown, display\n",
    "import requests\n",
    "import textwrap\n",
    "import boto3\n",
    "from utils import read_file, save_file\n",
    "from dotenv import load_dotenv"
   ]
  },
  {
   "cell_type": "code",
   "execution_count": 5,
   "id": "6e511f10",
   "metadata": {
    "tags": []
   },
   "outputs": [],
   "source": [
    "load_dotenv()\n",
    "ab_paper = read_file('data/whitepaper/AB_2013-07_Model_Risk_Management_Guidance.md')\n",
    "moody_paper = read_file('data/whitepaper/riskcalc-3.1-whitepaper.md')"
   ]
  },
  {
   "cell_type": "code",
   "execution_count": 6,
   "id": "63398be5-78c6-4ab4-ae6e-96c1ce19faaa",
   "metadata": {
    "tags": []
   },
   "outputs": [],
   "source": [
    "br = boto3.client(service_name='bedrock')\n",
    "model_summaries = br.list_foundation_models()['modelSummaries']\n",
    "#print(json.dumps(model_summaries, indent=4))"
   ]
  },
  {
   "cell_type": "code",
   "execution_count": 10,
   "id": "dcaddc69-c7fb-4e9e-9612-09295859c4cb",
   "metadata": {
    "tags": []
   },
   "outputs": [
    {
     "name": "stdout",
     "output_type": "stream",
     "text": [
      "{\n",
      "    \"modelArn\": \"arn:aws:bedrock:us-east-1::foundation-model/anthropic.claude-3-haiku-20240307-v1:0\",\n",
      "    \"modelId\": \"anthropic.claude-3-haiku-20240307-v1:0\",\n",
      "    \"modelName\": \"Claude 3 Haiku\",\n",
      "    \"providerName\": \"Anthropic\",\n",
      "    \"inputModalities\": [\n",
      "        \"TEXT\",\n",
      "        \"IMAGE\"\n",
      "    ],\n",
      "    \"outputModalities\": [\n",
      "        \"TEXT\"\n",
      "    ],\n",
      "    \"responseStreamingSupported\": true,\n",
      "    \"customizationsSupported\": [],\n",
      "    \"inferenceTypesSupported\": [\n",
      "        \"ON_DEMAND\"\n",
      "    ],\n",
      "    \"modelLifecycle\": {\n",
      "        \"status\": \"ACTIVE\"\n",
      "    }\n",
      "}\n"
     ]
    }
   ],
   "source": [
    "cloude = br.get_foundation_model(modelIdentifier='anthropic.claude-3-haiku-20240307-v1:0')['modelDetails']\n",
    "print(json.dumps(cloude, indent=4))"
   ]
  },
  {
   "cell_type": "code",
   "execution_count": 32,
   "id": "bb9a2b32-7b69-49e8-aa24-7141d25ae13d",
   "metadata": {
    "tags": []
   },
   "outputs": [],
   "source": [
    "def get_document_analysis_claude(document, question, model='anthropic.claude-3-haiku-20240307-v1:0', temperature=0, tokens=3000, top_p=0.9, top_k=250):\n",
    "    instructions = f\"\"\"As a model risk validator, please conduct a detailed model analysis focusing on this objective: {question}\n",
    "You are provided with model whitepaper to perform the analysis. \n",
    "Your response should use well formatted Markdown forman and include:\n",
    "Bullet points highlighting specific analysis topic with references or direct quotations from the whitepaper, citing specific sections, tables, or figures that support the analysis\n",
    "A clear, evidence-based recommendation on whether the model should be adopted for usage,\n",
    "considering the identified limitations.\n",
    "<context>\n",
    "{document}\n",
    "</context>\n",
    "\"\"\"\n",
    "    \n",
    "    brt = boto3.client(service_name='bedrock-runtime')\n",
    "    \n",
    "    body = json.dumps({\n",
    "    \"anthropic_version\": \"bedrock-2023-05-31\",\n",
    "    \"messages\": [\n",
    "        {\n",
    "            \"role\": \"user\",\n",
    "            \"content\": [\n",
    "                {\n",
    "                    \"type\": \"text\",\n",
    "                    \"text\": instructions\n",
    "                }\n",
    "            ]\n",
    "        }\n",
    "    ],\n",
    "    \"max_tokens\": tokens,\n",
    "    \"temperature\": temperature,\n",
    "    \"top_p\": top_p,\n",
    "    \"top_k\": top_k\n",
    "    })\n",
    "\n",
    "    accept = 'application/json'\n",
    "    contentType = 'application/json'\n",
    "\n",
    "    response = brt.invoke_model(body=body, modelId=model, accept=accept, contentType=contentType)\n",
    "\n",
    "    response_body = json.loads(response.get('body').read())\n",
    "\n",
    "    return response_body.get('content')[0]['text']"
   ]
  },
  {
   "cell_type": "code",
   "execution_count": 34,
   "id": "5d5a8630-3c59-4b28-9b83-252278cc7f7b",
   "metadata": {
    "tags": []
   },
   "outputs": [
    {
     "data": {
      "text/markdown": [
       "## Identify any specific limitations or concerns regarding the use of the model in a stagflation environment"
      ],
      "text/plain": [
       "<IPython.core.display.Markdown object>"
      ]
     },
     "metadata": {},
     "output_type": "display_data"
    },
    {
     "data": {
      "text/markdown": [
       "Detailed Model Analysis\n",
       "\n",
       "Bullet points highlighting specific analysis topics with references or direct quotations from the whitepaper:\n",
       "\n",
       "**Data Expansion and Quality Improvements**\n",
       "- The RiskCalc v3.1 model is based on a significantly expanded and refined dataset compared to the previous version, RiskCalc v1.0. The Credit Research Database now contains over 6.5 million financial statements on more than 1.5 million unique private firms with over 97,000 default events worldwide (p. 8).\n",
       "- The expanded dataset includes 112% more firms, 95% more financial statements, and 132% more defaults for the U.S. and Canada compared to RiskCalc v1.0 (Table 1, p. 8).\n",
       "- Moody's KMV has also developed new data cleaning and quality assurance processes to improve the integrity of the data (p. 9).\n",
       "\n",
       "**Incorporation of Market-Based Information**\n",
       "- The RiskCalc v3.1 model blends firm-specific financial statement information with market-based, systematic risk factors through the use of the distance-to-default measure (p. 15).\n",
       "- The distance-to-default factor captures forward-looking market information about a firm's industry that is not fully reflected in its financial statements alone (p. 16).\n",
       "- This market-based information provides a leading indicator of changes in a firm's default risk, allowing the model to be more responsive to evolving economic conditions (Figures 3 and 4, pp. 17-18).\n",
       "\n",
       "**Addressing Industry Variation**\n",
       "- The RiskCalc v3.1 model introduces the ability to control for industry-specific differences in default rates and financial ratio interpretations (p. 17).\n",
       "- Incorporating industry effects yields a modest increase in model predictive power, as measured by Accuracy Ratio, and a substantial increase in the log likelihood measure, indicating better calibration of default probabilities (Table 2, p. 19).\n",
       "\n",
       "**Validation and Performance**\n",
       "- Moody's KMV has conducted rigorous out-of-sample and out-of-time validation of the RiskCalc v3.1 model, including K-fold analysis, walk-forward testing, and a pure holdout sample (Figures 6-7, Tables 5-6, pp. 26-30).\n",
       "- The RiskCalc v3.1 model significantly outperforms the previous RiskCalc v1.0 model, the Private Firm Model, and the Z-score model in terms of both predictive power (Accuracy Ratio) and calibration (log likelihood) (Tables 5-6, p. 27).\n",
       "\n",
       "**Economic Value**\n",
       "- Moody's KMV estimates that the use of the RiskCalc v3.1 model can increase the profitability of a bank's loan portfolio by up to 25 basis points compared to using alternative models (Table 9, p. 31).\n",
       "- In a competitive environment, a medium-sized bank using the RiskCalc v3.1 model could see profits increase by more than $10 million on average compared to a competitor using a model such as Z-score (p. 31).\n",
       "\n",
       "Recommendation:\n",
       "\n",
       "Based on the detailed analysis presented in the whitepaper, the RiskCalc v3.1 model should be adopted for usage. The model demonstrates significant improvements in predictive power and calibration compared to previous versions and alternative models, as evidenced by the rigorous validation testing. The incorporation of market-based information and industry-specific factors enhances the model's ability to capture evolving credit risk conditions, particularly in a stagflation environment.\n",
       "\n",
       "Furthermore, the economic value analysis suggests that the use of the RiskCalc v3.1 model can lead to meaningful increases in profitability and efficiency for lenders, making it a compelling choice for adoption. The model's design to meet regulatory requirements under the New Basel Capital Accord further supports its suitability for widespread usage."
      ],
      "text/plain": [
       "<IPython.core.display.Markdown object>"
      ]
     },
     "metadata": {},
     "output_type": "display_data"
    },
    {
     "data": {
      "text/markdown": [
       "## Consider model usage risks in hyper-inflation scenario"
      ],
      "text/plain": [
       "<IPython.core.display.Markdown object>"
      ]
     },
     "metadata": {},
     "output_type": "display_data"
    },
    {
     "data": {
      "text/markdown": [
       "Here is a detailed model analysis focusing on the objective of considering model usage risks in a hyper-inflation scenario, based on the provided Moody's KMV RiskCalc v3.1 model whitepaper:\n",
       "\n",
       "**Bullet points highlighting specific analysis topics:**\n",
       "\n",
       "- **Expanded data pool for predictions:**\n",
       "  - The RiskCalc v3.1 model is based on a significantly expanded and refined Credit Research Database, which now contains over 6.5 million financial statements on 1.5 million unique private firms with over 97,000 default events worldwide. This expanded data pool allows the model to better control for regional and industry differences, improving its performance. (Section 2.2)\n",
       "  - The addition of data from 2000-2002, a period of intense default activity, extends the database over a complete credit cycle, enabling the model to be calibrated to a wide range of general credit cycle conditions and to stress test the impact of a changing economy on default likelihoods. (Section 2.3)\n",
       "\n",
       "- **Support for regulatory requirements:**\n",
       "  - The RiskCalc v3.1 model is designed to meet the requirements of the New Basel Capital Accord, including providing consistent risk estimates, forward-looking risk ratings, the ability to stress test default probabilities, and robust validation. (Section 2.3)\n",
       "  - The model's stress testing capabilities allow users to compute a firm's best- and worst-case default scenarios based on general credit cycle conditions, not just the firm's current financial statements. This is a key requirement under Basel II. (Section 2.3)\n",
       "\n",
       "- **Introducing industry variation to the model:**\n",
       "  - The RiskCalc v3.1 model incorporates industry-specific information and default rates, allowing it to better control for intrinsic differences in default probability across industries. This improves the model's power and calibration. (Section 3.3)\n",
       "  - The inclusion of industry factors is particularly important, as certain industries may have very different default risk profiles that are not fully captured by financial statement information alone. (Section 3.3)\n",
       "\n",
       "- **Extending and filling in the default term structure:**\n",
       "  - The RiskCalc v3.1 model incorporates a parametric distribution to capture mean reversion in credit quality, allowing it to provide a continuous term structure of default probabilities from 9 months to 5 years. (Section 3.4.3)\n",
       "  - This is an important feature, as it allows the model to better price loans of different maturities by accounting for the tendency of good credits to deteriorate and bad credits to improve over time. (Section 3.4.3)\n",
       "\n",
       "**Recommendation on model adoption:**\n",
       "\n",
       "Based on the detailed analysis of the RiskCalc v3.1 model's features and capabilities, I would recommend adopting this model for usage, particularly in the context of a hyper-inflation scenario. The key strengths of the model that support this recommendation are:\n",
       "\n",
       "1. The expanded and refined data pool, which allows the model to be calibrated to a wide range of credit cycle conditions, including periods of economic stress and high default rates.\n",
       "2. The model's stress testing capabilities, which enable users to assess a firm's sensitivity to default risk under different macroeconomic scenarios, as required by Basel II.\n",
       "3. The inclusion of industry-specific factors, which is crucial for accurately assessing default risk in a hyper-inflation environment, where certain industries may be impacted more severely than others.\n",
       "4. The continuous term structure of default probabilities, which allows for more accurate pricing and risk management of loans of different maturities.\n",
       "\n",
       "Overall, the RiskCalc v3.1 model appears to be a robust and comprehensive solution for assessing private firm credit risk, with strong support for regulatory requirements and the ability to handle the challenges posed by a hyper-inflation scenario. The model's validation results also demonstrate its superior performance compared to alternative approaches."
      ],
      "text/plain": [
       "<IPython.core.display.Markdown object>"
      ]
     },
     "metadata": {},
     "output_type": "display_data"
    },
    {
     "data": {
      "text/markdown": [
       "## What is model impact on meaning of life"
      ],
      "text/plain": [
       "<IPython.core.display.Markdown object>"
      ]
     },
     "metadata": {},
     "output_type": "display_data"
    },
    {
     "data": {
      "text/markdown": [
       "Here is a detailed model analysis focusing on the objective of understanding the model's impact on the meaning of life, using the provided Moody's KMV RiskCalc v3.1 model whitepaper:\n",
       "\n",
       "**Key Analysis Points:**\n",
       "\n",
       "- The RiskCalc v3.1 model is designed to predict the credit risk and default probability of private, middle-market companies. It does not directly address the meaning of life.\n",
       "- The whitepaper does not contain any information or analysis related to the meaning of life. The model is focused on financial and credit risk modeling, not philosophical or existential questions.\n",
       "- The RiskCalc v3.1 model incorporates factors such as profitability, leverage, debt coverage, liquidity, and growth to predict a firm's probability of default. These factors are relevant for assessing a company's financial health and creditworthiness, but do not provide insight into the meaning of life.\n",
       "- The model validation section discusses the model's ability to accurately predict default probabilities and rank-order firms by risk. Again, this is focused on financial risk assessment, not the meaning of life.\n",
       "- There are no references or discussions in the whitepaper about how this credit risk model could be applied to, or have an impact on, the philosophical question of the meaning of life.\n",
       "\n",
       "**Recommendation:**\n",
       "\n",
       "Based on the information provided in the Moody's KMV RiskCalc v3.1 model whitepaper, I would not recommend adopting this model for usage in understanding the meaning of life. The model is designed and validated solely for the purpose of predicting private firm credit risk and default probability, and does not contain any relevant content or analysis related to the meaning of life. The whitepaper does not provide any evidence or justification for using this financial risk model to address existential or philosophical questions."
      ],
      "text/plain": [
       "<IPython.core.display.Markdown object>"
      ]
     },
     "metadata": {},
     "output_type": "display_data"
    }
   ],
   "source": [
    "qq = ['Identify any specific limitations or concerns regarding the use of the model in a stagflation environment',\n",
    "      'Consider model usage risks in hyper-inflation scenario',\n",
    "      'What is model impact on meaning of life']\n",
    "\n",
    "model = 'anthropic.claude-3-haiku-20240307-v1:0'\n",
    "for i, q in enumerate(qq):\n",
    "    content = get_document_analysis_claude(moody_paper, q, model=model, tokens=4096)\n",
    "    title = (f\"## {q.capitalize()}\")\n",
    "    display(Markdown(title))\n",
    "    display(Markdown(content))\n",
    "    #save_file(f\"reports/moody-risk-calc-analysis-cloude-21-{i+1}.md\", f\"{title}\\n{content}\")\n"
   ]
  },
  {
   "cell_type": "code",
   "execution_count": 35,
   "id": "87f1803e-8b6f-4dcc-aad1-cca8823f20f2",
   "metadata": {
    "tags": []
   },
   "outputs": [
    {
     "data": {
      "text/markdown": [
       "## Generate a list of the model analysis objectives using provided model whitepaper"
      ],
      "text/plain": [
       "<IPython.core.display.Markdown object>"
      ]
     },
     "metadata": {},
     "output_type": "display_data"
    },
    {
     "data": {
      "text/markdown": [
       "Here is a detailed model analysis focusing on the objectives using the provided model whitepaper:\n",
       "\n",
       "## Model Analysis Objectives\n",
       "\n",
       "Based on the whitepaper, the key objectives of the RiskCalc v3.1 model analysis are:\n",
       "\n",
       "**1. Assess the strategic assets and innovations of the RiskCalc v3.1 model:**\n",
       "- Evaluate the benefits of the expanded data pool for predictions, including the size and quality improvements to the Credit Research Database.\n",
       "- Examine how the model supports regulatory requirements under the New Basel Capital Accord, such as providing consistent risk estimates, forward-looking risk ratings, stress testing default probabilities, and robust model validation.\n",
       "\n",
       "**2. Understand the model framework and key features:**\n",
       "- Examine the Financial Statement Only (FSO) mode and how it selects a limited set of financial ratios to avoid overfitting.\n",
       "- Analyze the complete RiskCalc v3.1 model, including how it blends firm-specific financial data with forward-looking market information through the distance-to-default measure.\n",
       "- Evaluate the importance of controlling for industry variation in the model.\n",
       "\n",
       "**3. Assess the model validation and performance:**\n",
       "- Review the out-of-sample and out-of-time testing approaches, including K-fold analysis and walk-forward testing, to evaluate model power and calibration.\n",
       "- Examine the model's performance over the credit cycle and compare it to alternative models like the Private Firm Model and Z-score.\n",
       "\n",
       "**4. Evaluate the economic value of the RiskCalc v3.1 model:**\n",
       "- Analyze the potential profit and loss benefits for lenders using the RiskCalc v3.1 model compared to alternative models.\n",
       "\n",
       "## Key Findings from the Model Analysis\n",
       "\n",
       "1. **Strategic Assets and Innovations:**\n",
       "   - The RiskCalc v3.1 model is built on the world's largest and cleanest private company default database, the Moody's KMV Credit Research Database, which has over 6.5 million financial statements and 97,000 default events globally.\n",
       "   - The model is designed to meet the requirements of the New Basel Capital Accord, including providing consistent risk estimates, forward-looking risk ratings, the ability to stress test default probabilities, and robust model validation.\n",
       "\n",
       "2. **Model Framework and Key Features:**\n",
       "   - The Financial Statement Only (FSO) mode selects a limited set of financial ratios to capture profitability, leverage, debt coverage, growth, liquidity, activity, and size, avoiding overfitting by using non-parametric transformations.\n",
       "   - The complete RiskCalc v3.1 model blends firm-specific financial data with forward-looking market information through the distance-to-default measure, which captures systematic industry and economic trends.\n",
       "   - Controlling for industry variation is crucial, as it allows the model to account for differences in default rates and the interpretation of financial ratios across sectors.\n",
       "\n",
       "3. **Model Validation and Performance:**\n",
       "   - Rigorous out-of-sample and out-of-time testing, including K-fold analysis and walk-forward testing, demonstrates the model's strong predictive power and calibration, outperforming alternatives like the Private Firm Model and Z-score.\n",
       "   - The model maintains its performance over the credit cycle, with the complete RiskCalc v3.1 model showing significantly higher accuracy ratios compared to previous versions and other models.\n",
       "\n",
       "4. **Economic Value:**\n",
       "   - Analyses suggest the RiskCalc v3.1 model can provide substantial economic benefits for lenders, potentially increasing the profitability of a loan portfolio by up to 25 basis points compared to alternatives.\n",
       "   - In a competitive environment, a medium-sized bank using the RiskCalc v3.1 model could see profits increase by more than $10 million on average compared to a competitor using a weaker model like Z-score.\n",
       "\n",
       "## Recommendation\n",
       "\n",
       "Based on the comprehensive analysis of the RiskCalc v3.1 model, I would recommend adopting this model for usage. The model demonstrates significant improvements in predictive power, calibration, and economic value compared to previous versions and alternative models. The rigorous validation testing, adherence to regulatory requirements, and the model's ability to capture both firm-specific and systematic risk factors make it a compelling choice for lenders seeking to improve their credit risk assessment and portfolio management. The potential profit and loss benefits of using the RiskCalc v3.1 model are substantial and could provide a meaningful competitive advantage in the market."
      ],
      "text/plain": [
       "<IPython.core.display.Markdown object>"
      ]
     },
     "metadata": {},
     "output_type": "display_data"
    },
    {
     "data": {
      "text/markdown": [
       "## Generate a list of objecttives for assessing the model peformance in different economic environments usingf providedl model whitepaper"
      ],
      "text/plain": [
       "<IPython.core.display.Markdown object>"
      ]
     },
     "metadata": {},
     "output_type": "display_data"
    },
    {
     "data": {
      "text/markdown": [
       "Here is a detailed model analysis focusing on assessing the model performance in different economic environments using the provided model whitepaper:\n",
       "\n",
       "**Bullet points highlighting specific analysis topics:**\n",
       "\n",
       "- The RiskCalc v3.1 model is designed to meet the requirements of the New Basel Capital Accords, including extensive documentation, validation, and testing. This allows the model to provide consistent risk estimates, forward-looking risk ratings, and the ability to stress test default probabilities under different economic conditions (Section 2.3).\n",
       "- The model's performance is validated using rigorous out-of-sample and out-of-time testing, including K-fold analysis and walk-forward analysis. These tests demonstrate the model's stability and superior predictive power compared to previous versions and other models like the Private Firm Model and Z-score (Section 4).\n",
       "- The model's performance is shown to be robust across the credit cycle, maintaining high accuracy ratios even during periods of high default activity (Section 4.4).\n",
       "- The expanded data pool used to develop the RiskCalc v3.1 model, including data from the 2000-2002 period of high default rates, allows the model to be calibrated to a wide range of general credit cycle conditions and to stress test the impact of a changing economy on default likelihoods (Section 2.2).\n",
       "- The incorporation of industry-specific information and market-based factors (distance-to-default) into the model allows it to better capture systematic, sector-based risks that may not be fully reflected in financial statements alone. This improves the model's performance, particularly over shorter horizons when market information leads the accounting data (Sections 3.2 and 3.3).\n",
       "\n",
       "**Recommendation:**\n",
       "\n",
       "Based on the detailed analysis provided in the whitepaper, the RiskCalc v3.1 model appears to be a robust and high-performing model for assessing the credit risk of private, middle-market companies. The model's design to meet regulatory requirements, its superior predictive power demonstrated through rigorous validation, and its ability to capture systematic and idiosyncratic risks across different economic environments make it a strong candidate for adoption.\n",
       "\n",
       "The whitepaper provides compelling evidence that the RiskCalc v3.1 model outperforms previous versions as well as other widely used models like the Private Firm Model and Z-score. The model's stress testing capabilities and responsiveness to changing market conditions are also valuable features that allow users to assess credit risk under a variety of economic scenarios.\n",
       "\n",
       "Overall, the detailed analysis presented in the whitepaper suggests that the RiskCalc v3.1 model should be strongly considered for adoption, as it appears to be a significant improvement over previous models and well-suited for assessing private firm credit risk in different economic environments."
      ],
      "text/plain": [
       "<IPython.core.display.Markdown object>"
      ]
     },
     "metadata": {},
     "output_type": "display_data"
    }
   ],
   "source": [
    "qq = [\"Generate a list of the model analysis objectives using provided model whitepaper\",\n",
    "      \"Generate a list of objecttives for assessing the model peformance in different economic environments usingf providedl model whitepaper\"]\n",
    "\n",
    "for i, q in enumerate(qq):\n",
    "    content = get_document_analysis_claude(moody_paper, q, model=model, tokens=4096)\n",
    "    title = (f\"## {q.capitalize()}\")\n",
    "    display(Markdown(title))\n",
    "    display(Markdown(content))\n",
    "    save_file(f\"reports/moody-riskcalc-objectives-claude-{i+1}.md\", f\"{title}\\n{content}\")"
   ]
  }
 ],
 "metadata": {
  "availableInstances": [
   {
    "_defaultOrder": 0,
    "_isFastLaunch": true,
    "category": "General purpose",
    "gpuNum": 0,
    "hideHardwareSpecs": false,
    "memoryGiB": 4,
    "name": "ml.t3.medium",
    "vcpuNum": 2
   },
   {
    "_defaultOrder": 1,
    "_isFastLaunch": false,
    "category": "General purpose",
    "gpuNum": 0,
    "hideHardwareSpecs": false,
    "memoryGiB": 8,
    "name": "ml.t3.large",
    "vcpuNum": 2
   },
   {
    "_defaultOrder": 2,
    "_isFastLaunch": false,
    "category": "General purpose",
    "gpuNum": 0,
    "hideHardwareSpecs": false,
    "memoryGiB": 16,
    "name": "ml.t3.xlarge",
    "vcpuNum": 4
   },
   {
    "_defaultOrder": 3,
    "_isFastLaunch": false,
    "category": "General purpose",
    "gpuNum": 0,
    "hideHardwareSpecs": false,
    "memoryGiB": 32,
    "name": "ml.t3.2xlarge",
    "vcpuNum": 8
   },
   {
    "_defaultOrder": 4,
    "_isFastLaunch": true,
    "category": "General purpose",
    "gpuNum": 0,
    "hideHardwareSpecs": false,
    "memoryGiB": 8,
    "name": "ml.m5.large",
    "vcpuNum": 2
   },
   {
    "_defaultOrder": 5,
    "_isFastLaunch": false,
    "category": "General purpose",
    "gpuNum": 0,
    "hideHardwareSpecs": false,
    "memoryGiB": 16,
    "name": "ml.m5.xlarge",
    "vcpuNum": 4
   },
   {
    "_defaultOrder": 6,
    "_isFastLaunch": false,
    "category": "General purpose",
    "gpuNum": 0,
    "hideHardwareSpecs": false,
    "memoryGiB": 32,
    "name": "ml.m5.2xlarge",
    "vcpuNum": 8
   },
   {
    "_defaultOrder": 7,
    "_isFastLaunch": false,
    "category": "General purpose",
    "gpuNum": 0,
    "hideHardwareSpecs": false,
    "memoryGiB": 64,
    "name": "ml.m5.4xlarge",
    "vcpuNum": 16
   },
   {
    "_defaultOrder": 8,
    "_isFastLaunch": false,
    "category": "General purpose",
    "gpuNum": 0,
    "hideHardwareSpecs": false,
    "memoryGiB": 128,
    "name": "ml.m5.8xlarge",
    "vcpuNum": 32
   },
   {
    "_defaultOrder": 9,
    "_isFastLaunch": false,
    "category": "General purpose",
    "gpuNum": 0,
    "hideHardwareSpecs": false,
    "memoryGiB": 192,
    "name": "ml.m5.12xlarge",
    "vcpuNum": 48
   },
   {
    "_defaultOrder": 10,
    "_isFastLaunch": false,
    "category": "General purpose",
    "gpuNum": 0,
    "hideHardwareSpecs": false,
    "memoryGiB": 256,
    "name": "ml.m5.16xlarge",
    "vcpuNum": 64
   },
   {
    "_defaultOrder": 11,
    "_isFastLaunch": false,
    "category": "General purpose",
    "gpuNum": 0,
    "hideHardwareSpecs": false,
    "memoryGiB": 384,
    "name": "ml.m5.24xlarge",
    "vcpuNum": 96
   },
   {
    "_defaultOrder": 12,
    "_isFastLaunch": false,
    "category": "General purpose",
    "gpuNum": 0,
    "hideHardwareSpecs": false,
    "memoryGiB": 8,
    "name": "ml.m5d.large",
    "vcpuNum": 2
   },
   {
    "_defaultOrder": 13,
    "_isFastLaunch": false,
    "category": "General purpose",
    "gpuNum": 0,
    "hideHardwareSpecs": false,
    "memoryGiB": 16,
    "name": "ml.m5d.xlarge",
    "vcpuNum": 4
   },
   {
    "_defaultOrder": 14,
    "_isFastLaunch": false,
    "category": "General purpose",
    "gpuNum": 0,
    "hideHardwareSpecs": false,
    "memoryGiB": 32,
    "name": "ml.m5d.2xlarge",
    "vcpuNum": 8
   },
   {
    "_defaultOrder": 15,
    "_isFastLaunch": false,
    "category": "General purpose",
    "gpuNum": 0,
    "hideHardwareSpecs": false,
    "memoryGiB": 64,
    "name": "ml.m5d.4xlarge",
    "vcpuNum": 16
   },
   {
    "_defaultOrder": 16,
    "_isFastLaunch": false,
    "category": "General purpose",
    "gpuNum": 0,
    "hideHardwareSpecs": false,
    "memoryGiB": 128,
    "name": "ml.m5d.8xlarge",
    "vcpuNum": 32
   },
   {
    "_defaultOrder": 17,
    "_isFastLaunch": false,
    "category": "General purpose",
    "gpuNum": 0,
    "hideHardwareSpecs": false,
    "memoryGiB": 192,
    "name": "ml.m5d.12xlarge",
    "vcpuNum": 48
   },
   {
    "_defaultOrder": 18,
    "_isFastLaunch": false,
    "category": "General purpose",
    "gpuNum": 0,
    "hideHardwareSpecs": false,
    "memoryGiB": 256,
    "name": "ml.m5d.16xlarge",
    "vcpuNum": 64
   },
   {
    "_defaultOrder": 19,
    "_isFastLaunch": false,
    "category": "General purpose",
    "gpuNum": 0,
    "hideHardwareSpecs": false,
    "memoryGiB": 384,
    "name": "ml.m5d.24xlarge",
    "vcpuNum": 96
   },
   {
    "_defaultOrder": 20,
    "_isFastLaunch": false,
    "category": "General purpose",
    "gpuNum": 0,
    "hideHardwareSpecs": true,
    "memoryGiB": 0,
    "name": "ml.geospatial.interactive",
    "supportedImageNames": [
     "sagemaker-geospatial-v1-0"
    ],
    "vcpuNum": 0
   },
   {
    "_defaultOrder": 21,
    "_isFastLaunch": true,
    "category": "Compute optimized",
    "gpuNum": 0,
    "hideHardwareSpecs": false,
    "memoryGiB": 4,
    "name": "ml.c5.large",
    "vcpuNum": 2
   },
   {
    "_defaultOrder": 22,
    "_isFastLaunch": false,
    "category": "Compute optimized",
    "gpuNum": 0,
    "hideHardwareSpecs": false,
    "memoryGiB": 8,
    "name": "ml.c5.xlarge",
    "vcpuNum": 4
   },
   {
    "_defaultOrder": 23,
    "_isFastLaunch": false,
    "category": "Compute optimized",
    "gpuNum": 0,
    "hideHardwareSpecs": false,
    "memoryGiB": 16,
    "name": "ml.c5.2xlarge",
    "vcpuNum": 8
   },
   {
    "_defaultOrder": 24,
    "_isFastLaunch": false,
    "category": "Compute optimized",
    "gpuNum": 0,
    "hideHardwareSpecs": false,
    "memoryGiB": 32,
    "name": "ml.c5.4xlarge",
    "vcpuNum": 16
   },
   {
    "_defaultOrder": 25,
    "_isFastLaunch": false,
    "category": "Compute optimized",
    "gpuNum": 0,
    "hideHardwareSpecs": false,
    "memoryGiB": 72,
    "name": "ml.c5.9xlarge",
    "vcpuNum": 36
   },
   {
    "_defaultOrder": 26,
    "_isFastLaunch": false,
    "category": "Compute optimized",
    "gpuNum": 0,
    "hideHardwareSpecs": false,
    "memoryGiB": 96,
    "name": "ml.c5.12xlarge",
    "vcpuNum": 48
   },
   {
    "_defaultOrder": 27,
    "_isFastLaunch": false,
    "category": "Compute optimized",
    "gpuNum": 0,
    "hideHardwareSpecs": false,
    "memoryGiB": 144,
    "name": "ml.c5.18xlarge",
    "vcpuNum": 72
   },
   {
    "_defaultOrder": 28,
    "_isFastLaunch": false,
    "category": "Compute optimized",
    "gpuNum": 0,
    "hideHardwareSpecs": false,
    "memoryGiB": 192,
    "name": "ml.c5.24xlarge",
    "vcpuNum": 96
   },
   {
    "_defaultOrder": 29,
    "_isFastLaunch": true,
    "category": "Accelerated computing",
    "gpuNum": 1,
    "hideHardwareSpecs": false,
    "memoryGiB": 16,
    "name": "ml.g4dn.xlarge",
    "vcpuNum": 4
   },
   {
    "_defaultOrder": 30,
    "_isFastLaunch": false,
    "category": "Accelerated computing",
    "gpuNum": 1,
    "hideHardwareSpecs": false,
    "memoryGiB": 32,
    "name": "ml.g4dn.2xlarge",
    "vcpuNum": 8
   },
   {
    "_defaultOrder": 31,
    "_isFastLaunch": false,
    "category": "Accelerated computing",
    "gpuNum": 1,
    "hideHardwareSpecs": false,
    "memoryGiB": 64,
    "name": "ml.g4dn.4xlarge",
    "vcpuNum": 16
   },
   {
    "_defaultOrder": 32,
    "_isFastLaunch": false,
    "category": "Accelerated computing",
    "gpuNum": 1,
    "hideHardwareSpecs": false,
    "memoryGiB": 128,
    "name": "ml.g4dn.8xlarge",
    "vcpuNum": 32
   },
   {
    "_defaultOrder": 33,
    "_isFastLaunch": false,
    "category": "Accelerated computing",
    "gpuNum": 4,
    "hideHardwareSpecs": false,
    "memoryGiB": 192,
    "name": "ml.g4dn.12xlarge",
    "vcpuNum": 48
   },
   {
    "_defaultOrder": 34,
    "_isFastLaunch": false,
    "category": "Accelerated computing",
    "gpuNum": 1,
    "hideHardwareSpecs": false,
    "memoryGiB": 256,
    "name": "ml.g4dn.16xlarge",
    "vcpuNum": 64
   },
   {
    "_defaultOrder": 35,
    "_isFastLaunch": false,
    "category": "Accelerated computing",
    "gpuNum": 1,
    "hideHardwareSpecs": false,
    "memoryGiB": 61,
    "name": "ml.p3.2xlarge",
    "vcpuNum": 8
   },
   {
    "_defaultOrder": 36,
    "_isFastLaunch": false,
    "category": "Accelerated computing",
    "gpuNum": 4,
    "hideHardwareSpecs": false,
    "memoryGiB": 244,
    "name": "ml.p3.8xlarge",
    "vcpuNum": 32
   },
   {
    "_defaultOrder": 37,
    "_isFastLaunch": false,
    "category": "Accelerated computing",
    "gpuNum": 8,
    "hideHardwareSpecs": false,
    "memoryGiB": 488,
    "name": "ml.p3.16xlarge",
    "vcpuNum": 64
   },
   {
    "_defaultOrder": 38,
    "_isFastLaunch": false,
    "category": "Accelerated computing",
    "gpuNum": 8,
    "hideHardwareSpecs": false,
    "memoryGiB": 768,
    "name": "ml.p3dn.24xlarge",
    "vcpuNum": 96
   },
   {
    "_defaultOrder": 39,
    "_isFastLaunch": false,
    "category": "Memory Optimized",
    "gpuNum": 0,
    "hideHardwareSpecs": false,
    "memoryGiB": 16,
    "name": "ml.r5.large",
    "vcpuNum": 2
   },
   {
    "_defaultOrder": 40,
    "_isFastLaunch": false,
    "category": "Memory Optimized",
    "gpuNum": 0,
    "hideHardwareSpecs": false,
    "memoryGiB": 32,
    "name": "ml.r5.xlarge",
    "vcpuNum": 4
   },
   {
    "_defaultOrder": 41,
    "_isFastLaunch": false,
    "category": "Memory Optimized",
    "gpuNum": 0,
    "hideHardwareSpecs": false,
    "memoryGiB": 64,
    "name": "ml.r5.2xlarge",
    "vcpuNum": 8
   },
   {
    "_defaultOrder": 42,
    "_isFastLaunch": false,
    "category": "Memory Optimized",
    "gpuNum": 0,
    "hideHardwareSpecs": false,
    "memoryGiB": 128,
    "name": "ml.r5.4xlarge",
    "vcpuNum": 16
   },
   {
    "_defaultOrder": 43,
    "_isFastLaunch": false,
    "category": "Memory Optimized",
    "gpuNum": 0,
    "hideHardwareSpecs": false,
    "memoryGiB": 256,
    "name": "ml.r5.8xlarge",
    "vcpuNum": 32
   },
   {
    "_defaultOrder": 44,
    "_isFastLaunch": false,
    "category": "Memory Optimized",
    "gpuNum": 0,
    "hideHardwareSpecs": false,
    "memoryGiB": 384,
    "name": "ml.r5.12xlarge",
    "vcpuNum": 48
   },
   {
    "_defaultOrder": 45,
    "_isFastLaunch": false,
    "category": "Memory Optimized",
    "gpuNum": 0,
    "hideHardwareSpecs": false,
    "memoryGiB": 512,
    "name": "ml.r5.16xlarge",
    "vcpuNum": 64
   },
   {
    "_defaultOrder": 46,
    "_isFastLaunch": false,
    "category": "Memory Optimized",
    "gpuNum": 0,
    "hideHardwareSpecs": false,
    "memoryGiB": 768,
    "name": "ml.r5.24xlarge",
    "vcpuNum": 96
   },
   {
    "_defaultOrder": 47,
    "_isFastLaunch": false,
    "category": "Accelerated computing",
    "gpuNum": 1,
    "hideHardwareSpecs": false,
    "memoryGiB": 16,
    "name": "ml.g5.xlarge",
    "vcpuNum": 4
   },
   {
    "_defaultOrder": 48,
    "_isFastLaunch": false,
    "category": "Accelerated computing",
    "gpuNum": 1,
    "hideHardwareSpecs": false,
    "memoryGiB": 32,
    "name": "ml.g5.2xlarge",
    "vcpuNum": 8
   },
   {
    "_defaultOrder": 49,
    "_isFastLaunch": false,
    "category": "Accelerated computing",
    "gpuNum": 1,
    "hideHardwareSpecs": false,
    "memoryGiB": 64,
    "name": "ml.g5.4xlarge",
    "vcpuNum": 16
   },
   {
    "_defaultOrder": 50,
    "_isFastLaunch": false,
    "category": "Accelerated computing",
    "gpuNum": 1,
    "hideHardwareSpecs": false,
    "memoryGiB": 128,
    "name": "ml.g5.8xlarge",
    "vcpuNum": 32
   },
   {
    "_defaultOrder": 51,
    "_isFastLaunch": false,
    "category": "Accelerated computing",
    "gpuNum": 1,
    "hideHardwareSpecs": false,
    "memoryGiB": 256,
    "name": "ml.g5.16xlarge",
    "vcpuNum": 64
   },
   {
    "_defaultOrder": 52,
    "_isFastLaunch": false,
    "category": "Accelerated computing",
    "gpuNum": 4,
    "hideHardwareSpecs": false,
    "memoryGiB": 192,
    "name": "ml.g5.12xlarge",
    "vcpuNum": 48
   },
   {
    "_defaultOrder": 53,
    "_isFastLaunch": false,
    "category": "Accelerated computing",
    "gpuNum": 4,
    "hideHardwareSpecs": false,
    "memoryGiB": 384,
    "name": "ml.g5.24xlarge",
    "vcpuNum": 96
   },
   {
    "_defaultOrder": 54,
    "_isFastLaunch": false,
    "category": "Accelerated computing",
    "gpuNum": 8,
    "hideHardwareSpecs": false,
    "memoryGiB": 768,
    "name": "ml.g5.48xlarge",
    "vcpuNum": 192
   },
   {
    "_defaultOrder": 55,
    "_isFastLaunch": false,
    "category": "Accelerated computing",
    "gpuNum": 8,
    "hideHardwareSpecs": false,
    "memoryGiB": 1152,
    "name": "ml.p4d.24xlarge",
    "vcpuNum": 96
   },
   {
    "_defaultOrder": 56,
    "_isFastLaunch": false,
    "category": "Accelerated computing",
    "gpuNum": 8,
    "hideHardwareSpecs": false,
    "memoryGiB": 1152,
    "name": "ml.p4de.24xlarge",
    "vcpuNum": 96
   },
   {
    "_defaultOrder": 57,
    "_isFastLaunch": false,
    "category": "Accelerated computing",
    "gpuNum": 0,
    "hideHardwareSpecs": false,
    "memoryGiB": 32,
    "name": "ml.trn1.2xlarge",
    "vcpuNum": 8
   },
   {
    "_defaultOrder": 58,
    "_isFastLaunch": false,
    "category": "Accelerated computing",
    "gpuNum": 0,
    "hideHardwareSpecs": false,
    "memoryGiB": 512,
    "name": "ml.trn1.32xlarge",
    "vcpuNum": 128
   },
   {
    "_defaultOrder": 59,
    "_isFastLaunch": false,
    "category": "Accelerated computing",
    "gpuNum": 0,
    "hideHardwareSpecs": false,
    "memoryGiB": 512,
    "name": "ml.trn1n.32xlarge",
    "vcpuNum": 128
   }
  ],
  "instance_type": "ml.t3.medium",
  "kernelspec": {
   "display_name": "Python [conda env:ai-mrm] (arn:aws:sagemaker:us-east-1:081325390199:image/sagemaker-data-science-310-v1)",
   "language": "python",
   "name": "conda-env-ai-mrm-py__SAGEMAKER_INTERNAL__arn:aws:sagemaker:us-east-1:081325390199:image/sagemaker-data-science-310-v1"
  },
  "language_info": {
   "codemirror_mode": {
    "name": "ipython",
    "version": 3
   },
   "file_extension": ".py",
   "mimetype": "text/x-python",
   "name": "python",
   "nbconvert_exporter": "python",
   "pygments_lexer": "ipython3",
   "version": "3.9.19"
  }
 },
 "nbformat": 4,
 "nbformat_minor": 5
}
