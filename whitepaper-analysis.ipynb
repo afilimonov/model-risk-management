{
 "cells": [
  {
   "cell_type": "code",
   "execution_count": 2,
   "id": "f1bfd14f",
   "metadata": {
    "tags": []
   },
   "outputs": [],
   "source": [
    "import os\n",
    "import json\n",
    "import time\n",
    "from IPython.display import Markdown, display\n",
    "import requests\n",
    "import textwrap\n",
    "from llama_index.llms import ChatMessage, OpenAI\n",
    "from utils import read_file, read_files, read_files_dir\n",
    "from dotenv import load_dotenv\n",
    "import PyPDF2 as pdf"
   ]
  },
  {
   "cell_type": "code",
   "execution_count": 3,
   "id": "119531c7",
   "metadata": {
    "tags": []
   },
   "outputs": [
    {
     "data": {
      "text/plain": [
       "True"
      ]
     },
     "execution_count": 3,
     "metadata": {},
     "output_type": "execute_result"
    }
   ],
   "source": [
    "load_dotenv()"
   ]
  },
  {
   "cell_type": "code",
   "execution_count": 4,
   "id": "6e511f10",
   "metadata": {
    "tags": []
   },
   "outputs": [],
   "source": [
    "ab_paper = read_file('data/whitepaper/AB_2013-07_Model_Risk_Management_Guidance.txt')\n",
    "moody_paper = read_file('data/whitepaper/riskcalc-3.1-whitepaper.txt')"
   ]
  },
  {
   "cell_type": "code",
   "execution_count": 10,
   "id": "90a852eb",
   "metadata": {
    "tags": []
   },
   "outputs": [
    {
     "data": {
      "text/markdown": [
       "### Identify any specific limitations or concerns regarding the use of the model in a stagflation environment"
      ],
      "text/plain": [
       "<IPython.core.display.Markdown object>"
      ]
     },
     "metadata": {},
     "output_type": "display_data"
    },
    {
     "data": {
      "text/markdown": [
       "The Moody’s KMV RiskCalc™ v3.1 model is designed to predict private firm credit risk by combining financial statement data with market-based indicators. However, the whitepaper does not explicitly address the model's performance in a stagflation environment, which is characterized by slow economic growth and high inflation coupled with high unemployment. Below are potential limitations and concerns regarding the use of the model in such an environment:\n",
       "\n",
       "- **Sensitivity to Economic Conditions**: The model incorporates industry-specific and economy-wide market information, which may not fully capture the unique combination of high inflation and stagnant growth in a stagflation scenario. The model's predictive power could be compromised if it does not adequately account for the impact of stagflation on default probabilities.\n",
       "\n",
       "- **Frequency of Financial Updates**: The model relies on financial statement data, which is typically updated annually or quarterly. In a stagflation environment, the financial health of firms can deteriorate rapidly, and the model may not reflect these changes in a timely manner.\n",
       "\n",
       "- **Market-Based Information**: The model uses market-based information through the distance-to-default measure derived from public firms in corresponding sectors. During stagflation, market sentiment may be unusually negative, which could lead to an overestimation of default probabilities for private firms if the market's reaction is more extreme than the actual increase in credit risk.\n",
       "\n",
       "- **Interest Rates and Inflation**: Stagflation can lead to volatile interest rates as central banks attempt to control inflation. The model may not fully capture the effects of rapidly changing interest rates and inflation on a firm's debt servicing capabilities and overall default risk.\n",
       "\n",
       "- **Industry-Specific Reactions**: Different industries may react differently to stagflation, with some being more resilient than others. The model's industry adjustments may not be granular enough to capture these nuances, potentially leading to inaccurate risk assessments.\n",
       "\n",
       "- **Historical Data and Credit Cycles**: The model's calibration includes data from various credit cycles, but stagflation presents a unique set of economic conditions that may not be well-represented in historical data. This could limit the model's ability to predict defaults accurately during such periods.\n",
       "\n",
       "- **Stress Testing Capabilities**: While the model allows for stress testing firms under different economic conditions, it is unclear how well it can simulate the specific conditions of stagflation, which may limit its usefulness for forecasting and capital planning during such periods.\n",
       "\n",
       "Given these potential limitations, it is advisable to use the RiskCalc™ v3.1 model with caution in a stagflation environment. Users should consider supplementing the model's output with additional analysis that specifically addresses the economic conditions of stagflation. It may also be beneficial to adjust the model inputs or to apply overlays that account for the expected impact of stagflation on default probabilities."
      ],
      "text/plain": [
       "<IPython.core.display.Markdown object>"
      ]
     },
     "metadata": {},
     "output_type": "display_data"
    },
    {
     "data": {
      "text/markdown": [
       "### Consider model usage risks in hyper-inflation scenario"
      ],
      "text/plain": [
       "<IPython.core.display.Markdown object>"
      ]
     },
     "metadata": {},
     "output_type": "display_data"
    },
    {
     "data": {
      "text/markdown": [
       "### Analysis of the Moody’s KMV RiskCalc™ v3.1 Model in a Hyper-Inflation Scenario\n",
       "\n",
       "#### Specific Analysis Topics:\n",
       "\n",
       "- **Model Sensitivity to Financial Ratios**: The RiskCalc v3.1 model utilizes financial ratios derived from firm financial statements, which can be significantly distorted in a hyper-inflationary environment. Ratios such as profitability, leverage, and liquidity are directly affected by inflationary adjustments. In hyper-inflation, historical financial data may not be representative of current or future conditions, leading to inaccurate risk assessments.\n",
       "\n",
       "- **Adjustment for Inflation in Financial Statements**: The model's predictive accuracy depends on the quality of the input data. In a hyper-inflation scenario, financial statements must be adjusted for inflation to provide meaningful comparisons over time. The whitepaper does not explicitly address how the model accounts for hyper-inflation in financial statement data.\n",
       "\n",
       "- **Market-Based Information Sensitivity**: The model incorporates market-based information through the distance-to-default measure, which is derived from equity markets. In a hyper-inflation scenario, equity markets may exhibit high volatility, which could lead to over- or underestimation of the distance-to-default measure and, consequently, the default risk.\n",
       "\n",
       "- **Currency and Exchange Rate Fluctuations**: Hyper-inflation often leads to significant currency devaluation and exchange rate fluctuations. The model's performance may be compromised if it does not account for these factors, especially for multinational companies or firms with foreign currency exposure.\n",
       "\n",
       "- **Term Structure of Default Probabilities**: The model provides default probabilities over various horizons (9 months to 5 years). In a hyper-inflation environment, the short-term default probabilities may be more relevant due to rapid changes in economic conditions. The model's longer-term default probabilities may be less reliable in such scenarios.\n",
       "\n",
       "- **Stress Testing Capabilities**: The model includes stress testing capabilities, allowing users to assess the impact of different economic conditions on default likelihoods. It is crucial to evaluate whether the stress testing scenarios adequately capture the extreme conditions of hyper-inflation and their impact on default rates.\n",
       "\n",
       "- **Regulatory Requirements and Model Validation**: The model is designed to meet regulatory requirements, including validation and testing. However, the validation tests may not have considered hyper-inflation scenarios, which could affect the model's regulatory compliance in such environments.\n",
       "\n",
       "#### Recommendation on Model Usage in Hyper-Inflation Scenario:\n",
       "\n",
       "Given the identified limitations and the lack of explicit mention of hyper-inflation scenarios in the whitepaper, it is recommended to exercise caution when using the RiskCalc v3.1 model in hyper-inflationary environments. The model's predictive power and accuracy may be compromised due to the rapid and significant changes in economic indicators, financial statement distortions, and market volatility associated with hyper-inflation.\n",
       "\n",
       "Before adopting the model for usage in a hyper-inflation scenario, it is advisable to:\n",
       "\n",
       "- Conduct additional stress testing specifically designed for hyper-inflation conditions.\n",
       "- Adjust financial statement data for inflationary effects to ensure accurate input data.\n",
       "- Monitor currency and exchange rate risks closely, especially for firms with international exposure.\n",
       "- Place greater emphasis on short-term default probabilities and be cautious with longer-term predictions.\n",
       "- Review and update the model calibration frequently to reflect the rapidly changing economic environment.\n",
       "\n",
       "If the model cannot be sufficiently adapted to account for the unique challenges of hyper-inflation, alternative risk assessment methods should be considered, or the model should be used in conjunction with other tools that better capture the risks associated with hyper-inflation."
      ],
      "text/plain": [
       "<IPython.core.display.Markdown object>"
      ]
     },
     "metadata": {},
     "output_type": "display_data"
    },
    {
     "data": {
      "text/markdown": [
       "### What is model impact on meaning of life"
      ],
      "text/plain": [
       "<IPython.core.display.Markdown object>"
      ]
     },
     "metadata": {},
     "output_type": "display_data"
    },
    {
     "data": {
      "text/markdown": [
       "The model described in the whitepaper, Moody’s KMV RiskCalc™ v3.1, is a tool for predicting private firm credit risk and does not directly address philosophical or existential questions such as the meaning of life. The model is designed for financial institutions to assess the creditworthiness of middle-market companies more accurately, which can lead to more informed lending decisions, better risk management, and potentially higher profitability for lenders.\n",
       "\n",
       "However, if we consider the broader impact of such a model on society and individuals, we can infer some indirect connections to the concept of \"meaning of life\" as it pertains to economic stability and prosperity:\n",
       "\n",
       "- **Economic Stability**: By improving the accuracy of credit risk assessment, the model can contribute to the overall stability of the financial system. A stable financial system can support economic growth, which can improve the quality of life for individuals within the society.\n",
       "\n",
       "- **Business Growth and Employment**: Accurate credit risk models can help lenders provide capital to businesses that are less likely to default. This can support business growth and sustainability, which in turn can lead to job creation and economic opportunities for individuals.\n",
       "\n",
       "- **Financial Inclusion**: Improved risk assessment models may enable lenders to extend credit to businesses that might have been previously overlooked due to less sophisticated risk analysis. This can promote financial inclusion and support entrepreneurs and small businesses, which can be fulfilling for individuals seeking to realize their business aspirations.\n",
       "\n",
       "- **Investor Confidence**: Investors may have more confidence in the financial markets when they believe that credit risk is being assessed accurately and managed effectively. This can lead to more investment in businesses and potentially higher returns for investors, contributing to their financial well-being.\n",
       "\n",
       "In summary, while the RiskCalc™ v3.1 model itself does not address the meaning of life, its application in the financial industry can have a positive impact on economic factors that indirectly influence individuals' pursuit of fulfillment, stability, and prosperity."
      ],
      "text/plain": [
       "<IPython.core.display.Markdown object>"
      ]
     },
     "metadata": {},
     "output_type": "display_data"
    }
   ],
   "source": [
    "def get_document_analysis(document, question, model='gpt-4', temperature=0, max_tokens=4096, top_p=0.5, frequency_penalty=0, presence_penalty=0): \n",
    "    instructions = f\"\"\"As a model risk validator, please conduct a detailed analysis of the provided model whitepaer in context of user request. \n",
    "Your response should use Markdown forman and include:\n",
    "Bullet points highlighting specific analysis topic with references or direct quotations from the whitepaper, citing specific sections, tables, or figures that support the analysis\n",
    "A clear, evidence-based recommendation on whether the model should be adopted for usage,\n",
    "considering the identified limitations.\"\"\"\n",
    "    \n",
    "    \n",
    "    messages = [\n",
    "        ChatMessage(role=\"system\", content=instructions), \n",
    "        ChatMessage(role=\"user\", content=\"get model whitepaer\"),\n",
    "        ChatMessage(role=\"assistant\", content=document),\n",
    "        ChatMessage(role=\"user\", content=question)\n",
    "    ]\n",
    "\n",
    "    llm = OpenAI(  \n",
    "        api_key=os.environ.get('OPENAI_API_KEY'),  \n",
    "        model=model, \n",
    "        context_window=32768,  \n",
    "    )  \n",
    "\n",
    "    response = llm.chat(messages)\n",
    "    #response = client.get_completion(\n",
    "    #  model=model,\n",
    "    #  messages=messages,\n",
    "    #  temperature=temperature,\n",
    "    #  max_tokens=max_tokens,\n",
    "    #  top_p=top_p,\n",
    "    #  n=1,\n",
    "    #  frequency_penalty=frequency_penalty,\n",
    "    #  presence_penalty=presence_penalty,\n",
    "    #  logprobs=True,\n",
    "    #  top_logprobs=5\n",
    "    #)    \n",
    "    #return response.choices[0].message.content.strip(), response.choices[0].logprobs\n",
    "    return response.message.content\n",
    "\n",
    "qq = ['Identify any specific limitations or concerns regarding the use of the model in a stagflation environment',\n",
    "      'Consider model usage risks in hyper-inflation scenario',\n",
    "      'What is model impact on meaning of life']\n",
    "for q in qq:\n",
    "    content = get_document_analysis(moody_paper, q, 'gpt-4-1106-preview')\n",
    "    display(Markdown(f\"### {q.capitalize()}\"))\n",
    "    display(Markdown(content))\n"
   ]
  },
  {
   "cell_type": "code",
   "execution_count": 12,
   "id": "330274d1-126e-435c-ba55-d59a157588d3",
   "metadata": {},
   "outputs": [
    {
     "data": {
      "text/markdown": [
       "### Generate a list of the model analysis objectives using provided model whitepaper"
      ],
      "text/plain": [
       "<IPython.core.display.Markdown object>"
      ]
     },
     "metadata": {},
     "output_type": "display_data"
    },
    {
     "data": {
      "text/markdown": [
       "Based on the provided whitepaper for Moody’s KMV RiskCalc™ v3.1 Model, the following list outlines the objectives for analyzing the model:\n",
       "\n",
       "1. **Assess Methodology and Innovations**:\n",
       "   - Evaluate the integration of the structural, market-based comparables approach with the localized financial statement-based approach.\n",
       "   - Analyze the introduction of industry sector information and market information adjustments for industry default rates.\n",
       "\n",
       "2. **Data Quality and Database Utilization**:\n",
       "   - Examine the expansion and refinement of the Credit Research Database (CRD) and its impact on model performance.\n",
       "   - Review the data cleaning processes and advanced statistical techniques employed for data quality management.\n",
       "\n",
       "3. **Model Performance and Validation**:\n",
       "   - Validate the model's predictive power in differentiating between defaulting and non-defaulting firms.\n",
       "   - Confirm the model's calibration accuracy in terms of default probability predictions aligning with actual outcomes.\n",
       "   - Conduct out-of-sample and out-of-time testing to ensure robustness and avoid overfitting.\n",
       "\n",
       "4. **Regulatory Compliance**:\n",
       "   - Ensure the model meets the requirements of the New Basel Capital Accords, including documentation, validation, and testing.\n",
       "   - Evaluate the model's ability to perform stress testing and its adaptability to different economic cycles.\n",
       "\n",
       "5. **Term Structure of Default Probabilities**:\n",
       "   - Analyze the model's capability to calculate EDF values over various horizons, from nine months to five years.\n",
       "   - Assess the incorporation of mean reversion in credit risk within the term structure framework.\n",
       "\n",
       "6. **Industry-Specific Trends and Credit Cycle Analysis**:\n",
       "   - Investigate the transformation of equity market information into credit signals through the EDF structural methodology.\n",
       "   - Examine the model's responsiveness to industry-specific trends and general credit cycle conditions.\n",
       "\n",
       "7. **Economic Impact and Profitability**:\n",
       "   - Estimate the potential economic benefits and increased profitability for lenders using the RiskCalc v3.1 model.\n",
       "   - Compare the model's performance and economic impact against other models such as Z-Score and the original RiskCalc v1.0.\n",
       "\n",
       "8. **Integration with Analytic Tools**:\n",
       "   - Review the seamless integration of the RiskCalc v3.1 model with other Moody’s KMV credit analytic tools.\n",
       "\n",
       "9. **Model Transparency and Intuitiveness**:\n",
       "   - Evaluate the transparency of the model in terms of how changes in input variables result in changes in EDF values.\n",
       "   - Assess the intuitiveness of the model for credit analysts, particularly in relation to the financial statement factors used.\n",
       "\n",
       "10. **Model Scalability and Localization**:\n",
       "    - Analyze the model's scalability and its ability to be localized for different countries, reflecting specific credit and accounting practices.\n",
       "\n",
       "11. **Review of Technical Documentation**:\n",
       "    - Examine the technical documentation provided for the RiskCalc v3.1 model to ensure comprehensive understanding and proper implementation.\n",
       "\n",
       "12. **Recommendation for Adoption**:\n",
       "    - Based on the analysis, provide a clear, evidence-based recommendation on whether the RiskCalc v3.1 model should be adopted for usage, considering the identified limitations and benefits."
      ],
      "text/plain": [
       "<IPython.core.display.Markdown object>"
      ]
     },
     "metadata": {},
     "output_type": "display_data"
    },
    {
     "data": {
      "text/markdown": [
       "### Generate a list of objecttives for assessing the model peformance in different economic environments usingf providedl model whitepaper"
      ],
      "text/plain": [
       "<IPython.core.display.Markdown object>"
      ]
     },
     "metadata": {},
     "output_type": "display_data"
    },
    {
     "data": {
      "text/markdown": [
       "### Objectives for Assessing Model Performance in Different Economic Environments\n",
       "\n",
       "1. **Evaluate Predictive Power Across Economic Cycles**\n",
       "   - Assess the model's ability to accurately rank-order credit risk during periods of economic expansion, contraction, and recovery.\n",
       "   - Reference: Section 4.4, \"Model Performance Over the Credit Cycle\"\n",
       "\n",
       "2. **Analyze Model Calibration Over Time**\n",
       "   - Determine how well the model's predicted probabilities of default align with actual default rates during different economic phases.\n",
       "   - Reference: Section 4.1, \"Model Power and Calibration\"\n",
       "\n",
       "3. **Test Model Robustness with Out-of-Sample Data**\n",
       "   - Validate the model's performance using data that was not included in the development sample, ensuring that the model is not overfitted and performs well with new information.\n",
       "   - Reference: Section 4.2, \"Validation via Out-of-Sample Data\"\n",
       "\n",
       "4. **Conduct Stress Testing Scenarios**\n",
       "   - Utilize the model's ability to stress test a firm’s sensitivity to the probability of default at different stages of a credit cycle, including extreme economic conditions.\n",
       "   - Reference: Section 2.3, \"Support for Regulatory Requirements\"\n",
       "\n",
       "5. **Assess Industry-Specific Performance**\n",
       "   - Evaluate the model's performance across various industries, especially during industry-specific downturns or booms.\n",
       "   - Reference: Section 3.3, \"Introducing Industry Variation to the Model\"\n",
       "\n",
       "6. **Examine Forward-Looking Indicators**\n",
       "   - Investigate the model's use of forward-looking market data, such as the distance-to-default measure, and its effectiveness in predicting defaults before they are reflected in financial statements.\n",
       "   - Reference: Section 3.2, \"RiskCalc v3.1: The Complete Version\"\n",
       "\n",
       "7. **Analyze Term Structure of Default Probabilities**\n",
       "   - Analyze the model's ability to provide accurate default probabilities over various time horizons, from nine months to five years, and how these change in different economic environments.\n",
       "   - Reference: Section 3.4.3, \"Extending and Filling In the Default Term Structure\"\n",
       "\n",
       "8. **Review Model Performance Post-Model Development**\n",
       "   - Assess the model's performance on data that became available after the model was completed to ensure that the model remains predictive with the most current data.\n",
       "   - Reference: Section 4.3, \"Testing Details\"\n",
       "\n",
       "9. **Quantify Economic Value of Model Performance**\n",
       "   - Estimate the economic impact of using the model in terms of profitability and risk-adjusted return on capital, particularly in different competitive and economic environments.\n",
       "   - Reference: Section 5, \"Economic Value of RiskCalc v3.1 Model Power Differential\"\n",
       "\n",
       "10. **Ensure Compliance with Regulatory Requirements**\n",
       "    - Verify that the model meets the requirements of the New Basel Capital Accord, including extensive documentation, validation, and testing.\n",
       "    - Reference: Section 2.3, \"Support for Regulatory Requirements\"\n",
       "\n",
       "11. **Monitor Model Performance Stability**\n",
       "    - Continuously monitor the model's stability and performance over time, ensuring that it does not degrade as economic conditions change.\n",
       "    - Reference: Section 4.3, \"Testing Details\"\n",
       "\n",
       "12. **Evaluate Model's Ability to Handle Data Quality Issues**\n",
       "    - Assess how the model manages data quality and integrity, particularly in the context of economic downturns when financial reporting may be stressed.\n",
       "    - Reference: Section 3.4.1, \"Managing Data Quality\""
      ],
      "text/plain": [
       "<IPython.core.display.Markdown object>"
      ]
     },
     "metadata": {},
     "output_type": "display_data"
    }
   ],
   "source": [
    "qq = [\"Generate a list of the model analysis objectives using provided model whitepaper\",\n",
    "      \"Generate a list of objecttives for assessing the model peformance in different economic environments usingf providedl model whitepaper\"]\n",
    "\n",
    "for q in qq:\n",
    "    content = get_document_analysis(moody_paper, q, 'gpt-4-1106-preview')\n",
    "    display(Markdown(f\"### {q.capitalize()}\"))\n",
    "    display(Markdown(content))"
   ]
  },
  {
   "cell_type": "code",
   "execution_count": null,
   "id": "6be1d4d5-afeb-489a-a926-01dacff9e27f",
   "metadata": {},
   "outputs": [],
   "source": []
  }
 ],
 "metadata": {
  "availableInstances": [
   {
    "_defaultOrder": 0,
    "_isFastLaunch": true,
    "category": "General purpose",
    "gpuNum": 0,
    "hideHardwareSpecs": false,
    "memoryGiB": 4,
    "name": "ml.t3.medium",
    "vcpuNum": 2
   },
   {
    "_defaultOrder": 1,
    "_isFastLaunch": false,
    "category": "General purpose",
    "gpuNum": 0,
    "hideHardwareSpecs": false,
    "memoryGiB": 8,
    "name": "ml.t3.large",
    "vcpuNum": 2
   },
   {
    "_defaultOrder": 2,
    "_isFastLaunch": false,
    "category": "General purpose",
    "gpuNum": 0,
    "hideHardwareSpecs": false,
    "memoryGiB": 16,
    "name": "ml.t3.xlarge",
    "vcpuNum": 4
   },
   {
    "_defaultOrder": 3,
    "_isFastLaunch": false,
    "category": "General purpose",
    "gpuNum": 0,
    "hideHardwareSpecs": false,
    "memoryGiB": 32,
    "name": "ml.t3.2xlarge",
    "vcpuNum": 8
   },
   {
    "_defaultOrder": 4,
    "_isFastLaunch": true,
    "category": "General purpose",
    "gpuNum": 0,
    "hideHardwareSpecs": false,
    "memoryGiB": 8,
    "name": "ml.m5.large",
    "vcpuNum": 2
   },
   {
    "_defaultOrder": 5,
    "_isFastLaunch": false,
    "category": "General purpose",
    "gpuNum": 0,
    "hideHardwareSpecs": false,
    "memoryGiB": 16,
    "name": "ml.m5.xlarge",
    "vcpuNum": 4
   },
   {
    "_defaultOrder": 6,
    "_isFastLaunch": false,
    "category": "General purpose",
    "gpuNum": 0,
    "hideHardwareSpecs": false,
    "memoryGiB": 32,
    "name": "ml.m5.2xlarge",
    "vcpuNum": 8
   },
   {
    "_defaultOrder": 7,
    "_isFastLaunch": false,
    "category": "General purpose",
    "gpuNum": 0,
    "hideHardwareSpecs": false,
    "memoryGiB": 64,
    "name": "ml.m5.4xlarge",
    "vcpuNum": 16
   },
   {
    "_defaultOrder": 8,
    "_isFastLaunch": false,
    "category": "General purpose",
    "gpuNum": 0,
    "hideHardwareSpecs": false,
    "memoryGiB": 128,
    "name": "ml.m5.8xlarge",
    "vcpuNum": 32
   },
   {
    "_defaultOrder": 9,
    "_isFastLaunch": false,
    "category": "General purpose",
    "gpuNum": 0,
    "hideHardwareSpecs": false,
    "memoryGiB": 192,
    "name": "ml.m5.12xlarge",
    "vcpuNum": 48
   },
   {
    "_defaultOrder": 10,
    "_isFastLaunch": false,
    "category": "General purpose",
    "gpuNum": 0,
    "hideHardwareSpecs": false,
    "memoryGiB": 256,
    "name": "ml.m5.16xlarge",
    "vcpuNum": 64
   },
   {
    "_defaultOrder": 11,
    "_isFastLaunch": false,
    "category": "General purpose",
    "gpuNum": 0,
    "hideHardwareSpecs": false,
    "memoryGiB": 384,
    "name": "ml.m5.24xlarge",
    "vcpuNum": 96
   },
   {
    "_defaultOrder": 12,
    "_isFastLaunch": false,
    "category": "General purpose",
    "gpuNum": 0,
    "hideHardwareSpecs": false,
    "memoryGiB": 8,
    "name": "ml.m5d.large",
    "vcpuNum": 2
   },
   {
    "_defaultOrder": 13,
    "_isFastLaunch": false,
    "category": "General purpose",
    "gpuNum": 0,
    "hideHardwareSpecs": false,
    "memoryGiB": 16,
    "name": "ml.m5d.xlarge",
    "vcpuNum": 4
   },
   {
    "_defaultOrder": 14,
    "_isFastLaunch": false,
    "category": "General purpose",
    "gpuNum": 0,
    "hideHardwareSpecs": false,
    "memoryGiB": 32,
    "name": "ml.m5d.2xlarge",
    "vcpuNum": 8
   },
   {
    "_defaultOrder": 15,
    "_isFastLaunch": false,
    "category": "General purpose",
    "gpuNum": 0,
    "hideHardwareSpecs": false,
    "memoryGiB": 64,
    "name": "ml.m5d.4xlarge",
    "vcpuNum": 16
   },
   {
    "_defaultOrder": 16,
    "_isFastLaunch": false,
    "category": "General purpose",
    "gpuNum": 0,
    "hideHardwareSpecs": false,
    "memoryGiB": 128,
    "name": "ml.m5d.8xlarge",
    "vcpuNum": 32
   },
   {
    "_defaultOrder": 17,
    "_isFastLaunch": false,
    "category": "General purpose",
    "gpuNum": 0,
    "hideHardwareSpecs": false,
    "memoryGiB": 192,
    "name": "ml.m5d.12xlarge",
    "vcpuNum": 48
   },
   {
    "_defaultOrder": 18,
    "_isFastLaunch": false,
    "category": "General purpose",
    "gpuNum": 0,
    "hideHardwareSpecs": false,
    "memoryGiB": 256,
    "name": "ml.m5d.16xlarge",
    "vcpuNum": 64
   },
   {
    "_defaultOrder": 19,
    "_isFastLaunch": false,
    "category": "General purpose",
    "gpuNum": 0,
    "hideHardwareSpecs": false,
    "memoryGiB": 384,
    "name": "ml.m5d.24xlarge",
    "vcpuNum": 96
   },
   {
    "_defaultOrder": 20,
    "_isFastLaunch": false,
    "category": "General purpose",
    "gpuNum": 0,
    "hideHardwareSpecs": true,
    "memoryGiB": 0,
    "name": "ml.geospatial.interactive",
    "supportedImageNames": [
     "sagemaker-geospatial-v1-0"
    ],
    "vcpuNum": 0
   },
   {
    "_defaultOrder": 21,
    "_isFastLaunch": true,
    "category": "Compute optimized",
    "gpuNum": 0,
    "hideHardwareSpecs": false,
    "memoryGiB": 4,
    "name": "ml.c5.large",
    "vcpuNum": 2
   },
   {
    "_defaultOrder": 22,
    "_isFastLaunch": false,
    "category": "Compute optimized",
    "gpuNum": 0,
    "hideHardwareSpecs": false,
    "memoryGiB": 8,
    "name": "ml.c5.xlarge",
    "vcpuNum": 4
   },
   {
    "_defaultOrder": 23,
    "_isFastLaunch": false,
    "category": "Compute optimized",
    "gpuNum": 0,
    "hideHardwareSpecs": false,
    "memoryGiB": 16,
    "name": "ml.c5.2xlarge",
    "vcpuNum": 8
   },
   {
    "_defaultOrder": 24,
    "_isFastLaunch": false,
    "category": "Compute optimized",
    "gpuNum": 0,
    "hideHardwareSpecs": false,
    "memoryGiB": 32,
    "name": "ml.c5.4xlarge",
    "vcpuNum": 16
   },
   {
    "_defaultOrder": 25,
    "_isFastLaunch": false,
    "category": "Compute optimized",
    "gpuNum": 0,
    "hideHardwareSpecs": false,
    "memoryGiB": 72,
    "name": "ml.c5.9xlarge",
    "vcpuNum": 36
   },
   {
    "_defaultOrder": 26,
    "_isFastLaunch": false,
    "category": "Compute optimized",
    "gpuNum": 0,
    "hideHardwareSpecs": false,
    "memoryGiB": 96,
    "name": "ml.c5.12xlarge",
    "vcpuNum": 48
   },
   {
    "_defaultOrder": 27,
    "_isFastLaunch": false,
    "category": "Compute optimized",
    "gpuNum": 0,
    "hideHardwareSpecs": false,
    "memoryGiB": 144,
    "name": "ml.c5.18xlarge",
    "vcpuNum": 72
   },
   {
    "_defaultOrder": 28,
    "_isFastLaunch": false,
    "category": "Compute optimized",
    "gpuNum": 0,
    "hideHardwareSpecs": false,
    "memoryGiB": 192,
    "name": "ml.c5.24xlarge",
    "vcpuNum": 96
   },
   {
    "_defaultOrder": 29,
    "_isFastLaunch": true,
    "category": "Accelerated computing",
    "gpuNum": 1,
    "hideHardwareSpecs": false,
    "memoryGiB": 16,
    "name": "ml.g4dn.xlarge",
    "vcpuNum": 4
   },
   {
    "_defaultOrder": 30,
    "_isFastLaunch": false,
    "category": "Accelerated computing",
    "gpuNum": 1,
    "hideHardwareSpecs": false,
    "memoryGiB": 32,
    "name": "ml.g4dn.2xlarge",
    "vcpuNum": 8
   },
   {
    "_defaultOrder": 31,
    "_isFastLaunch": false,
    "category": "Accelerated computing",
    "gpuNum": 1,
    "hideHardwareSpecs": false,
    "memoryGiB": 64,
    "name": "ml.g4dn.4xlarge",
    "vcpuNum": 16
   },
   {
    "_defaultOrder": 32,
    "_isFastLaunch": false,
    "category": "Accelerated computing",
    "gpuNum": 1,
    "hideHardwareSpecs": false,
    "memoryGiB": 128,
    "name": "ml.g4dn.8xlarge",
    "vcpuNum": 32
   },
   {
    "_defaultOrder": 33,
    "_isFastLaunch": false,
    "category": "Accelerated computing",
    "gpuNum": 4,
    "hideHardwareSpecs": false,
    "memoryGiB": 192,
    "name": "ml.g4dn.12xlarge",
    "vcpuNum": 48
   },
   {
    "_defaultOrder": 34,
    "_isFastLaunch": false,
    "category": "Accelerated computing",
    "gpuNum": 1,
    "hideHardwareSpecs": false,
    "memoryGiB": 256,
    "name": "ml.g4dn.16xlarge",
    "vcpuNum": 64
   },
   {
    "_defaultOrder": 35,
    "_isFastLaunch": false,
    "category": "Accelerated computing",
    "gpuNum": 1,
    "hideHardwareSpecs": false,
    "memoryGiB": 61,
    "name": "ml.p3.2xlarge",
    "vcpuNum": 8
   },
   {
    "_defaultOrder": 36,
    "_isFastLaunch": false,
    "category": "Accelerated computing",
    "gpuNum": 4,
    "hideHardwareSpecs": false,
    "memoryGiB": 244,
    "name": "ml.p3.8xlarge",
    "vcpuNum": 32
   },
   {
    "_defaultOrder": 37,
    "_isFastLaunch": false,
    "category": "Accelerated computing",
    "gpuNum": 8,
    "hideHardwareSpecs": false,
    "memoryGiB": 488,
    "name": "ml.p3.16xlarge",
    "vcpuNum": 64
   },
   {
    "_defaultOrder": 38,
    "_isFastLaunch": false,
    "category": "Accelerated computing",
    "gpuNum": 8,
    "hideHardwareSpecs": false,
    "memoryGiB": 768,
    "name": "ml.p3dn.24xlarge",
    "vcpuNum": 96
   },
   {
    "_defaultOrder": 39,
    "_isFastLaunch": false,
    "category": "Memory Optimized",
    "gpuNum": 0,
    "hideHardwareSpecs": false,
    "memoryGiB": 16,
    "name": "ml.r5.large",
    "vcpuNum": 2
   },
   {
    "_defaultOrder": 40,
    "_isFastLaunch": false,
    "category": "Memory Optimized",
    "gpuNum": 0,
    "hideHardwareSpecs": false,
    "memoryGiB": 32,
    "name": "ml.r5.xlarge",
    "vcpuNum": 4
   },
   {
    "_defaultOrder": 41,
    "_isFastLaunch": false,
    "category": "Memory Optimized",
    "gpuNum": 0,
    "hideHardwareSpecs": false,
    "memoryGiB": 64,
    "name": "ml.r5.2xlarge",
    "vcpuNum": 8
   },
   {
    "_defaultOrder": 42,
    "_isFastLaunch": false,
    "category": "Memory Optimized",
    "gpuNum": 0,
    "hideHardwareSpecs": false,
    "memoryGiB": 128,
    "name": "ml.r5.4xlarge",
    "vcpuNum": 16
   },
   {
    "_defaultOrder": 43,
    "_isFastLaunch": false,
    "category": "Memory Optimized",
    "gpuNum": 0,
    "hideHardwareSpecs": false,
    "memoryGiB": 256,
    "name": "ml.r5.8xlarge",
    "vcpuNum": 32
   },
   {
    "_defaultOrder": 44,
    "_isFastLaunch": false,
    "category": "Memory Optimized",
    "gpuNum": 0,
    "hideHardwareSpecs": false,
    "memoryGiB": 384,
    "name": "ml.r5.12xlarge",
    "vcpuNum": 48
   },
   {
    "_defaultOrder": 45,
    "_isFastLaunch": false,
    "category": "Memory Optimized",
    "gpuNum": 0,
    "hideHardwareSpecs": false,
    "memoryGiB": 512,
    "name": "ml.r5.16xlarge",
    "vcpuNum": 64
   },
   {
    "_defaultOrder": 46,
    "_isFastLaunch": false,
    "category": "Memory Optimized",
    "gpuNum": 0,
    "hideHardwareSpecs": false,
    "memoryGiB": 768,
    "name": "ml.r5.24xlarge",
    "vcpuNum": 96
   },
   {
    "_defaultOrder": 47,
    "_isFastLaunch": false,
    "category": "Accelerated computing",
    "gpuNum": 1,
    "hideHardwareSpecs": false,
    "memoryGiB": 16,
    "name": "ml.g5.xlarge",
    "vcpuNum": 4
   },
   {
    "_defaultOrder": 48,
    "_isFastLaunch": false,
    "category": "Accelerated computing",
    "gpuNum": 1,
    "hideHardwareSpecs": false,
    "memoryGiB": 32,
    "name": "ml.g5.2xlarge",
    "vcpuNum": 8
   },
   {
    "_defaultOrder": 49,
    "_isFastLaunch": false,
    "category": "Accelerated computing",
    "gpuNum": 1,
    "hideHardwareSpecs": false,
    "memoryGiB": 64,
    "name": "ml.g5.4xlarge",
    "vcpuNum": 16
   },
   {
    "_defaultOrder": 50,
    "_isFastLaunch": false,
    "category": "Accelerated computing",
    "gpuNum": 1,
    "hideHardwareSpecs": false,
    "memoryGiB": 128,
    "name": "ml.g5.8xlarge",
    "vcpuNum": 32
   },
   {
    "_defaultOrder": 51,
    "_isFastLaunch": false,
    "category": "Accelerated computing",
    "gpuNum": 1,
    "hideHardwareSpecs": false,
    "memoryGiB": 256,
    "name": "ml.g5.16xlarge",
    "vcpuNum": 64
   },
   {
    "_defaultOrder": 52,
    "_isFastLaunch": false,
    "category": "Accelerated computing",
    "gpuNum": 4,
    "hideHardwareSpecs": false,
    "memoryGiB": 192,
    "name": "ml.g5.12xlarge",
    "vcpuNum": 48
   },
   {
    "_defaultOrder": 53,
    "_isFastLaunch": false,
    "category": "Accelerated computing",
    "gpuNum": 4,
    "hideHardwareSpecs": false,
    "memoryGiB": 384,
    "name": "ml.g5.24xlarge",
    "vcpuNum": 96
   },
   {
    "_defaultOrder": 54,
    "_isFastLaunch": false,
    "category": "Accelerated computing",
    "gpuNum": 8,
    "hideHardwareSpecs": false,
    "memoryGiB": 768,
    "name": "ml.g5.48xlarge",
    "vcpuNum": 192
   },
   {
    "_defaultOrder": 55,
    "_isFastLaunch": false,
    "category": "Accelerated computing",
    "gpuNum": 8,
    "hideHardwareSpecs": false,
    "memoryGiB": 1152,
    "name": "ml.p4d.24xlarge",
    "vcpuNum": 96
   },
   {
    "_defaultOrder": 56,
    "_isFastLaunch": false,
    "category": "Accelerated computing",
    "gpuNum": 8,
    "hideHardwareSpecs": false,
    "memoryGiB": 1152,
    "name": "ml.p4de.24xlarge",
    "vcpuNum": 96
   },
   {
    "_defaultOrder": 57,
    "_isFastLaunch": false,
    "category": "Accelerated computing",
    "gpuNum": 0,
    "hideHardwareSpecs": false,
    "memoryGiB": 32,
    "name": "ml.trn1.2xlarge",
    "vcpuNum": 8
   },
   {
    "_defaultOrder": 58,
    "_isFastLaunch": false,
    "category": "Accelerated computing",
    "gpuNum": 0,
    "hideHardwareSpecs": false,
    "memoryGiB": 512,
    "name": "ml.trn1.32xlarge",
    "vcpuNum": 128
   },
   {
    "_defaultOrder": 59,
    "_isFastLaunch": false,
    "category": "Accelerated computing",
    "gpuNum": 0,
    "hideHardwareSpecs": false,
    "memoryGiB": 512,
    "name": "ml.trn1n.32xlarge",
    "vcpuNum": 128
   }
  ],
  "instance_type": "ml.t3.medium",
  "kernelspec": {
   "display_name": "Python 3 (ipykernel)",
   "language": "python",
   "name": "python3"
  },
  "language_info": {
   "codemirror_mode": {
    "name": "ipython",
    "version": 3
   },
   "file_extension": ".py",
   "mimetype": "text/x-python",
   "name": "python",
   "nbconvert_exporter": "python",
   "pygments_lexer": "ipython3",
   "version": "3.9.15"
  }
 },
 "nbformat": 4,
 "nbformat_minor": 5
}
