{
 "cells": [
  {
   "cell_type": "code",
   "execution_count": 1,
   "id": "f1bfd14f",
   "metadata": {
    "tags": []
   },
   "outputs": [],
   "source": [
    "import os\n",
    "import json\n",
    "import time\n",
    "from IPython.display import Markdown, display\n",
    "import requests\n",
    "import textwrap\n",
    "from oai import OAIClient\n",
    "from utils import read_file, read_files, read_files_dir\n",
    "from dotenv import load_dotenv\n",
    "import PyPDF2 as pdf"
   ]
  },
  {
   "cell_type": "code",
   "execution_count": 2,
   "id": "119531c7",
   "metadata": {
    "tags": []
   },
   "outputs": [],
   "source": [
    "load_dotenv()\n",
    "client = OAIClient()"
   ]
  },
  {
   "cell_type": "code",
   "execution_count": 3,
   "id": "4fb2d6c9",
   "metadata": {
    "tags": []
   },
   "outputs": [],
   "source": [
    "def read_pdf(file):\n",
    "    text = \"\"\n",
    "# Open the PDF file\n",
    "    with open(file, 'rb') as file:\n",
    "        reader = pdf.PdfReader (file)\n",
    "\n",
    "        # Iterate over all the pages\n",
    "        for page in reader.pages:\n",
    "            # Get a specific page\n",
    "            #page = reader.pages[page_num]\n",
    "            parts = []\n",
    "            \n",
    "            def visitor_body(text, cm, tm, font_dict, font_size):\n",
    "                #print(text)\n",
    "                #print(cm)\n",
    "                y = cm[5]\n",
    "                if y > 50 and y < 720:\n",
    "                    parts.append(text)\n",
    "                    \n",
    "            # Extract text from the page ignoring header and footer\n",
    "            page.extract_text(visitor_text=visitor_body)\n",
    "            text += \"\".join(parts)\n",
    "    return text\n",
    "\n",
    "#print(read_pdf('data/whitepaper/AB_2013-07_Model_Risk_Management_Guidance.pdf'))"
   ]
  },
  {
   "cell_type": "code",
   "execution_count": 4,
   "id": "6e511f10",
   "metadata": {
    "tags": []
   },
   "outputs": [],
   "source": [
    "ab_paper = read_file('data/whitepaper/AB_2013-07_Model_Risk_Management_Guidance.txt')\n",
    "moody_paper = read_file('data/whitepaper/riskcalc-3.1-whitepaper.txt')"
   ]
  },
  {
   "cell_type": "code",
   "execution_count": 5,
   "id": "90a852eb",
   "metadata": {
    "tags": []
   },
   "outputs": [
    {
     "data": {
      "text/markdown": [
       "### Identify any specific limitations or concerns regarding the use of the model in a stagflation environment"
      ],
      "text/plain": [
       "<IPython.core.display.Markdown object>"
      ]
     },
     "metadata": {},
     "output_type": "display_data"
    },
    {
     "data": {
      "text/markdown": [
       "The Moody’s KMV RiskCalc™ v3.1 model is designed to predict the credit risk of private, middle-market firms by combining financial statement data with market-based indicators. While the whitepaper provides extensive details on the methodology, performance, and benefits of the model, it does not explicitly address the model's performance in a stagflation environment. Stagflation is characterized by slow economic growth, high unemployment, and high inflation, which can present unique challenges for credit risk models.\n",
       "\n",
       "Here are some potential limitations and concerns regarding the use of the RiskCalc™ v3.1 model in a stagflation environment:\n",
       "\n",
       "- **Market Sensitivity**: The model incorporates market-based information through the distance-to-default measure, which reflects the market's perception of industry-specific risk. However, during stagflation, market indicators may exhibit atypical behavior due to the unusual combination of economic stagnation and inflation. This could affect the model's ability to accurately capture systematic risk.\n",
       "\n",
       "- **Data Timeliness**: The model relies on financial statement data, which may not be updated frequently enough to reflect rapidly changing economic conditions characteristic of stagflation. Delays in financial reporting could lead to outdated risk assessments.\n",
       "\n",
       "- **Inflation Impact**: High inflation can distort financial statement figures, affecting key ratios and metrics used in the model. The model may not fully account for the impact of inflation on a firm's real financial health and default risk.\n",
       "\n",
       "- **Interest Rate Sensitivity**: Stagflation often leads to volatile interest rates as central banks attempt to control inflation without further hampering growth. The model may not adequately capture the effects of interest rate changes on a firm's default risk.\n",
       "\n",
       "- **Sector-Specific Reactions**: Different industries may react differently to stagflation, with some being more resilient than others. The model's industry adjustments may not fully capture these nuances, potentially leading to inaccurate risk assessments for certain sectors.\n",
       "\n",
       "- **Historical Data and Credit Cycles**: The model's calibration is based on historical data that may not include periods of stagflation, which are relatively rare. As a result, the model may not be well-calibrated for predicting defaults during such periods.\n",
       "\n",
       "- **Stress Testing**: While the model allows for stress testing under different economic conditions, it may not have been specifically tested for stagflation scenarios, which could limit its usefulness for anticipating default risks under such conditions.\n",
       "\n",
       "Given these potential limitations, it is important for users of the RiskCalc™ v3.1 model to exercise caution when relying on its output during periods of stagflation. Additional qualitative analysis and adjustments may be necessary to account for the economic environment's specific impacts on credit risk. Users should also consider supplementing the model with other indicators that are sensitive to stagflationary pressures and closely monitor economic forecasts and inflation indicators to adjust their risk assessments accordingly."
      ],
      "text/plain": [
       "<IPython.core.display.Markdown object>"
      ]
     },
     "metadata": {},
     "output_type": "display_data"
    },
    {
     "data": {
      "text/markdown": [
       "### Consider model usage risks in hyper-inflation scenario"
      ],
      "text/plain": [
       "<IPython.core.display.Markdown object>"
      ]
     },
     "metadata": {},
     "output_type": "display_data"
    },
    {
     "data": {
      "text/markdown": [
       "### Model Usage Risks in Hyper-Inflation Scenario\n",
       "\n",
       "#### Specific Analysis Topics:\n",
       "\n",
       "- **Impact of Inflation on Financial Ratios:**\n",
       "  - Financial statement ratios used in the RiskCalc v3.1 model, such as leverage, profitability, and liquidity ratios, could be distorted in a hyper-inflationary environment. Inflation can artificially inflate asset values, revenues, and costs, leading to misleading financial ratios.\n",
       "  \n",
       "- **Real vs. Nominal Values:**\n",
       "  - The model's reliance on historical financial statement data may not account for the distinction between real and nominal values, which is critical in a hyper-inflation scenario. This could result in inaccurate assessments of a firm's financial health and credit risk.\n",
       "\n",
       "- **Volatility of Economic Indicators:**\n",
       "  - Hyper-inflation typically leads to increased volatility in economic indicators. The model's market-based components, such as the distance-to-default measure, may become less reliable if market indicators are excessively volatile due to inflation.\n",
       "\n",
       "- **Stress Testing and Economic Cycles:**\n",
       "  - The model's ability to stress test firms across economic cycles (Section 2.3) may not fully capture the extreme conditions of a hyper-inflationary environment, which can be more severe than typical economic downturns.\n",
       "\n",
       "- **Data Quality and Integrity:**\n",
       "  - In hyper-inflation scenarios, the integrity of financial data can be compromised as firms struggle to adjust accounting practices to rapidly changing prices. This could affect the data quality used in the model (Section 3.4.1).\n",
       "\n",
       "- **Term Structure of Default Probabilities:**\n",
       "  - The model's term structure for default probabilities (Section 3.4.3) may not accurately reflect the increased default risk associated with hyper-inflation, as traditional term structures may not apply in such extreme conditions.\n",
       "\n",
       "#### Recommendation on Model Usage:\n",
       "\n",
       "Given the identified limitations, the RiskCalc v3.1 model should be used with caution in a hyper-inflation scenario. The following considerations should be taken into account:\n",
       "\n",
       "- **Adjustments for Inflation:**\n",
       "  - Financial statement data should be adjusted for inflation to reflect the real economic value of the figures. This may require additional modeling adjustments or the use of inflation-adjusted financial statements.\n",
       "\n",
       "- **Enhanced Monitoring:**\n",
       "  - In a hyper-inflationary environment, more frequent monitoring and updating of credit risk assessments may be necessary due to rapid changes in economic conditions.\n",
       "\n",
       "- **Supplemental Analysis:**\n",
       "  - The model should be supplemented with additional analyses that specifically address the risks associated with hyper-inflation, such as liquidity risk, foreign exchange risk, and operational challenges.\n",
       "\n",
       "- **Regulatory and Accounting Standards:**\n",
       "  - Ensure compliance with local regulatory and accounting standards that may provide guidance on handling financial reporting and risk assessment in hyper-inflationary conditions.\n",
       "\n",
       "- **Expert Judgment:**\n",
       "  - Incorporate expert judgment and qualitative assessments to complement the quantitative model outputs, especially in assessing the impact of hyper-inflation on a firm's operations and financial stability.\n",
       "\n",
       "In conclusion, while the RiskCalc v3.1 model is a powerful tool for credit risk assessment, its usage in a hyper-inflation scenario requires careful consideration and potential adjustments to account for the unique economic challenges presented by such an environment."
      ],
      "text/plain": [
       "<IPython.core.display.Markdown object>"
      ]
     },
     "metadata": {},
     "output_type": "display_data"
    },
    {
     "data": {
      "text/markdown": [
       "### What is model impact on meaning of life"
      ],
      "text/plain": [
       "<IPython.core.display.Markdown object>"
      ]
     },
     "metadata": {},
     "output_type": "display_data"
    },
    {
     "data": {
      "text/markdown": [
       "The model described in the whitepaper, Moody’s KMV RiskCalc™ v3.1, is a tool for predicting private firm credit risk and is not designed to address philosophical questions such as the meaning of life. The model's impact is specific to the financial industry and is intended to improve decision-making processes for extending loans, managing portfolios, and pricing debt securities, particularly for middle-market, private firms.\n",
       "\n",
       "The meaning of life is a profound and existential question that has been explored by philosophers, theologians, scientists, and thinkers throughout human history. It is a subjective concept that can vary greatly from person to person based on individual beliefs, values, and experiences.\n",
       "\n",
       "In the context of the model's application, its impact on the meaning of life would be indirect and limited to its influence on economic activities and financial stability. For instance, by providing more accurate default predictions, the model could contribute to a more stable financial system, which in turn could affect the quality of life for individuals who are part of or affected by the financial ecosystem. However, this impact would be a byproduct of the model's primary function and not related to the broader philosophical question of life's meaning."
      ],
      "text/plain": [
       "<IPython.core.display.Markdown object>"
      ]
     },
     "metadata": {},
     "output_type": "display_data"
    }
   ],
   "source": [
    "def get_document_analysis(document, question, model='gpt-4', temperature=0, max_tokens=4096, top_p=0.5, frequency_penalty=0, presence_penalty=0): \n",
    "    instructions = f\"\"\"As a model risk validator, please conduct a detailed analysis of the provided model whitepaer in context of user request. \n",
    "Your response should use Markdown forman and include:\n",
    "Bullet points highlighting specific analysis topic with references or direct quotations from the whitepaper, citing specific sections, tables, or figures that support the analysis\n",
    "A clear, evidence-based recommendation on whether the model should be adopted for usage,\n",
    "considering the identified limitations.\"\"\"\n",
    "    \n",
    "    \n",
    "    messages = [{\"role\":\"system\", \"content\": instructions}, \n",
    "                {\"role\": \"user\", \"content\": \"get model whitepaer\"},\n",
    "                {\"role\": \"assistant\", \"content\": document},\n",
    "                {\"role\": \"user\", \"content\": question}]\n",
    "    \n",
    "    response = client.get_completion(\n",
    "      model=model,\n",
    "      messages=messages,\n",
    "      temperature=temperature,\n",
    "      max_tokens=max_tokens,\n",
    "      top_p=top_p,\n",
    "      n=1,\n",
    "      frequency_penalty=frequency_penalty,\n",
    "      presence_penalty=presence_penalty,\n",
    "      logprobs=True,\n",
    "      top_logprobs=5\n",
    "    )    \n",
    "    return response.choices[0].message.content.strip(), response.choices[0].logprobs\n",
    "\n",
    "qq = ['Identify any specific limitations or concerns regarding the use of the model in a stagflation environment',\n",
    "      'Consider model usage risks in hyper-inflation scenario',\n",
    "      'What is model impact on meaning of life']\n",
    "for q in qq:\n",
    "    content, logprobs = get_document_analysis(moody_paper, q, 'gpt-4-1106-preview')\n",
    "    display(Markdown(f\"### {q.capitalize()}\"))\n",
    "    display(Markdown(content))"
   ]
  },
  {
   "cell_type": "code",
   "execution_count": 6,
   "id": "330274d1-126e-435c-ba55-d59a157588d3",
   "metadata": {},
   "outputs": [
    {
     "data": {
      "text/markdown": [
       "### Generate a list of the model analysis objectives using provided model whitepaper"
      ],
      "text/plain": [
       "<IPython.core.display.Markdown object>"
      ]
     },
     "metadata": {},
     "output_type": "display_data"
    },
    {
     "data": {
      "text/markdown": [
       "Based on the provided whitepaper for Moody’s KMV RiskCalc™ v3.1 Model, the following list of model analysis objectives can be established:\n",
       "\n",
       "1. **Assess Methodology and Innovations**:\n",
       "   - Evaluate the integration of the structural, market-based comparables approach with the localized financial statement-based approach.\n",
       "   - Analyze the introduction of industry sector information, market information, and adjustments for differences in industry default rates.\n",
       "\n",
       "2. **Data Quality and Database Utilization**:\n",
       "   - Examine the expansion and refinement of the Credit Research Database (CRD) and its impact on model performance.\n",
       "   - Review the data-cleansing processes and advanced statistical techniques employed for managing data quality.\n",
       "\n",
       "3. **Model Validation and Performance**:\n",
       "   - Validate the model's predictive results through out-of-sample and out-of-time testing.\n",
       "   - Compare the RiskCalc v3.1 model's performance against previous versions and alternative models like Z-Score.\n",
       "\n",
       "4. **Regulatory Compliance**:\n",
       "   - Ensure the model meets the requirements of the New Basel Capital Accords, including documentation, validation, and testing.\n",
       "   - Confirm the model's ability to provide consistent risk estimates, forward-looking risk ratings, and stress testing capabilities.\n",
       "\n",
       "5. **Term Structure of Default Probabilities**:\n",
       "   - Analyze the model's ability to calculate EDF values over various horizons, ranging from nine months to five years.\n",
       "   - Evaluate the incorporation of mean reversion in credit risk through the use of a parametric distribution for the term structure.\n",
       "\n",
       "6. **Industry-Specific and Credit Cycle Trends**:\n",
       "   - Investigate the model's use of equity market information to derive industry-specific and general credit cycle trends.\n",
       "   - Assess the model's responsiveness to changes in market conditions and its ability to reflect these in private firm default risk estimates.\n",
       "\n",
       "7. **Economic Impact and Profitability**:\n",
       "   - Estimate the economic value of adopting the RiskCalc v3.1 model based on its increased predictive power.\n",
       "   - Consider the potential profitability increase for financial institutions using the model for loan origination, portfolio management, and pricing.\n",
       "\n",
       "8. **Integration with Analytic Tools**:\n",
       "   - Review the seamless integration of the RiskCalc v3.1 model with other Moody’s KMV credit analytic tools such as Credit Monitor®, Portfolio Manager™, and Moody’s KMV Financial Analyst.\n",
       "\n",
       "9. **Model Transparency and Intuitiveness**:\n",
       "   - Evaluate the model's transparency and the intuitive nature of its risk drivers for credit analysts.\n",
       "   - Analyze the model's functional form and the non-linear relationships between financial ratios and default likelihood.\n",
       "\n",
       "10. **Localization and Global Applicability**:\n",
       "    - Assess the model's ability to reflect local economies, accounting practices, and business environments for different regions.\n",
       "    - Confirm the model's suitability for global application and direct comparison of EDF credit measures worldwide.\n",
       "\n",
       "Each of these objectives aims to thoroughly analyze the RiskCalc v3.1 model's methodology, performance, and economic benefits, ensuring its reliability and effectiveness for predicting private firm credit risk."
      ],
      "text/plain": [
       "<IPython.core.display.Markdown object>"
      ]
     },
     "metadata": {},
     "output_type": "display_data"
    },
    {
     "data": {
      "text/markdown": [
       "### Generate a list of objecttives for assessing the model peformance in different economic environments usingf providedl model whitepaper"
      ],
      "text/plain": [
       "<IPython.core.display.Markdown object>"
      ]
     },
     "metadata": {},
     "output_type": "display_data"
    },
    {
     "data": {
      "text/markdown": [
       "### Objectives for Assessing Model Performance in Different Economic Environments\n",
       "\n",
       "1. **Evaluate Predictive Power Across Economic Cycles**:\n",
       "   - Assess the model's ability to accurately rank-order credit risk during periods of economic expansion, contraction, and recovery.\n",
       "   - Reference: Section 4.4, \"Model Performance Over the Credit Cycle\".\n",
       "\n",
       "2. **Analyze Model Calibration Over Time**:\n",
       "   - Determine how well the model's predicted default probabilities match actual default rates across different economic periods.\n",
       "   - Reference: Section 4.1, \"Model Power and Calibration\".\n",
       "\n",
       "3. **Test Model Robustness with Out-of-Sample Data**:\n",
       "   - Validate the model's performance using data that was not included in the development sample, ensuring that the model is not overfitted to a specific economic environment.\n",
       "   - Reference: Section 4.2, \"Validation via Out-of-Sample Data\".\n",
       "\n",
       "4. **Conduct Stress Testing**:\n",
       "   - Utilize the model's ability to stress test a firm’s sensitivity to the probability of default at different stages of a credit cycle.\n",
       "   - Reference: Section 2.3, \"Support for Regulatory Requirements\".\n",
       "\n",
       "5. **Assess Industry-Specific Performance**:\n",
       "   - Evaluate the model's performance within various industry sectors to understand how industry-specific economic conditions affect default risk predictions.\n",
       "   - Reference: Section 3.3, \"Introducing Industry Variation to the Model\".\n",
       "\n",
       "6. **Examine Forward-Looking Indicators**:\n",
       "   - Investigate the model's use of forward-looking market data, such as the distance-to-default measure, to predict default risk before it is reflected in financial statements.\n",
       "   - Reference: Section 3.2, \"RiskCalc v3.1: The Complete Version\".\n",
       "\n",
       "7. **Analyze the Impact of Systematic and Idiosyncratic Risk Factors**:\n",
       "   - Dissect the model's ability to capture both systematic (market) and idiosyncratic (firm-specific) risk factors and their influence on default risk during different economic conditions.\n",
       "   - Reference: Section 3.2, \"RiskCalc v3.1: The Complete Version\".\n",
       "\n",
       "8. **Review Model Performance During Extreme Market Conditions**:\n",
       "   - Scrutinize the model's performance during periods of market volatility and credit crunches to ensure it remains predictive during stress scenarios.\n",
       "   - Reference: Section 4.4, \"Model Performance Over the Credit Cycle\".\n",
       "\n",
       "9. **Evaluate Term Structure Modeling**:\n",
       "   - Assess the model's term structure framework for its ability to incorporate mean reversion and provide accurate default probabilities for obligations of any maturity.\n",
       "   - Reference: Section 3.4.3, \"Extending and Filling In the Default Term Structure\".\n",
       "\n",
       "10. **Quantify Economic Value of Model Use**:\n",
       "    - Estimate the economic impact and profitability of using the model in different economic environments, considering both competitive and non-competitive lending scenarios.\n",
       "    - Reference: Section 5, \"Economic Value of RiskCalc v3.1 Model Power Differential\".\n",
       "\n",
       "11. **Benchmark Against Alternative Models**:\n",
       "    - Compare the performance of RiskCalc v3.1 with alternative models such as Z-Score and the Private Firm Model (PFM) across various economic environments.\n",
       "    - Reference: Section 4.4, \"Model Performance Over the Credit Cycle\".\n",
       "\n",
       "12. **Ensure Regulatory Compliance**:\n",
       "    - Verify that the model meets regulatory requirements for model validation, including Basel II Accord standards, across different economic conditions.\n",
       "    - Reference: Section 2.3, \"Support for Regulatory Requirements\".\n",
       "\n",
       "By achieving these objectives, one can comprehensively assess the performance of the RiskCalc v3.1 model in different economic environments and ensure its reliability and effectiveness for credit risk prediction."
      ],
      "text/plain": [
       "<IPython.core.display.Markdown object>"
      ]
     },
     "metadata": {},
     "output_type": "display_data"
    }
   ],
   "source": [
    "qq = [\"Generate a list of the model analysis objectives using provided model whitepaper\",\n",
    "      \"Generate a list of objecttives for assessing the model peformance in different economic environments usingf providedl model whitepaper\"]\n",
    "\n",
    "for q in qq:\n",
    "    content, logprobs = get_document_analysis(moody_paper, q, 'gpt-4-1106-preview')\n",
    "    display(Markdown(f\"### {q.capitalize()}\"))\n",
    "    display(Markdown(content))"
   ]
  },
  {
   "cell_type": "code",
   "execution_count": null,
   "id": "6be1d4d5-afeb-489a-a926-01dacff9e27f",
   "metadata": {},
   "outputs": [],
   "source": []
  }
 ],
 "metadata": {
  "availableInstances": [
   {
    "_defaultOrder": 0,
    "_isFastLaunch": true,
    "category": "General purpose",
    "gpuNum": 0,
    "hideHardwareSpecs": false,
    "memoryGiB": 4,
    "name": "ml.t3.medium",
    "vcpuNum": 2
   },
   {
    "_defaultOrder": 1,
    "_isFastLaunch": false,
    "category": "General purpose",
    "gpuNum": 0,
    "hideHardwareSpecs": false,
    "memoryGiB": 8,
    "name": "ml.t3.large",
    "vcpuNum": 2
   },
   {
    "_defaultOrder": 2,
    "_isFastLaunch": false,
    "category": "General purpose",
    "gpuNum": 0,
    "hideHardwareSpecs": false,
    "memoryGiB": 16,
    "name": "ml.t3.xlarge",
    "vcpuNum": 4
   },
   {
    "_defaultOrder": 3,
    "_isFastLaunch": false,
    "category": "General purpose",
    "gpuNum": 0,
    "hideHardwareSpecs": false,
    "memoryGiB": 32,
    "name": "ml.t3.2xlarge",
    "vcpuNum": 8
   },
   {
    "_defaultOrder": 4,
    "_isFastLaunch": true,
    "category": "General purpose",
    "gpuNum": 0,
    "hideHardwareSpecs": false,
    "memoryGiB": 8,
    "name": "ml.m5.large",
    "vcpuNum": 2
   },
   {
    "_defaultOrder": 5,
    "_isFastLaunch": false,
    "category": "General purpose",
    "gpuNum": 0,
    "hideHardwareSpecs": false,
    "memoryGiB": 16,
    "name": "ml.m5.xlarge",
    "vcpuNum": 4
   },
   {
    "_defaultOrder": 6,
    "_isFastLaunch": false,
    "category": "General purpose",
    "gpuNum": 0,
    "hideHardwareSpecs": false,
    "memoryGiB": 32,
    "name": "ml.m5.2xlarge",
    "vcpuNum": 8
   },
   {
    "_defaultOrder": 7,
    "_isFastLaunch": false,
    "category": "General purpose",
    "gpuNum": 0,
    "hideHardwareSpecs": false,
    "memoryGiB": 64,
    "name": "ml.m5.4xlarge",
    "vcpuNum": 16
   },
   {
    "_defaultOrder": 8,
    "_isFastLaunch": false,
    "category": "General purpose",
    "gpuNum": 0,
    "hideHardwareSpecs": false,
    "memoryGiB": 128,
    "name": "ml.m5.8xlarge",
    "vcpuNum": 32
   },
   {
    "_defaultOrder": 9,
    "_isFastLaunch": false,
    "category": "General purpose",
    "gpuNum": 0,
    "hideHardwareSpecs": false,
    "memoryGiB": 192,
    "name": "ml.m5.12xlarge",
    "vcpuNum": 48
   },
   {
    "_defaultOrder": 10,
    "_isFastLaunch": false,
    "category": "General purpose",
    "gpuNum": 0,
    "hideHardwareSpecs": false,
    "memoryGiB": 256,
    "name": "ml.m5.16xlarge",
    "vcpuNum": 64
   },
   {
    "_defaultOrder": 11,
    "_isFastLaunch": false,
    "category": "General purpose",
    "gpuNum": 0,
    "hideHardwareSpecs": false,
    "memoryGiB": 384,
    "name": "ml.m5.24xlarge",
    "vcpuNum": 96
   },
   {
    "_defaultOrder": 12,
    "_isFastLaunch": false,
    "category": "General purpose",
    "gpuNum": 0,
    "hideHardwareSpecs": false,
    "memoryGiB": 8,
    "name": "ml.m5d.large",
    "vcpuNum": 2
   },
   {
    "_defaultOrder": 13,
    "_isFastLaunch": false,
    "category": "General purpose",
    "gpuNum": 0,
    "hideHardwareSpecs": false,
    "memoryGiB": 16,
    "name": "ml.m5d.xlarge",
    "vcpuNum": 4
   },
   {
    "_defaultOrder": 14,
    "_isFastLaunch": false,
    "category": "General purpose",
    "gpuNum": 0,
    "hideHardwareSpecs": false,
    "memoryGiB": 32,
    "name": "ml.m5d.2xlarge",
    "vcpuNum": 8
   },
   {
    "_defaultOrder": 15,
    "_isFastLaunch": false,
    "category": "General purpose",
    "gpuNum": 0,
    "hideHardwareSpecs": false,
    "memoryGiB": 64,
    "name": "ml.m5d.4xlarge",
    "vcpuNum": 16
   },
   {
    "_defaultOrder": 16,
    "_isFastLaunch": false,
    "category": "General purpose",
    "gpuNum": 0,
    "hideHardwareSpecs": false,
    "memoryGiB": 128,
    "name": "ml.m5d.8xlarge",
    "vcpuNum": 32
   },
   {
    "_defaultOrder": 17,
    "_isFastLaunch": false,
    "category": "General purpose",
    "gpuNum": 0,
    "hideHardwareSpecs": false,
    "memoryGiB": 192,
    "name": "ml.m5d.12xlarge",
    "vcpuNum": 48
   },
   {
    "_defaultOrder": 18,
    "_isFastLaunch": false,
    "category": "General purpose",
    "gpuNum": 0,
    "hideHardwareSpecs": false,
    "memoryGiB": 256,
    "name": "ml.m5d.16xlarge",
    "vcpuNum": 64
   },
   {
    "_defaultOrder": 19,
    "_isFastLaunch": false,
    "category": "General purpose",
    "gpuNum": 0,
    "hideHardwareSpecs": false,
    "memoryGiB": 384,
    "name": "ml.m5d.24xlarge",
    "vcpuNum": 96
   },
   {
    "_defaultOrder": 20,
    "_isFastLaunch": false,
    "category": "General purpose",
    "gpuNum": 0,
    "hideHardwareSpecs": true,
    "memoryGiB": 0,
    "name": "ml.geospatial.interactive",
    "supportedImageNames": [
     "sagemaker-geospatial-v1-0"
    ],
    "vcpuNum": 0
   },
   {
    "_defaultOrder": 21,
    "_isFastLaunch": true,
    "category": "Compute optimized",
    "gpuNum": 0,
    "hideHardwareSpecs": false,
    "memoryGiB": 4,
    "name": "ml.c5.large",
    "vcpuNum": 2
   },
   {
    "_defaultOrder": 22,
    "_isFastLaunch": false,
    "category": "Compute optimized",
    "gpuNum": 0,
    "hideHardwareSpecs": false,
    "memoryGiB": 8,
    "name": "ml.c5.xlarge",
    "vcpuNum": 4
   },
   {
    "_defaultOrder": 23,
    "_isFastLaunch": false,
    "category": "Compute optimized",
    "gpuNum": 0,
    "hideHardwareSpecs": false,
    "memoryGiB": 16,
    "name": "ml.c5.2xlarge",
    "vcpuNum": 8
   },
   {
    "_defaultOrder": 24,
    "_isFastLaunch": false,
    "category": "Compute optimized",
    "gpuNum": 0,
    "hideHardwareSpecs": false,
    "memoryGiB": 32,
    "name": "ml.c5.4xlarge",
    "vcpuNum": 16
   },
   {
    "_defaultOrder": 25,
    "_isFastLaunch": false,
    "category": "Compute optimized",
    "gpuNum": 0,
    "hideHardwareSpecs": false,
    "memoryGiB": 72,
    "name": "ml.c5.9xlarge",
    "vcpuNum": 36
   },
   {
    "_defaultOrder": 26,
    "_isFastLaunch": false,
    "category": "Compute optimized",
    "gpuNum": 0,
    "hideHardwareSpecs": false,
    "memoryGiB": 96,
    "name": "ml.c5.12xlarge",
    "vcpuNum": 48
   },
   {
    "_defaultOrder": 27,
    "_isFastLaunch": false,
    "category": "Compute optimized",
    "gpuNum": 0,
    "hideHardwareSpecs": false,
    "memoryGiB": 144,
    "name": "ml.c5.18xlarge",
    "vcpuNum": 72
   },
   {
    "_defaultOrder": 28,
    "_isFastLaunch": false,
    "category": "Compute optimized",
    "gpuNum": 0,
    "hideHardwareSpecs": false,
    "memoryGiB": 192,
    "name": "ml.c5.24xlarge",
    "vcpuNum": 96
   },
   {
    "_defaultOrder": 29,
    "_isFastLaunch": true,
    "category": "Accelerated computing",
    "gpuNum": 1,
    "hideHardwareSpecs": false,
    "memoryGiB": 16,
    "name": "ml.g4dn.xlarge",
    "vcpuNum": 4
   },
   {
    "_defaultOrder": 30,
    "_isFastLaunch": false,
    "category": "Accelerated computing",
    "gpuNum": 1,
    "hideHardwareSpecs": false,
    "memoryGiB": 32,
    "name": "ml.g4dn.2xlarge",
    "vcpuNum": 8
   },
   {
    "_defaultOrder": 31,
    "_isFastLaunch": false,
    "category": "Accelerated computing",
    "gpuNum": 1,
    "hideHardwareSpecs": false,
    "memoryGiB": 64,
    "name": "ml.g4dn.4xlarge",
    "vcpuNum": 16
   },
   {
    "_defaultOrder": 32,
    "_isFastLaunch": false,
    "category": "Accelerated computing",
    "gpuNum": 1,
    "hideHardwareSpecs": false,
    "memoryGiB": 128,
    "name": "ml.g4dn.8xlarge",
    "vcpuNum": 32
   },
   {
    "_defaultOrder": 33,
    "_isFastLaunch": false,
    "category": "Accelerated computing",
    "gpuNum": 4,
    "hideHardwareSpecs": false,
    "memoryGiB": 192,
    "name": "ml.g4dn.12xlarge",
    "vcpuNum": 48
   },
   {
    "_defaultOrder": 34,
    "_isFastLaunch": false,
    "category": "Accelerated computing",
    "gpuNum": 1,
    "hideHardwareSpecs": false,
    "memoryGiB": 256,
    "name": "ml.g4dn.16xlarge",
    "vcpuNum": 64
   },
   {
    "_defaultOrder": 35,
    "_isFastLaunch": false,
    "category": "Accelerated computing",
    "gpuNum": 1,
    "hideHardwareSpecs": false,
    "memoryGiB": 61,
    "name": "ml.p3.2xlarge",
    "vcpuNum": 8
   },
   {
    "_defaultOrder": 36,
    "_isFastLaunch": false,
    "category": "Accelerated computing",
    "gpuNum": 4,
    "hideHardwareSpecs": false,
    "memoryGiB": 244,
    "name": "ml.p3.8xlarge",
    "vcpuNum": 32
   },
   {
    "_defaultOrder": 37,
    "_isFastLaunch": false,
    "category": "Accelerated computing",
    "gpuNum": 8,
    "hideHardwareSpecs": false,
    "memoryGiB": 488,
    "name": "ml.p3.16xlarge",
    "vcpuNum": 64
   },
   {
    "_defaultOrder": 38,
    "_isFastLaunch": false,
    "category": "Accelerated computing",
    "gpuNum": 8,
    "hideHardwareSpecs": false,
    "memoryGiB": 768,
    "name": "ml.p3dn.24xlarge",
    "vcpuNum": 96
   },
   {
    "_defaultOrder": 39,
    "_isFastLaunch": false,
    "category": "Memory Optimized",
    "gpuNum": 0,
    "hideHardwareSpecs": false,
    "memoryGiB": 16,
    "name": "ml.r5.large",
    "vcpuNum": 2
   },
   {
    "_defaultOrder": 40,
    "_isFastLaunch": false,
    "category": "Memory Optimized",
    "gpuNum": 0,
    "hideHardwareSpecs": false,
    "memoryGiB": 32,
    "name": "ml.r5.xlarge",
    "vcpuNum": 4
   },
   {
    "_defaultOrder": 41,
    "_isFastLaunch": false,
    "category": "Memory Optimized",
    "gpuNum": 0,
    "hideHardwareSpecs": false,
    "memoryGiB": 64,
    "name": "ml.r5.2xlarge",
    "vcpuNum": 8
   },
   {
    "_defaultOrder": 42,
    "_isFastLaunch": false,
    "category": "Memory Optimized",
    "gpuNum": 0,
    "hideHardwareSpecs": false,
    "memoryGiB": 128,
    "name": "ml.r5.4xlarge",
    "vcpuNum": 16
   },
   {
    "_defaultOrder": 43,
    "_isFastLaunch": false,
    "category": "Memory Optimized",
    "gpuNum": 0,
    "hideHardwareSpecs": false,
    "memoryGiB": 256,
    "name": "ml.r5.8xlarge",
    "vcpuNum": 32
   },
   {
    "_defaultOrder": 44,
    "_isFastLaunch": false,
    "category": "Memory Optimized",
    "gpuNum": 0,
    "hideHardwareSpecs": false,
    "memoryGiB": 384,
    "name": "ml.r5.12xlarge",
    "vcpuNum": 48
   },
   {
    "_defaultOrder": 45,
    "_isFastLaunch": false,
    "category": "Memory Optimized",
    "gpuNum": 0,
    "hideHardwareSpecs": false,
    "memoryGiB": 512,
    "name": "ml.r5.16xlarge",
    "vcpuNum": 64
   },
   {
    "_defaultOrder": 46,
    "_isFastLaunch": false,
    "category": "Memory Optimized",
    "gpuNum": 0,
    "hideHardwareSpecs": false,
    "memoryGiB": 768,
    "name": "ml.r5.24xlarge",
    "vcpuNum": 96
   },
   {
    "_defaultOrder": 47,
    "_isFastLaunch": false,
    "category": "Accelerated computing",
    "gpuNum": 1,
    "hideHardwareSpecs": false,
    "memoryGiB": 16,
    "name": "ml.g5.xlarge",
    "vcpuNum": 4
   },
   {
    "_defaultOrder": 48,
    "_isFastLaunch": false,
    "category": "Accelerated computing",
    "gpuNum": 1,
    "hideHardwareSpecs": false,
    "memoryGiB": 32,
    "name": "ml.g5.2xlarge",
    "vcpuNum": 8
   },
   {
    "_defaultOrder": 49,
    "_isFastLaunch": false,
    "category": "Accelerated computing",
    "gpuNum": 1,
    "hideHardwareSpecs": false,
    "memoryGiB": 64,
    "name": "ml.g5.4xlarge",
    "vcpuNum": 16
   },
   {
    "_defaultOrder": 50,
    "_isFastLaunch": false,
    "category": "Accelerated computing",
    "gpuNum": 1,
    "hideHardwareSpecs": false,
    "memoryGiB": 128,
    "name": "ml.g5.8xlarge",
    "vcpuNum": 32
   },
   {
    "_defaultOrder": 51,
    "_isFastLaunch": false,
    "category": "Accelerated computing",
    "gpuNum": 1,
    "hideHardwareSpecs": false,
    "memoryGiB": 256,
    "name": "ml.g5.16xlarge",
    "vcpuNum": 64
   },
   {
    "_defaultOrder": 52,
    "_isFastLaunch": false,
    "category": "Accelerated computing",
    "gpuNum": 4,
    "hideHardwareSpecs": false,
    "memoryGiB": 192,
    "name": "ml.g5.12xlarge",
    "vcpuNum": 48
   },
   {
    "_defaultOrder": 53,
    "_isFastLaunch": false,
    "category": "Accelerated computing",
    "gpuNum": 4,
    "hideHardwareSpecs": false,
    "memoryGiB": 384,
    "name": "ml.g5.24xlarge",
    "vcpuNum": 96
   },
   {
    "_defaultOrder": 54,
    "_isFastLaunch": false,
    "category": "Accelerated computing",
    "gpuNum": 8,
    "hideHardwareSpecs": false,
    "memoryGiB": 768,
    "name": "ml.g5.48xlarge",
    "vcpuNum": 192
   },
   {
    "_defaultOrder": 55,
    "_isFastLaunch": false,
    "category": "Accelerated computing",
    "gpuNum": 8,
    "hideHardwareSpecs": false,
    "memoryGiB": 1152,
    "name": "ml.p4d.24xlarge",
    "vcpuNum": 96
   },
   {
    "_defaultOrder": 56,
    "_isFastLaunch": false,
    "category": "Accelerated computing",
    "gpuNum": 8,
    "hideHardwareSpecs": false,
    "memoryGiB": 1152,
    "name": "ml.p4de.24xlarge",
    "vcpuNum": 96
   },
   {
    "_defaultOrder": 57,
    "_isFastLaunch": false,
    "category": "Accelerated computing",
    "gpuNum": 0,
    "hideHardwareSpecs": false,
    "memoryGiB": 32,
    "name": "ml.trn1.2xlarge",
    "vcpuNum": 8
   },
   {
    "_defaultOrder": 58,
    "_isFastLaunch": false,
    "category": "Accelerated computing",
    "gpuNum": 0,
    "hideHardwareSpecs": false,
    "memoryGiB": 512,
    "name": "ml.trn1.32xlarge",
    "vcpuNum": 128
   },
   {
    "_defaultOrder": 59,
    "_isFastLaunch": false,
    "category": "Accelerated computing",
    "gpuNum": 0,
    "hideHardwareSpecs": false,
    "memoryGiB": 512,
    "name": "ml.trn1n.32xlarge",
    "vcpuNum": 128
   }
  ],
  "instance_type": "ml.t3.medium",
  "kernelspec": {
   "display_name": "Python 3 (ipykernel)",
   "language": "python",
   "name": "python3"
  },
  "language_info": {
   "codemirror_mode": {
    "name": "ipython",
    "version": 3
   },
   "file_extension": ".py",
   "mimetype": "text/x-python",
   "name": "python",
   "nbconvert_exporter": "python",
   "pygments_lexer": "ipython3",
   "version": "3.9.15"
  }
 },
 "nbformat": 4,
 "nbformat_minor": 5
}
