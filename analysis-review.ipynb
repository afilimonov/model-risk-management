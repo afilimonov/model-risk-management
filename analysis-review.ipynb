{
 "cells": [
  {
   "cell_type": "code",
   "execution_count": 1,
   "id": "f1bfd14f",
   "metadata": {
    "tags": []
   },
   "outputs": [],
   "source": [
    "import os\n",
    "import json\n",
    "import time\n",
    "from IPython.display import Markdown, display\n",
    "import requests\n",
    "import textwrap\n",
    "from llama_index.core.llms import ChatMessage\n",
    "from llama_index.llms.openai import OpenAI\n",
    "from utils import read_file, save_file\n",
    "from dotenv import load_dotenv"
   ]
  },
  {
   "cell_type": "code",
   "execution_count": 26,
   "id": "6e511f10",
   "metadata": {
    "tags": []
   },
   "outputs": [],
   "source": [
    "load_dotenv()\n",
    "analsis_gpt4_turbo_1 = read_file('reports/moody-risk-calc-analysis-gpt-4-turbo-1.md')\n",
    "analsis_claude_1 = read_file('reports/moody-risk-calc-analysis-cloude-21-1.md')\n",
    "moody_paper = read_file('data/whitepaper/riskcalc-3.1-whitepaper.txt')"
   ]
  },
  {
   "cell_type": "code",
   "execution_count": 7,
   "id": "63398be5-78c6-4ab4-ae6e-96c1ce19faaa",
   "metadata": {
    "tags": []
   },
   "outputs": [],
   "source": [
    "br = boto3.client(service_name='bedrock')\n",
    "model_summaries = br.list_foundation_models()['modelSummaries']\n",
    "#print(json.dumps(model_summaries, indent=4))"
   ]
  },
  {
   "cell_type": "code",
   "execution_count": 28,
   "id": "bb9a2b32-7b69-49e8-aa24-7141d25ae13d",
   "metadata": {
    "tags": []
   },
   "outputs": [],
   "source": [
    "def review_claude(document, question, analysis, model='anthropic.claude-v2:1', temperature=0, tokens=3000, top_p=0.9, top_k=250):\n",
    "    instructions = f\"\"\"Human: Act as a reviewer to prvide effective challenge of model analysis document.\n",
    "Focus on reviewing and challenging model analyssis document and not the model itself.\n",
    "You are provided with model whitepaper, analysis objective, and analysis document to perform the peromrme effective challenge. \n",
    "Your response should use well formatted Markdown forman and include:\n",
    "Bullet points highlighting specific observiation, concerns and limitation with direct quotations from the \n",
    "model analsisis document citing specific sections that support the challenge.\n",
    "A clear, evidence-based sumary of finding and recommendations for improving analysis document.\n",
    "<whitepaper>\n",
    "{document}\n",
    "</whitepaper>\n",
    "<objective>\n",
    "{question}\n",
    "</objective>\n",
    "<analysis>\n",
    "{analysis}\n",
    "Assistant:\"\"\"\n",
    "    \n",
    "    brt = boto3.client(service_name='bedrock-runtime')\n",
    "    \n",
    "    body = json.dumps({\n",
    "    \"prompt\": instructions,\n",
    "    \"max_tokens_to_sample\": tokens,\n",
    "    \"temperature\": temperature,\n",
    "    \"top_p\": top_p,\n",
    "    \"top_k\": top_k\n",
    "    })\n",
    "\n",
    "    accept = 'application/json'\n",
    "    contentType = 'application/json'\n",
    "\n",
    "    response = brt.invoke_model(body=body, modelId=model, accept=accept, contentType=contentType)\n",
    "\n",
    "    response_body = json.loads(response.get('body').read())\n",
    "\n",
    "    return response_body.get('completion')"
   ]
  },
  {
   "cell_type": "code",
   "execution_count": 23,
   "id": "a3150a40-81e0-4928-9b23-411d829f40ff",
   "metadata": {
    "tags": []
   },
   "outputs": [],
   "source": [
    "def review(document, question, analysis, model='gpt-4', temperature=0, max_tokens=4096, top_p=0.5, frequency_penalty=0, presence_penalty=0): \n",
    "    instructions = f\"\"\"Act as a reviewer to prvide effective challenge of model analysis document.\n",
    "Focus on reviewing and challenging model analyssis document and not the model itself.\n",
    "You are provided with model whitepaper, analysis objective, and analysis document to perform the peromrme effective challenge. \n",
    "Your response should use well formatted Markdown forman and include:\n",
    "Bullet points highlighting specific observiation, concerns and limitation with direct quotations from the \n",
    "model analsisis document citing specific sections that support the challenge.\n",
    "A clear, evidence-based sumary of finding and recommendations for improving analysis document.\n",
    "<whitepaper>\n",
    "{document}\n",
    "</whitepaper>\n",
    "<objective>\n",
    "{question}\n",
    "</objective>\n",
    "<analysis>\n",
    "{analysis}\n",
    "</analysis>\"\"\"\n",
    "    \n",
    "    \n",
    "    messages = [\n",
    "        ChatMessage(role=\"system\", content=instructions)\n",
    "        #ChatMessage(role=\"assistant\", content=\"provide model whitepaper\"),\n",
    "        #ChatMessage(role=\"user\", content=document),\n",
    "        #ChatMessage(role=\"assistant\", content=\"what was analysis objective\"),\n",
    "        #ChatMessage(role=\"user\", content=question),\n",
    "        #ChatMessage(role=\"assistant\", content=\"provide analysis document\"),\n",
    "        #ChatMessage(role=\"user\", content=analysis)\n",
    "    ]\n",
    "\n",
    "    llm = OpenAI(  \n",
    "        api_key=os.environ.get('OPENAI_API_KEY'),  \n",
    "        model=model, \n",
    "        max_tokens=max_tokens,\n",
    "        top_p=top_p,\n",
    "        frequency_penalty=frequency_penalty,\n",
    "        presence_penalty=presence_penalty)  \n",
    "\n",
    "    response = llm.chat(messages)\n",
    "    return response.message.content"
   ]
  },
  {
   "cell_type": "code",
   "execution_count": 24,
   "id": "90a852eb",
   "metadata": {
    "tags": []
   },
   "outputs": [
    {
     "data": {
      "text/markdown": [
       "### Review and Challenge of Model Analysis Document\n",
       "\n",
       "#### Observations and Concerns\n",
       "\n",
       "- **Economic Cycle Sensitivity**: The analysis raises a valid concern about the model's sensitivity to economic cycles, particularly stagflation. However, it does not provide specific evidence from the model's documentation that directly addresses how the model has performed historically during similar economic conditions. This gap in the analysis could be addressed by requesting historical performance data during past periods of stagflation or economic downturns.\n",
       "\n",
       "- **Utilization of Market-Based Information**: The concern regarding the reliability of market-based information during stagflation is well-founded. However, the analysis could benefit from a deeper dive into how the model's use of industry-level distance-to-default measures might be impacted specifically by stagflation. For instance, \"The model also incorporates industry-specific and economy-wide market information...\" could be further explored to understand the historical correlation between these measures and actual default rates during stagflation.\n",
       "\n",
       "- **Data Quality and Relevance**: The analysis mentions concerns about data quality and relevance but does not cite specific sections of the model documentation that discuss how the model updates its database or handles rapidly changing economic conditions. A challenge could be to identify whether the model's data refresh rates and sources are robust enough to capture the nuances of stagflation.\n",
       "\n",
       "- **Model Calibration and Validation**: While the analysis correctly identifies potential issues with model calibration and validation during stagflation, it stops short of challenging the model's existing validation processes. For example, \"RiskCalc v3.1 models are designed to meet the Basel II Accord’s stringent requirements for validating ratings...\" could be scrutinized to determine if these requirements adequately cover scenarios like stagflation.\n",
       "\n",
       "- **Industry-Specific Effects**: The analysis points out that stagflation impacts industries differently and questions whether the model's industry adjustments are sufficient. A more detailed challenge could involve examining the model's methodology for incorporating industry-specific trends and default rates to assess its comprehensiveness and accuracy.\n",
       "\n",
       "#### Summary of Findings and Recommendations\n",
       "\n",
       "The analysis document provides a thoughtful examination of the potential limitations and concerns regarding the use of the RiskCalc v3.1 model in a stagflation environment. However, the analysis could be strengthened by:\n",
       "\n",
       "- Requesting or referencing historical performance data of the model during past periods of economic stress similar to stagflation.\n",
       "- Conducting a more detailed examination of how market-based information and industry-specific adjustments are utilized and validated within the model, especially in the context of rapidly changing economic conditions.\n",
       "- Challenging the model's calibration and validation processes to ensure they are robust enough to handle unique economic scenarios like stagflation.\n",
       "- Recommending specific enhancements or supplementary measures, such as incorporating additional economic indicators sensitive to stagflation, to improve the model's accuracy and relevance during such periods.\n",
       "\n",
       "Overall, while the analysis raises important concerns, a more evidence-based approach, including direct citations from the model documentation and historical performance data, would provide a stronger foundation for the challenges and recommendations presented."
      ],
      "text/plain": [
       "<IPython.core.display.Markdown object>"
      ]
     },
     "metadata": {},
     "output_type": "display_data"
    }
   ],
   "source": [
    "q = 'Identify any specific limitations or concerns regarding the use of the model in a stagflation environment'\n",
    "\n",
    "content = review(moody_paper, q, analsis_gpt4_turbo_1, 'gpt-4-turbo-preview')\n",
    "display(Markdown(content))"
   ]
  },
  {
   "cell_type": "code",
   "execution_count": 32,
   "id": "30885ddc-1c25-4e6d-b47c-5a4062932dfd",
   "metadata": {
    "tags": []
   },
   "outputs": [
    {
     "data": {
      "text/markdown": [
       "### Review and Challenge of Model Analysis Document\n",
       "\n",
       "#### Observations and Concerns:\n",
       "\n",
       "- **Reliance on Market Data**: The model's incorporation of market data at the industry level to inform the distance-to-default measure could be a limitation in a stagflation environment. Market data might become less reliable if financial markets experience high volatility and uncertainty, which are common in stagflation scenarios. This concern is indirectly supported by the discussion in Section 3.2, where the importance of market-based information is highlighted.\n",
       "\n",
       "- **Historical Data and Unprecedented Scenarios**: The model's development and validation include data from volatile periods such as 2000-2002, which is commendable. However, stagflation presents a unique combination of high inflation and stagnant economic growth that may not be fully represented in historical data sets. The model's performance in such unprecedented scenarios could be uncertain, as indicated in the potential limitations section of the analysis document.\n",
       "\n",
       "- **Inflation Data Integration**: The analysis document suggests that direct inclusion of inflation data could potentially enhance the model's responsiveness to stagflation. This implies a limitation in the current model version, where explicit inflation metrics might not be directly accounted for, potentially affecting its predictive accuracy in high inflation environments.\n",
       "\n",
       "#### Summary of Findings and Recommendations:\n",
       "\n",
       "The RiskCalc v3.1 model demonstrates robust development, extensive validation, and the ability to stress test across various economic conditions, making it a valuable tool for assessing credit risk. However, specific limitations have been identified concerning its application in a stagflation environment, primarily related to its reliance on market data and the potential for unprecedented economic scenarios not fully captured in historical data.\n",
       "\n",
       "**Recommendations for Improving the Analysis Document**:\n",
       "\n",
       "1. **Enhance Transparency on Market Data Reliability**: Provide a more detailed discussion on how market data volatility, especially in stagflation scenarios, could impact the model's distance-to-default measure and overall predictive accuracy.\n",
       "\n",
       "2. **Incorporate Inflation Metrics**: Explore the feasibility of directly integrating inflation data into the model to enhance its responsiveness to stagflation. This could involve developing additional model variants or adjustments that account for inflationary pressures.\n",
       "\n",
       "3. **Expand Stress Testing Scenarios**: Include stress testing for hypothetical stagflation scenarios that go beyond historical data, using simulated data sets that capture extreme combinations of high inflation and low growth. This could help assess the model's robustness in unprecedented economic conditions.\n",
       "\n",
       "4. **Ongoing Model Monitoring and Updates**: Establish a framework for continuous monitoring of the model's performance across various economic cycles, with a particular focus on stagflation-like conditions. This should include regular updates to the model based on new economic data and insights.\n",
       "\n",
       "By addressing these recommendations, the analysis document can provide a more comprehensive evaluation of the RiskCalc v3.1 model's applicability in stagflation environments, enhancing its utility for decision-makers."
      ],
      "text/plain": [
       "<IPython.core.display.Markdown object>"
      ]
     },
     "metadata": {},
     "output_type": "display_data"
    }
   ],
   "source": [
    "q = 'Identify any specific limitations or concerns regarding the use of the model in a stagflation environment'\n",
    "\n",
    "content = review(moody_paper, q, analsis_claude_1, 'gpt-4-turbo-preview')\n",
    "display(Markdown(content))"
   ]
  },
  {
   "cell_type": "code",
   "execution_count": null,
   "id": "c16ca0a8-a755-4074-a8ba-e67009f291e1",
   "metadata": {},
   "outputs": [],
   "source": []
  }
 ],
 "metadata": {
  "availableInstances": [
   {
    "_defaultOrder": 0,
    "_isFastLaunch": true,
    "category": "General purpose",
    "gpuNum": 0,
    "hideHardwareSpecs": false,
    "memoryGiB": 4,
    "name": "ml.t3.medium",
    "vcpuNum": 2
   },
   {
    "_defaultOrder": 1,
    "_isFastLaunch": false,
    "category": "General purpose",
    "gpuNum": 0,
    "hideHardwareSpecs": false,
    "memoryGiB": 8,
    "name": "ml.t3.large",
    "vcpuNum": 2
   },
   {
    "_defaultOrder": 2,
    "_isFastLaunch": false,
    "category": "General purpose",
    "gpuNum": 0,
    "hideHardwareSpecs": false,
    "memoryGiB": 16,
    "name": "ml.t3.xlarge",
    "vcpuNum": 4
   },
   {
    "_defaultOrder": 3,
    "_isFastLaunch": false,
    "category": "General purpose",
    "gpuNum": 0,
    "hideHardwareSpecs": false,
    "memoryGiB": 32,
    "name": "ml.t3.2xlarge",
    "vcpuNum": 8
   },
   {
    "_defaultOrder": 4,
    "_isFastLaunch": true,
    "category": "General purpose",
    "gpuNum": 0,
    "hideHardwareSpecs": false,
    "memoryGiB": 8,
    "name": "ml.m5.large",
    "vcpuNum": 2
   },
   {
    "_defaultOrder": 5,
    "_isFastLaunch": false,
    "category": "General purpose",
    "gpuNum": 0,
    "hideHardwareSpecs": false,
    "memoryGiB": 16,
    "name": "ml.m5.xlarge",
    "vcpuNum": 4
   },
   {
    "_defaultOrder": 6,
    "_isFastLaunch": false,
    "category": "General purpose",
    "gpuNum": 0,
    "hideHardwareSpecs": false,
    "memoryGiB": 32,
    "name": "ml.m5.2xlarge",
    "vcpuNum": 8
   },
   {
    "_defaultOrder": 7,
    "_isFastLaunch": false,
    "category": "General purpose",
    "gpuNum": 0,
    "hideHardwareSpecs": false,
    "memoryGiB": 64,
    "name": "ml.m5.4xlarge",
    "vcpuNum": 16
   },
   {
    "_defaultOrder": 8,
    "_isFastLaunch": false,
    "category": "General purpose",
    "gpuNum": 0,
    "hideHardwareSpecs": false,
    "memoryGiB": 128,
    "name": "ml.m5.8xlarge",
    "vcpuNum": 32
   },
   {
    "_defaultOrder": 9,
    "_isFastLaunch": false,
    "category": "General purpose",
    "gpuNum": 0,
    "hideHardwareSpecs": false,
    "memoryGiB": 192,
    "name": "ml.m5.12xlarge",
    "vcpuNum": 48
   },
   {
    "_defaultOrder": 10,
    "_isFastLaunch": false,
    "category": "General purpose",
    "gpuNum": 0,
    "hideHardwareSpecs": false,
    "memoryGiB": 256,
    "name": "ml.m5.16xlarge",
    "vcpuNum": 64
   },
   {
    "_defaultOrder": 11,
    "_isFastLaunch": false,
    "category": "General purpose",
    "gpuNum": 0,
    "hideHardwareSpecs": false,
    "memoryGiB": 384,
    "name": "ml.m5.24xlarge",
    "vcpuNum": 96
   },
   {
    "_defaultOrder": 12,
    "_isFastLaunch": false,
    "category": "General purpose",
    "gpuNum": 0,
    "hideHardwareSpecs": false,
    "memoryGiB": 8,
    "name": "ml.m5d.large",
    "vcpuNum": 2
   },
   {
    "_defaultOrder": 13,
    "_isFastLaunch": false,
    "category": "General purpose",
    "gpuNum": 0,
    "hideHardwareSpecs": false,
    "memoryGiB": 16,
    "name": "ml.m5d.xlarge",
    "vcpuNum": 4
   },
   {
    "_defaultOrder": 14,
    "_isFastLaunch": false,
    "category": "General purpose",
    "gpuNum": 0,
    "hideHardwareSpecs": false,
    "memoryGiB": 32,
    "name": "ml.m5d.2xlarge",
    "vcpuNum": 8
   },
   {
    "_defaultOrder": 15,
    "_isFastLaunch": false,
    "category": "General purpose",
    "gpuNum": 0,
    "hideHardwareSpecs": false,
    "memoryGiB": 64,
    "name": "ml.m5d.4xlarge",
    "vcpuNum": 16
   },
   {
    "_defaultOrder": 16,
    "_isFastLaunch": false,
    "category": "General purpose",
    "gpuNum": 0,
    "hideHardwareSpecs": false,
    "memoryGiB": 128,
    "name": "ml.m5d.8xlarge",
    "vcpuNum": 32
   },
   {
    "_defaultOrder": 17,
    "_isFastLaunch": false,
    "category": "General purpose",
    "gpuNum": 0,
    "hideHardwareSpecs": false,
    "memoryGiB": 192,
    "name": "ml.m5d.12xlarge",
    "vcpuNum": 48
   },
   {
    "_defaultOrder": 18,
    "_isFastLaunch": false,
    "category": "General purpose",
    "gpuNum": 0,
    "hideHardwareSpecs": false,
    "memoryGiB": 256,
    "name": "ml.m5d.16xlarge",
    "vcpuNum": 64
   },
   {
    "_defaultOrder": 19,
    "_isFastLaunch": false,
    "category": "General purpose",
    "gpuNum": 0,
    "hideHardwareSpecs": false,
    "memoryGiB": 384,
    "name": "ml.m5d.24xlarge",
    "vcpuNum": 96
   },
   {
    "_defaultOrder": 20,
    "_isFastLaunch": false,
    "category": "General purpose",
    "gpuNum": 0,
    "hideHardwareSpecs": true,
    "memoryGiB": 0,
    "name": "ml.geospatial.interactive",
    "supportedImageNames": [
     "sagemaker-geospatial-v1-0"
    ],
    "vcpuNum": 0
   },
   {
    "_defaultOrder": 21,
    "_isFastLaunch": true,
    "category": "Compute optimized",
    "gpuNum": 0,
    "hideHardwareSpecs": false,
    "memoryGiB": 4,
    "name": "ml.c5.large",
    "vcpuNum": 2
   },
   {
    "_defaultOrder": 22,
    "_isFastLaunch": false,
    "category": "Compute optimized",
    "gpuNum": 0,
    "hideHardwareSpecs": false,
    "memoryGiB": 8,
    "name": "ml.c5.xlarge",
    "vcpuNum": 4
   },
   {
    "_defaultOrder": 23,
    "_isFastLaunch": false,
    "category": "Compute optimized",
    "gpuNum": 0,
    "hideHardwareSpecs": false,
    "memoryGiB": 16,
    "name": "ml.c5.2xlarge",
    "vcpuNum": 8
   },
   {
    "_defaultOrder": 24,
    "_isFastLaunch": false,
    "category": "Compute optimized",
    "gpuNum": 0,
    "hideHardwareSpecs": false,
    "memoryGiB": 32,
    "name": "ml.c5.4xlarge",
    "vcpuNum": 16
   },
   {
    "_defaultOrder": 25,
    "_isFastLaunch": false,
    "category": "Compute optimized",
    "gpuNum": 0,
    "hideHardwareSpecs": false,
    "memoryGiB": 72,
    "name": "ml.c5.9xlarge",
    "vcpuNum": 36
   },
   {
    "_defaultOrder": 26,
    "_isFastLaunch": false,
    "category": "Compute optimized",
    "gpuNum": 0,
    "hideHardwareSpecs": false,
    "memoryGiB": 96,
    "name": "ml.c5.12xlarge",
    "vcpuNum": 48
   },
   {
    "_defaultOrder": 27,
    "_isFastLaunch": false,
    "category": "Compute optimized",
    "gpuNum": 0,
    "hideHardwareSpecs": false,
    "memoryGiB": 144,
    "name": "ml.c5.18xlarge",
    "vcpuNum": 72
   },
   {
    "_defaultOrder": 28,
    "_isFastLaunch": false,
    "category": "Compute optimized",
    "gpuNum": 0,
    "hideHardwareSpecs": false,
    "memoryGiB": 192,
    "name": "ml.c5.24xlarge",
    "vcpuNum": 96
   },
   {
    "_defaultOrder": 29,
    "_isFastLaunch": true,
    "category": "Accelerated computing",
    "gpuNum": 1,
    "hideHardwareSpecs": false,
    "memoryGiB": 16,
    "name": "ml.g4dn.xlarge",
    "vcpuNum": 4
   },
   {
    "_defaultOrder": 30,
    "_isFastLaunch": false,
    "category": "Accelerated computing",
    "gpuNum": 1,
    "hideHardwareSpecs": false,
    "memoryGiB": 32,
    "name": "ml.g4dn.2xlarge",
    "vcpuNum": 8
   },
   {
    "_defaultOrder": 31,
    "_isFastLaunch": false,
    "category": "Accelerated computing",
    "gpuNum": 1,
    "hideHardwareSpecs": false,
    "memoryGiB": 64,
    "name": "ml.g4dn.4xlarge",
    "vcpuNum": 16
   },
   {
    "_defaultOrder": 32,
    "_isFastLaunch": false,
    "category": "Accelerated computing",
    "gpuNum": 1,
    "hideHardwareSpecs": false,
    "memoryGiB": 128,
    "name": "ml.g4dn.8xlarge",
    "vcpuNum": 32
   },
   {
    "_defaultOrder": 33,
    "_isFastLaunch": false,
    "category": "Accelerated computing",
    "gpuNum": 4,
    "hideHardwareSpecs": false,
    "memoryGiB": 192,
    "name": "ml.g4dn.12xlarge",
    "vcpuNum": 48
   },
   {
    "_defaultOrder": 34,
    "_isFastLaunch": false,
    "category": "Accelerated computing",
    "gpuNum": 1,
    "hideHardwareSpecs": false,
    "memoryGiB": 256,
    "name": "ml.g4dn.16xlarge",
    "vcpuNum": 64
   },
   {
    "_defaultOrder": 35,
    "_isFastLaunch": false,
    "category": "Accelerated computing",
    "gpuNum": 1,
    "hideHardwareSpecs": false,
    "memoryGiB": 61,
    "name": "ml.p3.2xlarge",
    "vcpuNum": 8
   },
   {
    "_defaultOrder": 36,
    "_isFastLaunch": false,
    "category": "Accelerated computing",
    "gpuNum": 4,
    "hideHardwareSpecs": false,
    "memoryGiB": 244,
    "name": "ml.p3.8xlarge",
    "vcpuNum": 32
   },
   {
    "_defaultOrder": 37,
    "_isFastLaunch": false,
    "category": "Accelerated computing",
    "gpuNum": 8,
    "hideHardwareSpecs": false,
    "memoryGiB": 488,
    "name": "ml.p3.16xlarge",
    "vcpuNum": 64
   },
   {
    "_defaultOrder": 38,
    "_isFastLaunch": false,
    "category": "Accelerated computing",
    "gpuNum": 8,
    "hideHardwareSpecs": false,
    "memoryGiB": 768,
    "name": "ml.p3dn.24xlarge",
    "vcpuNum": 96
   },
   {
    "_defaultOrder": 39,
    "_isFastLaunch": false,
    "category": "Memory Optimized",
    "gpuNum": 0,
    "hideHardwareSpecs": false,
    "memoryGiB": 16,
    "name": "ml.r5.large",
    "vcpuNum": 2
   },
   {
    "_defaultOrder": 40,
    "_isFastLaunch": false,
    "category": "Memory Optimized",
    "gpuNum": 0,
    "hideHardwareSpecs": false,
    "memoryGiB": 32,
    "name": "ml.r5.xlarge",
    "vcpuNum": 4
   },
   {
    "_defaultOrder": 41,
    "_isFastLaunch": false,
    "category": "Memory Optimized",
    "gpuNum": 0,
    "hideHardwareSpecs": false,
    "memoryGiB": 64,
    "name": "ml.r5.2xlarge",
    "vcpuNum": 8
   },
   {
    "_defaultOrder": 42,
    "_isFastLaunch": false,
    "category": "Memory Optimized",
    "gpuNum": 0,
    "hideHardwareSpecs": false,
    "memoryGiB": 128,
    "name": "ml.r5.4xlarge",
    "vcpuNum": 16
   },
   {
    "_defaultOrder": 43,
    "_isFastLaunch": false,
    "category": "Memory Optimized",
    "gpuNum": 0,
    "hideHardwareSpecs": false,
    "memoryGiB": 256,
    "name": "ml.r5.8xlarge",
    "vcpuNum": 32
   },
   {
    "_defaultOrder": 44,
    "_isFastLaunch": false,
    "category": "Memory Optimized",
    "gpuNum": 0,
    "hideHardwareSpecs": false,
    "memoryGiB": 384,
    "name": "ml.r5.12xlarge",
    "vcpuNum": 48
   },
   {
    "_defaultOrder": 45,
    "_isFastLaunch": false,
    "category": "Memory Optimized",
    "gpuNum": 0,
    "hideHardwareSpecs": false,
    "memoryGiB": 512,
    "name": "ml.r5.16xlarge",
    "vcpuNum": 64
   },
   {
    "_defaultOrder": 46,
    "_isFastLaunch": false,
    "category": "Memory Optimized",
    "gpuNum": 0,
    "hideHardwareSpecs": false,
    "memoryGiB": 768,
    "name": "ml.r5.24xlarge",
    "vcpuNum": 96
   },
   {
    "_defaultOrder": 47,
    "_isFastLaunch": false,
    "category": "Accelerated computing",
    "gpuNum": 1,
    "hideHardwareSpecs": false,
    "memoryGiB": 16,
    "name": "ml.g5.xlarge",
    "vcpuNum": 4
   },
   {
    "_defaultOrder": 48,
    "_isFastLaunch": false,
    "category": "Accelerated computing",
    "gpuNum": 1,
    "hideHardwareSpecs": false,
    "memoryGiB": 32,
    "name": "ml.g5.2xlarge",
    "vcpuNum": 8
   },
   {
    "_defaultOrder": 49,
    "_isFastLaunch": false,
    "category": "Accelerated computing",
    "gpuNum": 1,
    "hideHardwareSpecs": false,
    "memoryGiB": 64,
    "name": "ml.g5.4xlarge",
    "vcpuNum": 16
   },
   {
    "_defaultOrder": 50,
    "_isFastLaunch": false,
    "category": "Accelerated computing",
    "gpuNum": 1,
    "hideHardwareSpecs": false,
    "memoryGiB": 128,
    "name": "ml.g5.8xlarge",
    "vcpuNum": 32
   },
   {
    "_defaultOrder": 51,
    "_isFastLaunch": false,
    "category": "Accelerated computing",
    "gpuNum": 1,
    "hideHardwareSpecs": false,
    "memoryGiB": 256,
    "name": "ml.g5.16xlarge",
    "vcpuNum": 64
   },
   {
    "_defaultOrder": 52,
    "_isFastLaunch": false,
    "category": "Accelerated computing",
    "gpuNum": 4,
    "hideHardwareSpecs": false,
    "memoryGiB": 192,
    "name": "ml.g5.12xlarge",
    "vcpuNum": 48
   },
   {
    "_defaultOrder": 53,
    "_isFastLaunch": false,
    "category": "Accelerated computing",
    "gpuNum": 4,
    "hideHardwareSpecs": false,
    "memoryGiB": 384,
    "name": "ml.g5.24xlarge",
    "vcpuNum": 96
   },
   {
    "_defaultOrder": 54,
    "_isFastLaunch": false,
    "category": "Accelerated computing",
    "gpuNum": 8,
    "hideHardwareSpecs": false,
    "memoryGiB": 768,
    "name": "ml.g5.48xlarge",
    "vcpuNum": 192
   },
   {
    "_defaultOrder": 55,
    "_isFastLaunch": false,
    "category": "Accelerated computing",
    "gpuNum": 8,
    "hideHardwareSpecs": false,
    "memoryGiB": 1152,
    "name": "ml.p4d.24xlarge",
    "vcpuNum": 96
   },
   {
    "_defaultOrder": 56,
    "_isFastLaunch": false,
    "category": "Accelerated computing",
    "gpuNum": 8,
    "hideHardwareSpecs": false,
    "memoryGiB": 1152,
    "name": "ml.p4de.24xlarge",
    "vcpuNum": 96
   },
   {
    "_defaultOrder": 57,
    "_isFastLaunch": false,
    "category": "Accelerated computing",
    "gpuNum": 0,
    "hideHardwareSpecs": false,
    "memoryGiB": 32,
    "name": "ml.trn1.2xlarge",
    "vcpuNum": 8
   },
   {
    "_defaultOrder": 58,
    "_isFastLaunch": false,
    "category": "Accelerated computing",
    "gpuNum": 0,
    "hideHardwareSpecs": false,
    "memoryGiB": 512,
    "name": "ml.trn1.32xlarge",
    "vcpuNum": 128
   },
   {
    "_defaultOrder": 59,
    "_isFastLaunch": false,
    "category": "Accelerated computing",
    "gpuNum": 0,
    "hideHardwareSpecs": false,
    "memoryGiB": 512,
    "name": "ml.trn1n.32xlarge",
    "vcpuNum": 128
   }
  ],
  "instance_type": "ml.t3.medium",
  "kernelspec": {
   "display_name": "Python [conda env:ai-mrm] (arn:aws:sagemaker:us-east-1:081325390199:image/sagemaker-data-science-310-v1)",
   "language": "python",
   "name": "conda-env-ai-mrm-py__SAGEMAKER_INTERNAL__arn:aws:sagemaker:us-east-1:081325390199:image/sagemaker-data-science-310-v1"
  },
  "language_info": {
   "codemirror_mode": {
    "name": "ipython",
    "version": 3
   },
   "file_extension": ".py",
   "mimetype": "text/x-python",
   "name": "python",
   "nbconvert_exporter": "python",
   "pygments_lexer": "ipython3",
   "version": "3.9.19"
  }
 },
 "nbformat": 4,
 "nbformat_minor": 5
}
